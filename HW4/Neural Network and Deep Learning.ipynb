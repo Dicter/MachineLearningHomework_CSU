{
 "cells": [
  {
   "cell_type": "markdown",
   "metadata": {},
   "source": [
    "# Neural Networks & Deep Learning\n",
    "在这一节中，我们将构建一个三层的神经网络来处理手写数字识别问题，之后我们将运用AdaGrad、RMSprop、Momentum、Nesterov Momentum和Adam优化算法来加速梯度下降的过程，首先我们先来实现一个简单的神经网络。 \n",
    "\n",
    "## 1. 导入所需的Python库"
   ]
  },
  {
   "cell_type": "code",
   "execution_count": 1,
   "metadata": {},
   "outputs": [],
   "source": [
    "# coding: utf-8\n",
    "import numpy as np\n",
    "import matplotlib.pyplot as plt\n",
    "from utils import load_mnist"
   ]
  },
  {
   "cell_type": "code",
   "execution_count": 2,
   "metadata": {},
   "outputs": [],
   "source": [
    "from collections import OrderedDict"
   ]
  },
  {
   "cell_type": "markdown",
   "metadata": {},
   "source": [
    "## 2. 加载数据并可视化"
   ]
  },
  {
   "cell_type": "markdown",
   "metadata": {},
   "source": [
    "先介绍一下在这个实验中所用到的数据库MNIST，MNIST数据集是一个手写体数据集，其中每个手写数字是一张28×28的灰度图片，图片的标记为一个0-9表示的数字。  MNIST数据集一共有60000张图片用来作为训练集，10000张图片来作为测试集。  \n",
    "我们知道一张灰度图片一般是二维的，但是神经网络中的全连接层的输入是一个一维的向量。所以我们需要将一张二维的灰度图片“压扁”成一个一维的向量，具体如下图所示：\n",
    "<img src=\"./images/2d_to_1d.jpg\" width=\"300\" height=\"300\" alt=\"2d_to_1d\" align=center>\n",
    "\n",
    "因此每一个样本都是一个784维的向量。 \n",
    "\n",
    "在处理多分类任务时，我们可以使用softmax来进行处理，这里的手写数字识别任务就是一个多分类任务，共包含有10类，分别用数字0-9表示，而在softmax中，每一类可以表示为一个向量，所以我们需要将类对应的符号标记转化成一个向量表示，这就是one-hot向量，比如，在手写数字识别中，数字0和1对应的one-hot向量分别为： \n",
    "$$one-hot(0)=\\begin{bmatrix}1 \\\\ 0\\\\ 0\\\\ 0\\\\ 0\\\\ 0\\\\ 0\\\\ 0\\\\ 0\\\\ 0\\\\ \\end{bmatrix},one-hot(1)=\\begin{bmatrix}0 \\\\ 1\\\\ 0\\\\ 0\\\\ 0\\\\ 0\\\\ 0\\\\ 0\\\\ 0\\\\ 0\\\\ \\end{bmatrix}$$ \n",
    "在训练集中，我们需要把样本的标记$Y$转化为one-hot向量。 "
   ]
  },
  {
   "cell_type": "code",
   "execution_count": 3,
   "metadata": {},
   "outputs": [],
   "source": [
    "#加载训练集或测试集\n",
    "path = './MNIST Data' #数据集文件所在目录\n",
    "# 加载训练集合测试集\n",
    "# 设置normalization为True，将数据缩放到[0,1]之间\n",
    "# 设置one_hot_label为True，将标签转化为one_hot向量\n",
    "(x_train, y_train), (x_test, y_test) = load_mnist(path, normalize=True, one_hot_label=True)"
   ]
  },
  {
   "cell_type": "code",
   "execution_count": 4,
   "metadata": {},
   "outputs": [
    {
     "output_type": "stream",
     "name": "stdout",
     "text": [
      "The shape of X_train is: (60000, 784)\nThe shape of Y_train is: (60000, 10)\nThe shape of X_test is: (10000, 784)\nThe shape of Y_test is: (10000, 10)\n"
     ]
    }
   ],
   "source": [
    "print('The shape of X_train is:',x_train.shape)\n",
    "print('The shape of Y_train is:',y_train.shape)\n",
    "print('The shape of X_test is:',x_test.shape)\n",
    "print('The shape of Y_test is:',y_test.shape)"
   ]
  },
  {
   "cell_type": "markdown",
   "metadata": {},
   "source": [
    "下面在训练集中找几个图片看一下。"
   ]
  },
  {
   "cell_type": "code",
   "execution_count": 5,
   "metadata": {},
   "outputs": [
    {
     "output_type": "display_data",
     "data": {
      "text/plain": "<Figure size 432x288 with 4 Axes>",
      "image/svg+xml": "<?xml version=\"1.0\" encoding=\"utf-8\" standalone=\"no\"?>\r\n<!DOCTYPE svg PUBLIC \"-//W3C//DTD SVG 1.1//EN\"\r\n  \"http://www.w3.org/Graphics/SVG/1.1/DTD/svg11.dtd\">\r\n<!-- Created with matplotlib (https://matplotlib.org/) -->\r\n<svg height=\"106.360263pt\" version=\"1.1\" viewBox=\"0 0 368.925 106.360263\" width=\"368.925pt\" xmlns=\"http://www.w3.org/2000/svg\" xmlns:xlink=\"http://www.w3.org/1999/xlink\">\r\n <defs>\r\n  <style type=\"text/css\">\r\n*{stroke-linecap:butt;stroke-linejoin:round;}\r\n  </style>\r\n </defs>\r\n <g id=\"figure_1\">\r\n  <g id=\"patch_1\">\r\n   <path d=\"M -0 106.360263 \r\nL 368.925 106.360263 \r\nL 368.925 0 \r\nL -0 0 \r\nz\r\n\" style=\"fill:none;\"/>\r\n  </g>\r\n  <g id=\"axes_1\">\r\n   <g id=\"patch_2\">\r\n    <path d=\"M 26.925 82.482138 \r\nL 99.707609 82.482138 \r\nL 99.707609 9.699529 \r\nL 26.925 9.699529 \r\nz\r\n\" style=\"fill:#ffffff;\"/>\r\n   </g>\r\n   <g clip-path=\"url(#p59af6f1dfd)\">\r\n    <image height=\"73\" id=\"imageacc2e4044a\" transform=\"scale(1 -1)translate(0 -73)\" width=\"73\" x=\"26.925\" xlink:href=\"data:image/png;base64,\r\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\" y=\"-9.482138\"/>\r\n   </g>\r\n   <g id=\"matplotlib.axis_1\">\r\n    <g id=\"xtick_1\">\r\n     <g id=\"line2d_1\">\r\n      <defs>\r\n       <path d=\"M 0 0 \r\nL 0 3.5 \r\n\" id=\"md70eacd622\" style=\"stroke:#000000;stroke-width:0.8;\"/>\r\n      </defs>\r\n      <g>\r\n       <use style=\"stroke:#000000;stroke-width:0.8;\" x=\"28.224689\" xlink:href=\"#md70eacd622\" y=\"82.482138\"/>\r\n      </g>\r\n     </g>\r\n     <g id=\"text_1\">\r\n      <!-- 0 -->\r\n      <defs>\r\n       <path d=\"M 31.78125 66.40625 \r\nQ 24.171875 66.40625 20.328125 58.90625 \r\nQ 16.5 51.421875 16.5 36.375 \r\nQ 16.5 21.390625 20.328125 13.890625 \r\nQ 24.171875 6.390625 31.78125 6.390625 \r\nQ 39.453125 6.390625 43.28125 13.890625 \r\nQ 47.125 21.390625 47.125 36.375 \r\nQ 47.125 51.421875 43.28125 58.90625 \r\nQ 39.453125 66.40625 31.78125 66.40625 \r\nz\r\nM 31.78125 74.21875 \r\nQ 44.046875 74.21875 50.515625 64.515625 \r\nQ 56.984375 54.828125 56.984375 36.375 \r\nQ 56.984375 17.96875 50.515625 8.265625 \r\nQ 44.046875 -1.421875 31.78125 -1.421875 \r\nQ 19.53125 -1.421875 13.0625 8.265625 \r\nQ 6.59375 17.96875 6.59375 36.375 \r\nQ 6.59375 54.828125 13.0625 64.515625 \r\nQ 19.53125 74.21875 31.78125 74.21875 \r\nz\r\n\" id=\"DejaVuSans-48\"/>\r\n      </defs>\r\n      <g transform=\"translate(25.043439 97.080576)scale(0.1 -0.1)\">\r\n       <use xlink:href=\"#DejaVuSans-48\"/>\r\n      </g>\r\n     </g>\r\n    </g>\r\n    <g id=\"xtick_2\">\r\n     <g id=\"line2d_2\">\r\n      <g>\r\n       <use style=\"stroke:#000000;stroke-width:0.8;\" x=\"80.212267\" xlink:href=\"#md70eacd622\" y=\"82.482138\"/>\r\n      </g>\r\n     </g>\r\n     <g id=\"text_2\">\r\n      <!-- 20 -->\r\n      <defs>\r\n       <path d=\"M 19.1875 8.296875 \r\nL 53.609375 8.296875 \r\nL 53.609375 0 \r\nL 7.328125 0 \r\nL 7.328125 8.296875 \r\nQ 12.9375 14.109375 22.625 23.890625 \r\nQ 32.328125 33.6875 34.8125 36.53125 \r\nQ 39.546875 41.84375 41.421875 45.53125 \r\nQ 43.3125 49.21875 43.3125 52.78125 \r\nQ 43.3125 58.59375 39.234375 62.25 \r\nQ 35.15625 65.921875 28.609375 65.921875 \r\nQ 23.96875 65.921875 18.8125 64.3125 \r\nQ 13.671875 62.703125 7.8125 59.421875 \r\nL 7.8125 69.390625 \r\nQ 13.765625 71.78125 18.9375 73 \r\nQ 24.125 74.21875 28.421875 74.21875 \r\nQ 39.75 74.21875 46.484375 68.546875 \r\nQ 53.21875 62.890625 53.21875 53.421875 \r\nQ 53.21875 48.921875 51.53125 44.890625 \r\nQ 49.859375 40.875 45.40625 35.40625 \r\nQ 44.1875 33.984375 37.640625 27.21875 \r\nQ 31.109375 20.453125 19.1875 8.296875 \r\nz\r\n\" id=\"DejaVuSans-50\"/>\r\n      </defs>\r\n      <g transform=\"translate(73.849767 97.080576)scale(0.1 -0.1)\">\r\n       <use xlink:href=\"#DejaVuSans-50\"/>\r\n       <use x=\"63.623047\" xlink:href=\"#DejaVuSans-48\"/>\r\n      </g>\r\n     </g>\r\n    </g>\r\n   </g>\r\n   <g id=\"matplotlib.axis_2\">\r\n    <g id=\"ytick_1\">\r\n     <g id=\"line2d_3\">\r\n      <defs>\r\n       <path d=\"M 0 0 \r\nL -3.5 0 \r\n\" id=\"mae6e97a469\" style=\"stroke:#000000;stroke-width:0.8;\"/>\r\n      </defs>\r\n      <g>\r\n       <use style=\"stroke:#000000;stroke-width:0.8;\" x=\"26.925\" xlink:href=\"#mae6e97a469\" y=\"10.999219\"/>\r\n      </g>\r\n     </g>\r\n     <g id=\"text_3\">\r\n      <!-- 0 -->\r\n      <g transform=\"translate(13.5625 14.798437)scale(0.1 -0.1)\">\r\n       <use xlink:href=\"#DejaVuSans-48\"/>\r\n      </g>\r\n     </g>\r\n    </g>\r\n    <g id=\"ytick_2\">\r\n     <g id=\"line2d_4\">\r\n      <g>\r\n       <use style=\"stroke:#000000;stroke-width:0.8;\" x=\"26.925\" xlink:href=\"#mae6e97a469\" y=\"36.993008\"/>\r\n      </g>\r\n     </g>\r\n     <g id=\"text_4\">\r\n      <!-- 10 -->\r\n      <defs>\r\n       <path d=\"M 12.40625 8.296875 \r\nL 28.515625 8.296875 \r\nL 28.515625 63.921875 \r\nL 10.984375 60.40625 \r\nL 10.984375 69.390625 \r\nL 28.421875 72.90625 \r\nL 38.28125 72.90625 \r\nL 38.28125 8.296875 \r\nL 54.390625 8.296875 \r\nL 54.390625 0 \r\nL 12.40625 0 \r\nz\r\n\" id=\"DejaVuSans-49\"/>\r\n      </defs>\r\n      <g transform=\"translate(7.2 40.792226)scale(0.1 -0.1)\">\r\n       <use xlink:href=\"#DejaVuSans-49\"/>\r\n       <use x=\"63.623047\" xlink:href=\"#DejaVuSans-48\"/>\r\n      </g>\r\n     </g>\r\n    </g>\r\n    <g id=\"ytick_3\">\r\n     <g id=\"line2d_5\">\r\n      <g>\r\n       <use style=\"stroke:#000000;stroke-width:0.8;\" x=\"26.925\" xlink:href=\"#mae6e97a469\" y=\"62.986796\"/>\r\n      </g>\r\n     </g>\r\n     <g id=\"text_5\">\r\n      <!-- 20 -->\r\n      <g transform=\"translate(7.2 66.786015)scale(0.1 -0.1)\">\r\n       <use xlink:href=\"#DejaVuSans-50\"/>\r\n       <use x=\"63.623047\" xlink:href=\"#DejaVuSans-48\"/>\r\n      </g>\r\n     </g>\r\n    </g>\r\n   </g>\r\n   <g id=\"patch_3\">\r\n    <path d=\"M 26.925 82.482138 \r\nL 26.925 9.699529 \r\n\" style=\"fill:none;stroke:#000000;stroke-linecap:square;stroke-linejoin:miter;stroke-width:0.8;\"/>\r\n   </g>\r\n   <g id=\"patch_4\">\r\n    <path d=\"M 99.707609 82.482138 \r\nL 99.707609 9.699529 \r\n\" style=\"fill:none;stroke:#000000;stroke-linecap:square;stroke-linejoin:miter;stroke-width:0.8;\"/>\r\n   </g>\r\n   <g id=\"patch_5\">\r\n    <path d=\"M 26.925 82.482138 \r\nL 99.707609 82.482138 \r\n\" style=\"fill:none;stroke:#000000;stroke-linecap:square;stroke-linejoin:miter;stroke-width:0.8;\"/>\r\n   </g>\r\n   <g id=\"patch_6\">\r\n    <path d=\"M 26.925 9.699529 \r\nL 99.707609 9.699529 \r\n\" style=\"fill:none;stroke:#000000;stroke-linecap:square;stroke-linejoin:miter;stroke-width:0.8;\"/>\r\n   </g>\r\n  </g>\r\n  <g id=\"axes_2\">\r\n   <g id=\"patch_7\">\r\n    <path d=\"M 114.26413 82.482138 \r\nL 187.046739 82.482138 \r\nL 187.046739 9.699529 \r\nL 114.26413 9.699529 \r\nz\r\n\" style=\"fill:#ffffff;\"/>\r\n   </g>\r\n   <g clip-path=\"url(#p352dae4a9a)\">\r\n    <image height=\"73\" id=\"imagedd26b35d2e\" transform=\"scale(1 -1)translate(0 -73)\" width=\"73\" x=\"114.26413\" xlink:href=\"data:image/png;base64,\r\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\" y=\"-9.482138\"/>\r\n   </g>\r\n   <g id=\"matplotlib.axis_3\">\r\n    <g id=\"xtick_3\">\r\n     <g id=\"line2d_6\">\r\n      <g>\r\n       <use style=\"stroke:#000000;stroke-width:0.8;\" x=\"115.56382\" xlink:href=\"#md70eacd622\" y=\"82.482138\"/>\r\n      </g>\r\n     </g>\r\n     <g id=\"text_6\">\r\n      <!-- 0 -->\r\n      <g transform=\"translate(112.38257 97.080576)scale(0.1 -0.1)\">\r\n       <use xlink:href=\"#DejaVuSans-48\"/>\r\n      </g>\r\n     </g>\r\n    </g>\r\n    <g id=\"xtick_4\">\r\n     <g id=\"line2d_7\">\r\n      <g>\r\n       <use style=\"stroke:#000000;stroke-width:0.8;\" x=\"167.551398\" xlink:href=\"#md70eacd622\" y=\"82.482138\"/>\r\n      </g>\r\n     </g>\r\n     <g id=\"text_7\">\r\n      <!-- 20 -->\r\n      <g transform=\"translate(161.188898 97.080576)scale(0.1 -0.1)\">\r\n       <use xlink:href=\"#DejaVuSans-50\"/>\r\n       <use x=\"63.623047\" xlink:href=\"#DejaVuSans-48\"/>\r\n      </g>\r\n     </g>\r\n    </g>\r\n   </g>\r\n   <g id=\"matplotlib.axis_4\">\r\n    <g id=\"ytick_4\">\r\n     <g id=\"line2d_8\">\r\n      <g>\r\n       <use style=\"stroke:#000000;stroke-width:0.8;\" x=\"114.26413\" xlink:href=\"#mae6e97a469\" y=\"10.999219\"/>\r\n      </g>\r\n     </g>\r\n     <g id=\"text_8\">\r\n      <!-- 0 -->\r\n      <g transform=\"translate(100.90163 14.798438)scale(0.1 -0.1)\">\r\n       <use xlink:href=\"#DejaVuSans-48\"/>\r\n      </g>\r\n     </g>\r\n    </g>\r\n    <g id=\"ytick_5\">\r\n     <g id=\"line2d_9\">\r\n      <g>\r\n       <use style=\"stroke:#000000;stroke-width:0.8;\" x=\"114.26413\" xlink:href=\"#mae6e97a469\" y=\"36.993008\"/>\r\n      </g>\r\n     </g>\r\n     <g id=\"text_9\">\r\n      <!-- 10 -->\r\n      <g transform=\"translate(94.53913 40.792226)scale(0.1 -0.1)\">\r\n       <use xlink:href=\"#DejaVuSans-49\"/>\r\n       <use x=\"63.623047\" xlink:href=\"#DejaVuSans-48\"/>\r\n      </g>\r\n     </g>\r\n    </g>\r\n    <g id=\"ytick_6\">\r\n     <g id=\"line2d_10\">\r\n      <g>\r\n       <use style=\"stroke:#000000;stroke-width:0.8;\" x=\"114.26413\" xlink:href=\"#mae6e97a469\" y=\"62.986796\"/>\r\n      </g>\r\n     </g>\r\n     <g id=\"text_10\">\r\n      <!-- 20 -->\r\n      <g transform=\"translate(94.53913 66.786015)scale(0.1 -0.1)\">\r\n       <use xlink:href=\"#DejaVuSans-50\"/>\r\n       <use x=\"63.623047\" xlink:href=\"#DejaVuSans-48\"/>\r\n      </g>\r\n     </g>\r\n    </g>\r\n   </g>\r\n   <g id=\"patch_8\">\r\n    <path d=\"M 114.26413 82.482138 \r\nL 114.26413 9.699529 \r\n\" style=\"fill:none;stroke:#000000;stroke-linecap:square;stroke-linejoin:miter;stroke-width:0.8;\"/>\r\n   </g>\r\n   <g id=\"patch_9\">\r\n    <path d=\"M 187.046739 82.482138 \r\nL 187.046739 9.699529 \r\n\" style=\"fill:none;stroke:#000000;stroke-linecap:square;stroke-linejoin:miter;stroke-width:0.8;\"/>\r\n   </g>\r\n   <g id=\"patch_10\">\r\n    <path d=\"M 114.26413 82.482138 \r\nL 187.046739 82.482138 \r\n\" style=\"fill:none;stroke:#000000;stroke-linecap:square;stroke-linejoin:miter;stroke-width:0.8;\"/>\r\n   </g>\r\n   <g id=\"patch_11\">\r\n    <path d=\"M 114.26413 9.699529 \r\nL 187.046739 9.699529 \r\n\" style=\"fill:none;stroke:#000000;stroke-linecap:square;stroke-linejoin:miter;stroke-width:0.8;\"/>\r\n   </g>\r\n  </g>\r\n  <g id=\"axes_3\">\r\n   <g id=\"patch_12\">\r\n    <path d=\"M 201.603261 82.482138 \r\nL 274.38587 82.482138 \r\nL 274.38587 9.699529 \r\nL 201.603261 9.699529 \r\nz\r\n\" style=\"fill:#ffffff;\"/>\r\n   </g>\r\n   <g clip-path=\"url(#p571b59b3c3)\">\r\n    <image height=\"73\" id=\"image0481a5cc9b\" transform=\"scale(1 -1)translate(0 -73)\" width=\"73\" x=\"201.603261\" xlink:href=\"data:image/png;base64,\r\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\" y=\"-9.482138\"/>\r\n   </g>\r\n   <g id=\"matplotlib.axis_5\">\r\n    <g id=\"xtick_5\">\r\n     <g id=\"line2d_11\">\r\n      <g>\r\n       <use style=\"stroke:#000000;stroke-width:0.8;\" x=\"202.90295\" xlink:href=\"#md70eacd622\" y=\"82.482138\"/>\r\n      </g>\r\n     </g>\r\n     <g id=\"text_11\">\r\n      <!-- 0 -->\r\n      <g transform=\"translate(199.7217 97.080576)scale(0.1 -0.1)\">\r\n       <use xlink:href=\"#DejaVuSans-48\"/>\r\n      </g>\r\n     </g>\r\n    </g>\r\n    <g id=\"xtick_6\">\r\n     <g id=\"line2d_12\">\r\n      <g>\r\n       <use style=\"stroke:#000000;stroke-width:0.8;\" x=\"254.890528\" xlink:href=\"#md70eacd622\" y=\"82.482138\"/>\r\n      </g>\r\n     </g>\r\n     <g id=\"text_12\">\r\n      <!-- 20 -->\r\n      <g transform=\"translate(248.528028 97.080576)scale(0.1 -0.1)\">\r\n       <use xlink:href=\"#DejaVuSans-50\"/>\r\n       <use x=\"63.623047\" xlink:href=\"#DejaVuSans-48\"/>\r\n      </g>\r\n     </g>\r\n    </g>\r\n   </g>\r\n   <g id=\"matplotlib.axis_6\">\r\n    <g id=\"ytick_7\">\r\n     <g id=\"line2d_13\">\r\n      <g>\r\n       <use style=\"stroke:#000000;stroke-width:0.8;\" x=\"201.603261\" xlink:href=\"#mae6e97a469\" y=\"10.999219\"/>\r\n      </g>\r\n     </g>\r\n     <g id=\"text_13\">\r\n      <!-- 0 -->\r\n      <g transform=\"translate(188.240761 14.798438)scale(0.1 -0.1)\">\r\n       <use xlink:href=\"#DejaVuSans-48\"/>\r\n      </g>\r\n     </g>\r\n    </g>\r\n    <g id=\"ytick_8\">\r\n     <g id=\"line2d_14\">\r\n      <g>\r\n       <use style=\"stroke:#000000;stroke-width:0.8;\" x=\"201.603261\" xlink:href=\"#mae6e97a469\" y=\"36.993008\"/>\r\n      </g>\r\n     </g>\r\n     <g id=\"text_14\">\r\n      <!-- 10 -->\r\n      <g transform=\"translate(181.878261 40.792226)scale(0.1 -0.1)\">\r\n       <use xlink:href=\"#DejaVuSans-49\"/>\r\n       <use x=\"63.623047\" xlink:href=\"#DejaVuSans-48\"/>\r\n      </g>\r\n     </g>\r\n    </g>\r\n    <g id=\"ytick_9\">\r\n     <g id=\"line2d_15\">\r\n      <g>\r\n       <use style=\"stroke:#000000;stroke-width:0.8;\" x=\"201.603261\" xlink:href=\"#mae6e97a469\" y=\"62.986796\"/>\r\n      </g>\r\n     </g>\r\n     <g id=\"text_15\">\r\n      <!-- 20 -->\r\n      <g transform=\"translate(181.878261 66.786015)scale(0.1 -0.1)\">\r\n       <use xlink:href=\"#DejaVuSans-50\"/>\r\n       <use x=\"63.623047\" xlink:href=\"#DejaVuSans-48\"/>\r\n      </g>\r\n     </g>\r\n    </g>\r\n   </g>\r\n   <g id=\"patch_13\">\r\n    <path d=\"M 201.603261 82.482138 \r\nL 201.603261 9.699529 \r\n\" style=\"fill:none;stroke:#000000;stroke-linecap:square;stroke-linejoin:miter;stroke-width:0.8;\"/>\r\n   </g>\r\n   <g id=\"patch_14\">\r\n    <path d=\"M 274.38587 82.482138 \r\nL 274.38587 9.699529 \r\n\" style=\"fill:none;stroke:#000000;stroke-linecap:square;stroke-linejoin:miter;stroke-width:0.8;\"/>\r\n   </g>\r\n   <g id=\"patch_15\">\r\n    <path d=\"M 201.603261 82.482138 \r\nL 274.38587 82.482138 \r\n\" style=\"fill:none;stroke:#000000;stroke-linecap:square;stroke-linejoin:miter;stroke-width:0.8;\"/>\r\n   </g>\r\n   <g id=\"patch_16\">\r\n    <path d=\"M 201.603261 9.699529 \r\nL 274.38587 9.699529 \r\n\" style=\"fill:none;stroke:#000000;stroke-linecap:square;stroke-linejoin:miter;stroke-width:0.8;\"/>\r\n   </g>\r\n  </g>\r\n  <g id=\"axes_4\">\r\n   <g id=\"patch_17\">\r\n    <path d=\"M 288.942391 82.482138 \r\nL 361.725 82.482138 \r\nL 361.725 9.699529 \r\nL 288.942391 9.699529 \r\nz\r\n\" style=\"fill:#ffffff;\"/>\r\n   </g>\r\n   <g clip-path=\"url(#p6d7a0e0a92)\">\r\n    <image height=\"73\" id=\"image643008dfaf\" transform=\"scale(1 -1)translate(0 -73)\" width=\"73\" x=\"288.942391\" xlink:href=\"data:image/png;base64,\r\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\" y=\"-9.482138\"/>\r\n   </g>\r\n   <g id=\"matplotlib.axis_7\">\r\n    <g id=\"xtick_7\">\r\n     <g id=\"line2d_16\">\r\n      <g>\r\n       <use style=\"stroke:#000000;stroke-width:0.8;\" x=\"290.242081\" xlink:href=\"#md70eacd622\" y=\"82.482138\"/>\r\n      </g>\r\n     </g>\r\n     <g id=\"text_16\">\r\n      <!-- 0 -->\r\n      <g transform=\"translate(287.060831 97.080576)scale(0.1 -0.1)\">\r\n       <use xlink:href=\"#DejaVuSans-48\"/>\r\n      </g>\r\n     </g>\r\n    </g>\r\n    <g id=\"xtick_8\">\r\n     <g id=\"line2d_17\">\r\n      <g>\r\n       <use style=\"stroke:#000000;stroke-width:0.8;\" x=\"342.229658\" xlink:href=\"#md70eacd622\" y=\"82.482138\"/>\r\n      </g>\r\n     </g>\r\n     <g id=\"text_17\">\r\n      <!-- 20 -->\r\n      <g transform=\"translate(335.867158 97.080576)scale(0.1 -0.1)\">\r\n       <use xlink:href=\"#DejaVuSans-50\"/>\r\n       <use x=\"63.623047\" xlink:href=\"#DejaVuSans-48\"/>\r\n      </g>\r\n     </g>\r\n    </g>\r\n   </g>\r\n   <g id=\"matplotlib.axis_8\">\r\n    <g id=\"ytick_10\">\r\n     <g id=\"line2d_18\">\r\n      <g>\r\n       <use style=\"stroke:#000000;stroke-width:0.8;\" x=\"288.942391\" xlink:href=\"#mae6e97a469\" y=\"10.999219\"/>\r\n      </g>\r\n     </g>\r\n     <g id=\"text_18\">\r\n      <!-- 0 -->\r\n      <g transform=\"translate(275.579891 14.798437)scale(0.1 -0.1)\">\r\n       <use xlink:href=\"#DejaVuSans-48\"/>\r\n      </g>\r\n     </g>\r\n    </g>\r\n    <g id=\"ytick_11\">\r\n     <g id=\"line2d_19\">\r\n      <g>\r\n       <use style=\"stroke:#000000;stroke-width:0.8;\" x=\"288.942391\" xlink:href=\"#mae6e97a469\" y=\"36.993008\"/>\r\n      </g>\r\n     </g>\r\n     <g id=\"text_19\">\r\n      <!-- 10 -->\r\n      <g transform=\"translate(269.217391 40.792226)scale(0.1 -0.1)\">\r\n       <use xlink:href=\"#DejaVuSans-49\"/>\r\n       <use x=\"63.623047\" xlink:href=\"#DejaVuSans-48\"/>\r\n      </g>\r\n     </g>\r\n    </g>\r\n    <g id=\"ytick_12\">\r\n     <g id=\"line2d_20\">\r\n      <g>\r\n       <use style=\"stroke:#000000;stroke-width:0.8;\" x=\"288.942391\" xlink:href=\"#mae6e97a469\" y=\"62.986796\"/>\r\n      </g>\r\n     </g>\r\n     <g id=\"text_20\">\r\n      <!-- 20 -->\r\n      <g transform=\"translate(269.217391 66.786015)scale(0.1 -0.1)\">\r\n       <use xlink:href=\"#DejaVuSans-50\"/>\r\n       <use x=\"63.623047\" xlink:href=\"#DejaVuSans-48\"/>\r\n      </g>\r\n     </g>\r\n    </g>\r\n   </g>\r\n   <g id=\"patch_18\">\r\n    <path d=\"M 288.942391 82.482138 \r\nL 288.942391 9.699529 \r\n\" style=\"fill:none;stroke:#000000;stroke-linecap:square;stroke-linejoin:miter;stroke-width:0.8;\"/>\r\n   </g>\r\n   <g id=\"patch_19\">\r\n    <path d=\"M 361.725 82.482138 \r\nL 361.725 9.699529 \r\n\" style=\"fill:none;stroke:#000000;stroke-linecap:square;stroke-linejoin:miter;stroke-width:0.8;\"/>\r\n   </g>\r\n   <g id=\"patch_20\">\r\n    <path d=\"M 288.942391 82.482138 \r\nL 361.725 82.482138 \r\n\" style=\"fill:none;stroke:#000000;stroke-linecap:square;stroke-linejoin:miter;stroke-width:0.8;\"/>\r\n   </g>\r\n   <g id=\"patch_21\">\r\n    <path d=\"M 288.942391 9.699529 \r\nL 361.725 9.699529 \r\n\" style=\"fill:none;stroke:#000000;stroke-linecap:square;stroke-linejoin:miter;stroke-width:0.8;\"/>\r\n   </g>\r\n  </g>\r\n </g>\r\n <defs>\r\n  <clipPath id=\"p59af6f1dfd\">\r\n   <rect height=\"72.782609\" width=\"72.782609\" x=\"26.925\" y=\"9.699529\"/>\r\n  </clipPath>\r\n  <clipPath id=\"p352dae4a9a\">\r\n   <rect height=\"72.782609\" width=\"72.782609\" x=\"114.26413\" y=\"9.699529\"/>\r\n  </clipPath>\r\n  <clipPath id=\"p571b59b3c3\">\r\n   <rect height=\"72.782609\" width=\"72.782609\" x=\"201.603261\" y=\"9.699529\"/>\r\n  </clipPath>\r\n  <clipPath id=\"p6d7a0e0a92\">\r\n   <rect height=\"72.782609\" width=\"72.782609\" x=\"288.942391\" y=\"9.699529\"/>\r\n  </clipPath>\r\n </defs>\r\n</svg>\r\n",
      "image/png": "[encoded data removed]"
     },
     "metadata": {
      "needs_background": "light"
     }
    },
    {
     "output_type": "stream",
     "name": "stdout",
     "text": [
      "one hot 标签： [1. 0. 0. 0. 0. 0. 0. 0. 0. 0.] [0. 0. 0. 0. 1. 0. 0. 0. 0. 0.] [0. 1. 0. 0. 0. 0. 0. 0. 0. 0.] [0. 0. 0. 0. 0. 0. 0. 0. 0. 1.]\n对应的实际标签： 0 4 1 9\n"
     ]
    }
   ],
   "source": [
    "fig = plt.figure()\n",
    "\n",
    "ax1 = fig.add_subplot(141)\n",
    "ax1.imshow(x_train[1,:].reshape(28, 28), cmap='Greys')\n",
    "ax2 = fig.add_subplot(142)\n",
    "ax2.imshow(x_train[2,:].reshape(28,28), cmap='Greys')\n",
    "ax3 = fig.add_subplot(143)\n",
    "ax3.imshow(x_train[3,:].reshape(28,28), cmap='Greys')\n",
    "ax4 = fig.add_subplot(144)\n",
    "ax4.imshow(x_train[4,:].reshape(28,28), cmap='Greys')\n",
    "plt.show()\n",
    "print('one hot 标签：',y_train[1,:],y_train[2,:],y_train[3,:],y_train[4,:])\n",
    "print('对应的实际标签：',np.argmax(y_train[1,:]),np.argmax(y_train[2,:]),np.argmax(y_train[3,:]),np.argmax(y_train[4,:]))"
   ]
  },
  {
   "cell_type": "markdown",
   "metadata": {},
   "source": [
    "## 3. 全连接神经网络"
   ]
  },
  {
   "cell_type": "markdown",
   "metadata": {},
   "source": [
    "接下来，我们来搭建一个三层全连接神经网络。网络结构如下图所示：\n",
    "<img src=\"./images/network_architecture.jpg\" width=\"500\" height=\"500\" alt=\"network_architecture\" align=center>\n",
    "\n",
    "对公式所用符号的说明：  \n",
    "一般算神经网络层数不算输入层，所以上图只有3层。用右上角的方括号表示相应的层，所有第1层的权重$W$为$W^{[1]}$，第1层的偏置项$b$为$b^{[1]}$(图中未标出)，第1层的激活值$A$为$A^{[1]}$。  \n",
    "\n",
    "前两层的激活函数使用ReLU，最后一层使用Softmax进行分类"
   ]
  },
  {
   "cell_type": "markdown",
   "metadata": {},
   "source": [
    "### 3.1 初始化网络参数\n",
    "\n",
    "我们规定第1层的神经元个数为300，第二层个数为300，最后一层为10.输入向量$X$的维度为784，那么整个网络对应的参数也就可以确定了。  \n",
    "$W^{[1]}$的shape为$(784,300)$，$b^{[1]}$的shape为$(300,)$  \n",
    "$W^{[2]}$的shape为$(300,300)$，$b^{[2]}$的shape为$(300,)$  \n",
    "$W^{[3]}$的shape为$(300,10)$，$b^{[3]}$的shape为$(10,)$  \n",
    "这里使用随机正态分布再乘上比例因子0.01来初始化$W$， 对$b$都初始化为0.  \n",
    "**Hint**: 使用`np.random.randn()`,`np.zeros()`  \n"
   ]
  },
  {
   "cell_type": "code",
   "execution_count": 6,
   "metadata": {
    "code_folding": [
     0
    ],
    "collapsed": true
   },
   "outputs": [],
   "source": [
    "def initialize_parameters(input_size, hidden_size, output_size, weight_init_std):\n",
    "    \"\"\"\n",
    "    @param input_size:输入向量维度\n",
    "    @param hidden_size:中间神经元个数\n",
    "    @param output_size:输出层神经元个数\n",
    "    @param weight_init_sta:比例因子\n",
    "    \"\"\"\n",
    "    np.random.seed(1)\n",
    "    params = {}\n",
    "    ### START CODE HERE ### \n",
    "    \n",
    "    params['W1'] = weight_init_std * np.random.randn(input_size,hidden_size)\n",
    "    params['b1'] = np.zeros(hidden_size)\n",
    "    params['W2'] = weight_init_std * np.random.randn(hidden_size,hidden_size)\n",
    "    params['b2'] = np.zeros(hidden_size)\n",
    "    params['W3'] = weight_init_std * np.random.randn(hidden_size,output_size)\n",
    "    params['b3'] = np.zeros(output_size)\n",
    "    \n",
    "    ### END CODE HERE ### \n",
    "    \n",
    "    return params"
   ]
  },
  {
   "cell_type": "markdown",
   "metadata": {},
   "source": [
    "### 3.2 定义神经网络的每一层\n",
    "我们将构成神经网络的层实现为一个单独的类\n",
    "\n",
    "我们先来实现ReLU层"
   ]
  },
  {
   "cell_type": "markdown",
   "metadata": {},
   "source": [
    "#### ReLU层"
   ]
  },
  {
   "cell_type": "markdown",
   "metadata": {},
   "source": [
    "激活函数ReLU的表达式为：\n",
    "$$\n",
    "\\left\\{\\begin{matrix}\n",
    "x & (x>0)\\\\ \n",
    "0 & (x \\leq 0)\n",
    "\\end{matrix}\\right.\n",
    "$$\n",
    "可以通过上式求出y关于x的导数：\n",
    "$$\n",
    "\\frac{\\partial y}{\\partial x} = \\left\\{\\begin{matrix}\n",
    "1 & (x>0)\\\\ \n",
    "0 & (x \\leq 0)\n",
    "\\end{matrix}\\right.\n",
    "$$\n",
    "\n",
    "如果正向传播时的输入x大于0，则反向传播会将上游的值原封不动地传给下游。反过来，如果正向传播时的x小于等于0，则反向传播中传给下游的信号将停在此处，如图所示：\n",
    "<img src=\"./images/ReLU.png\" width=\"600\" height=\"600\" alt=\"ReLU\" align=center>\n"
   ]
  },
  {
   "cell_type": "code",
   "execution_count": 7,
   "metadata": {
    "code_folding": [
     0
    ],
    "collapsed": true
   },
   "outputs": [],
   "source": [
    "class Relu:\n",
    "    def __init__(self):\n",
    "        self.mask = None\n",
    "\n",
    "    def forward(self, x):\n",
    "        self.mask = (x <= 0)\n",
    "        out = x.copy()\n",
    "        ### START CODE HERE ### \n",
    "        out[self.mask] = 0\n",
    "        ### END CODE HERE ### \n",
    "        return out\n",
    "\n",
    "    def backward(self, dout):\n",
    "        ### START CODE HERE ### \n",
    "        dout[self.mask] = 0\n",
    "        ### END CODE HERE ### \n",
    "        dx = dout\n",
    "        return dx"
   ]
  },
  {
   "cell_type": "markdown",
   "metadata": {},
   "source": [
    "测试一下效果"
   ]
  },
  {
   "cell_type": "code",
   "execution_count": 8,
   "metadata": {
    "collapsed": true
   },
   "outputs": [
    {
     "output_type": "execute_result",
     "data": {
      "text/plain": [
       "(array([[1., 0.],\n",
       "        [0., 3.]]),\n",
       " array([[1., 0.],\n",
       "        [0., 3.]]))"
      ]
     },
     "metadata": {},
     "execution_count": 8
    }
   ],
   "source": [
    "relu = Relu()\n",
    "x = np.array( [[1.0, -0.5], [-2.0, 3.0]] )\n",
    "relu.forward(x), relu.backward(x)"
   ]
  },
  {
   "cell_type": "markdown",
   "metadata": {},
   "source": [
    "#### Affine层"
   ]
  },
  {
   "cell_type": "markdown",
   "metadata": {},
   "source": [
    "神经网络的正向传播中，为了计算加权信号的总和，使用了矩阵的乘积运算，回顾一下公式：\n",
    "$$\n",
    "Y = XW + B\n",
    "$$\n",
    "即`Y = np.dot(X, W) + B`  \n",
    "假设X,W,B的形状分别为(2,)、(2,3)、(3,)\n",
    "<img src=\"./images/Affine1.png\">\n",
    "现在将这里进行的求矩阵的乘积与偏置的和的运算用计算图表示出来。将乘积运算用“dot”节点表示的话，则np.dot(X, W) + B的运算如图所示：\n",
    "<img src=\"./images/Affine2.png\">\n",
    "\n",
    "以矩阵为对象的反向传播，按矩阵的各个元素进行计算时，步骤和以标量为对象的计算图相同。实际写\n",
    "一下的话，可以推导得到：\n",
    "$$\n",
    "\\frac{\\partial L}{\\partial X} = \\frac{\\partial L}{\\partial Y} \\cdot W^T\n",
    "$$\n",
    "  \n",
    "$$\n",
    "\\frac{\\partial L}{\\partial W} = X^T \\cdot \\frac{\\partial L}{\\partial Y}\n",
    "$$\n",
    "根据这个式子我们可以写出计算图的反向传播：\n",
    "<img src=\"./images/Affine3.png\">\n",
    "\n",
    "前面介绍的Affine层的输入是以单个数据为对象的，现在我们考虑N个数据一起进行正向传播，计算图如下：\n",
    "<img src=\"./images/Affine4.png\">\n",
    "与刚刚不同的是，现在输入X的形状是(N, 2)。之后就和前面一样，在计算图上进行单纯的矩阵计算。反向传播时，如果注意矩阵的形状，就可以和前面一样推导出$\\frac{\\partial L}{\\partial X}$和$\\frac{\\partial L}{\\partial W}$。"
   ]
  },
  {
   "cell_type": "code",
   "execution_count": 9,
   "metadata": {
    "code_folding": [
     1,
     20
    ],
    "collapsed": true
   },
   "outputs": [],
   "source": [
    "class Affine:\n",
    "    def __init__(self, W, b):\n",
    "        self.W =W\n",
    "        self.b = b\n",
    "        \n",
    "        self.x = None\n",
    "        self.original_x_shape = None\n",
    "        # 权重和偏置参数的导数\n",
    "        self.dW = None\n",
    "        self.db = None\n",
    "\n",
    "    def forward(self, x):\n",
    "        self.original_x_shape = x.shape\n",
    "        x = x.reshape(x.shape[0], -1)\n",
    "        self.x = x\n",
    "        ### START CODE HERE ### \n",
    "        out = np.dot(self.x,self.W)+self.b\n",
    "        ### END CODE HERE ###\n",
    "        return out\n",
    "\n",
    "    def backward(self, dout):\n",
    "        dx = np.dot(dout, self.W.T)\n",
    "        ### START CODE HERE ### \n",
    "        self.dW = np.dot(self.x.T,dout)\n",
    "        self.db = np.sum(dout,axis=0)\n",
    "        ### END CODE HERE ### \n",
    "        \n",
    "        dx = dx.reshape(*self.original_x_shape)  # 还原输入数据的形状（对应张量）\n",
    "        return dx"
   ]
  },
  {
   "cell_type": "markdown",
   "metadata": {},
   "source": [
    "#### Softmax-with-Loss层"
   ]
  },
  {
   "cell_type": "markdown",
   "metadata": {},
   "source": [
    "softmax函数会将输入值正规化后输出，如图所示：\n",
    "<img src=\"./images/softmax.png\">\n",
    "具体公式为\n",
    "$$softmax(x_i)=\\frac{e^{x_i}}{\\sum_{j=1}^{C}{e^{x_j}}}$$ \n",
    "$x_i$表示为向量$x$的第$i$个分量。  $softmax$函数这里直接给出"
   ]
  },
  {
   "cell_type": "code",
   "execution_count": 10,
   "metadata": {
    "code_folding": [
     0
    ],
    "collapsed": true
   },
   "outputs": [],
   "source": [
    "def softmax(x):\n",
    "    x = x.T\n",
    "    x = x - np.max(x, axis=0)\n",
    "    y = np.exp(x) / np.sum(np.exp(x), axis=0)\n",
    "    return y.T "
   ]
  },
  {
   "cell_type": "markdown",
   "metadata": {},
   "source": [
    "在softmax中，我们一般使用的损失函数为交叉熵函数：  \n",
    "$$L(\\hat{y},y)=-\\sum_{j=1}^{C}{y_jlog\\hat{y_j}}$$  \n",
    "其中，$C$是类别的数量，在本次实验中即为10.  \n",
    "成本函数为：  \n",
    "$$J(W^{[1]},b^{[1]},...)=\\frac{1}{m}\\sum_{i=1}^{m}{L(\\hat{y}^{(i)},y^{(i)})}$$  \n",
    "这里$m$是mini-batch的大小。因为训练集有60000个，我们不能直接把$(60000,784)$大小的输入直接放入神经网络计算。因此，每次就选择一部分来进行前向传播，所以输入的大小是$(m,784)$.\n",
    "**Hint**: 最后的Loss是个标量 "
   ]
  },
  {
   "cell_type": "code",
   "execution_count": 11,
   "metadata": {
    "code_folding": [
     0
    ],
    "collapsed": true
   },
   "outputs": [],
   "source": [
    "def cross_entropy_error(pred, y):\n",
    "    if pred.ndim == 1:\n",
    "        y = y.reshape(1, y.size)\n",
    "        pred = pred.reshape(1, pred.size)\n",
    "        \n",
    "    # 监督数据是one-hot-vector的情况下，转换为正确解标签的索引\n",
    "    if y.size == pred.size:\n",
    "        y = y.argmax(axis=1)\n",
    "             \n",
    "    batch_size = pred.shape[0]\n",
    "    \n",
    "    res = None\n",
    "\n",
    "    res = -np.sum(np.log(pred[:, y] + 1e-7)) / batch_size\n",
    "    \n",
    "    return res"
   ]
  },
  {
   "cell_type": "markdown",
   "metadata": {},
   "source": [
    "下面来实现Softmax 层。考虑到这里也包含作为损失函数的交叉熵误差（cross entropy error），所以称为“Softmax-with-Loss 层”。Softmax-with-Loss 层（Softmax函数和交叉熵误差）的计算图如图所示。\n",
    "<img src=\"./images/softmax-cross.png\">\n",
    "\n",
    "可以看到，Softmax-with-Loss 层有些复杂。这里只给出了最终结果。"
   ]
  },
  {
   "cell_type": "code",
   "execution_count": 12,
   "metadata": {
    "code_folding": [
     0
    ],
    "collapsed": true
   },
   "outputs": [],
   "source": [
    "class SoftmaxWithLoss:\n",
    "    def __init__(self):\n",
    "        self.loss = None\n",
    "        self.pred = None # softmax的输出\n",
    "        self.y = None # 监督数据\n",
    "\n",
    "    def forward(self, x, y):\n",
    "        self.y = y\n",
    "        self.pred = softmax(x)\n",
    "        self.loss = cross_entropy_error(self.pred, self.y)\n",
    "        \n",
    "        return self.loss\n",
    "\n",
    "    def backward(self, dout=1):\n",
    "        batch_size = self.y.shape[0]\n",
    "        if self.y.size == self.pred.size: # 监督数据是one-hot-vector的情况\n",
    "            dx = (self.pred - self.y) / batch_size\n",
    "        else:\n",
    "            dx = self.pred.copy()\n",
    "            dx[np.arange(batch_size), self.y] -= 1\n",
    "            dx = dx / batch_size\n",
    "        \n",
    "        return dx"
   ]
  },
  {
   "cell_type": "markdown",
   "metadata": {},
   "source": [
    "### 3.3 搭积木\n",
    "现在我们把之前的每一层组合在一起就能搭成我们自己的三层神经网络了。\n",
    "神经网络学习的步骤大致有5步：\n",
    "1. 初始化权重\n",
    "2. 随机选择一部分数据\n",
    "3. 计算梯度\n",
    "4. 更新参数\n",
    "5. 重复步骤2,3,4\n"
   ]
  },
  {
   "cell_type": "code",
   "execution_count": 13,
   "metadata": {
    "code_folding": [
     0,
     1,
     18,
     27,
     35,
     48
    ],
    "collapsed": true
   },
   "outputs": [],
   "source": [
    "class TwoLayerNet:\n",
    "    def __init__(self, input_size, hidden_size, output_size, weight_init_std = 0.01):\n",
    "        \n",
    "        # 初始化权重\n",
    "        self.params = initialize_parameters(input_size, hidden_size, output_size, weight_init_std)\n",
    "        # 记录训练次数 adam里要用\n",
    "        self.t = 0\n",
    "\n",
    "        # 生成层\n",
    "        self.layers = OrderedDict()\n",
    "        self.layers['Affine1'] = Affine(self.params['W1'], self.params['b1'])\n",
    "        self.layers['Relu1'] = Relu()\n",
    "        self.layers['Affine2'] = Affine(self.params['W2'], self.params['b2'])\n",
    "        self.layers['Relu2'] = Relu()\n",
    "        self.layers['Affine3'] = Affine(self.params['W3'], self.params['b3'])\n",
    "    \n",
    "        self.lastLayer = SoftmaxWithLoss()\n",
    "        \n",
    "    def predict(self, x):\n",
    "        # 前向传播\n",
    "        pred = x.copy()\n",
    "        for layer in self.layers.values():\n",
    "            ### START CODE HERE ### \n",
    "            pred = layer.forward(pred)\n",
    "            ### END CODE HERE ### \n",
    "        return pred\n",
    "        \n",
    "    def loss(self, x, y):\n",
    "        # 计算交叉熵误差\n",
    "        ### START CODE HERE ### \n",
    "        pred = self.predict(x)\n",
    "        loss = self.lastLayer.forward(pred,y)\n",
    "        ### END CODE HERE ### \n",
    "        return loss\n",
    "    \n",
    "    def accuracy(self, x, y):\n",
    "        # 输入数据x和标签y，输出当前神经网络的预测准确率\n",
    "        accuracy = None\n",
    "        pred = self.predict(x)\n",
    "        pred = np.argmax(pred, axis=1)\n",
    "        if y.ndim != 1:\n",
    "            y = np.argmax(y, axis=1)\n",
    "        \n",
    "        accuracy = np.sum(pred == y) / float(x.shape[0])\n",
    "\n",
    "        return accuracy\n",
    "        \n",
    "    def gradient(self, x, y):\n",
    "        # 前向传播\n",
    "        self.loss(x, y)\n",
    "\n",
    "        # 反向传播\n",
    "        dout = 1\n",
    "        dout = self.lastLayer.backward(dout)\n",
    "        \n",
    "        layers = list(self.layers.values())\n",
    "        layers.reverse()\n",
    "        for layer in layers:\n",
    "            dout = layer.backward(dout)\n",
    "\n",
    "        # 设定\n",
    "        grads = {}\n",
    "        grads['W1'], grads['b1'] = self.layers['Affine1'].dW, self.layers['Affine1'].db\n",
    "        grads['W2'], grads['b2'] = self.layers['Affine2'].dW, self.layers['Affine2'].db\n",
    "        grads['W3'], grads['b3'] = self.layers['Affine3'].dW, self.layers['Affine3'].db\n",
    "        \n",
    "        return grads"
   ]
  },
  {
   "cell_type": "markdown",
   "metadata": {},
   "source": [
    "### 3.4 进行训练"
   ]
  },
  {
   "cell_type": "markdown",
   "metadata": {},
   "source": [
    "首先定义参数更新函数"
   ]
  },
  {
   "cell_type": "code",
   "execution_count": 14,
   "metadata": {
    "code_folding": [
     0
    ],
    "collapsed": true
   },
   "outputs": [],
   "source": [
    "def update_parameters(network, grads, learning_rate=0.001):\n",
    "    \"\"\"\n",
    "    使用梯度下降法更新network的参数\n",
    "    \"\"\"\n",
    "    \n",
    "    ### START CODE HERE ### \n",
    "    \n",
    "    for key in ('W1', 'b1', 'W2', 'b2', 'W3', 'b3'):\n",
    "        network.params[key] -= learning_rate * grads[key]\n",
    "    \n",
    "    ### END CODE HERE ###\n",
    "    return "
   ]
  },
  {
   "cell_type": "markdown",
   "metadata": {},
   "source": [
    "然后定义训练函数"
   ]
  },
  {
   "cell_type": "code",
   "execution_count": 15,
   "metadata": {
    "code_folding": [
     0
    ],
    "collapsed": true
   },
   "outputs": [],
   "source": [
    "def train_network(network, update_params_method, iters_num, train_size, batch_size, learning_rate):\n",
    "    train_loss_list = []\n",
    "    train_acc_list = []\n",
    "    test_acc_list = []\n",
    "\n",
    "    iter_per_epoch = max(train_size / batch_size, 1)\n",
    "\n",
    "    for i in range(iters_num):\n",
    "        batch_mask = np.random.choice(train_size, batch_size)\n",
    "        x_batch = x_train[batch_mask]\n",
    "        t_batch = y_train[batch_mask]\n",
    "        network.t += 1\n",
    "\n",
    "        # 计算梯度\n",
    "        grad = network.gradient(x_batch, t_batch)\n",
    "\n",
    "        # 更新梯度\n",
    "        update_params_method(network, grad, learning_rate)\n",
    "\n",
    "        loss = network.loss(x_batch, t_batch)\n",
    "        train_loss_list.append(loss)\n",
    "\n",
    "        if i % iter_per_epoch == 0:\n",
    "            train_acc = network.accuracy(x_train, y_train)\n",
    "            test_acc = network.accuracy(x_test, y_test)\n",
    "            train_acc_list.append(train_acc)\n",
    "            test_acc_list.append(test_acc)\n",
    "            print(\"Train acc:{:<.6f}\\tTest acc:{:<.6f}\".format(train_acc, test_acc))"
   ]
  },
  {
   "cell_type": "code",
   "execution_count": 16,
   "metadata": {
    "collapsed": true
   },
   "outputs": [],
   "source": [
    "# 读入数据\n",
    "(x_train, y_train), (x_test, y_test) = load_mnist(path, normalize=True, one_hot_label=True)"
   ]
  },
  {
   "cell_type": "code",
   "execution_count": 17,
   "metadata": {
    "collapsed": true
   },
   "outputs": [],
   "source": [
    "network = TwoLayerNet(input_size=784, hidden_size=300, output_size=10)"
   ]
  },
  {
   "cell_type": "code",
   "execution_count": 18,
   "metadata": {
    "collapsed": true
   },
   "outputs": [
    {
     "output_type": "stream",
     "name": "stdout",
     "text": [
      "Train acc:0.087200\tTest acc:0.086500\n",
      "Train acc:0.881483\tTest acc:0.887300\n",
      "Train acc:0.924683\tTest acc:0.922100\n",
      "Train acc:0.946400\tTest acc:0.946400\n",
      "Train acc:0.958733\tTest acc:0.954900\n",
      "Train acc:0.969550\tTest acc:0.964600\n",
      "Train acc:0.974883\tTest acc:0.968500\n",
      "Train acc:0.978117\tTest acc:0.971100\n",
      "Train acc:0.981833\tTest acc:0.972100\n",
      "Train acc:0.984933\tTest acc:0.975100\n",
      "Train acc:0.987933\tTest acc:0.978300\n",
      "Train acc:0.988950\tTest acc:0.977200\n",
      "Train acc:0.987800\tTest acc:0.975900\n",
      "Train acc:0.991833\tTest acc:0.978300\n",
      "Train acc:0.993367\tTest acc:0.978200\n",
      "Train acc:0.993417\tTest acc:0.978300\n",
      "Train acc:0.992333\tTest acc:0.978400\n"
     ]
    }
   ],
   "source": [
    "iters_num = 10000\n",
    "train_size = x_train.shape[0]\n",
    "batch_size = 100\n",
    "learning_rate = 0.1\n",
    "train_network(network, update_parameters, iters_num, train_size, batch_size, learning_rate)"
   ]
  },
  {
   "cell_type": "markdown",
   "metadata": {},
   "source": [
    "### 3.5 梯度下降优化算法\n",
    "下面回顾几种上课讲过的优化算法，注意它们之间的差异与联系。"
   ]
  },
  {
   "cell_type": "markdown",
   "metadata": {},
   "source": [
    "#### 3.5.1AdaGrad  "
   ]
  },
  {
   "cell_type": "markdown",
   "metadata": {},
   "source": [
    "当$J(\\theta)$收敛到最低值附近时，因为步长$\\alpha$大小固定的原因，$J(\\theta)$会在最低值附近徘徊，而不能到达最低值。因此，AdaGrad的想法是随着迭代次数的增加降低学习率$\\alpha$，学习率$\\alpha$衰减的方式是\n",
    "$$\n",
    "\\alpha^t = \\frac{\\alpha}{\\sqrt{t+1}}\n",
    "$$\n",
    "其中t表示第t次迭代。\n",
    "\n",
    "如果梯度数值小，$J(\\theta)$的移动步长小，$J(\\theta)$在坡度平缓的区域内下降速度会变慢。AdaGrad使用均方根来加快$J(\\theta)$在平缓区域的下降速度。均方根的表示为\n",
    "$$\n",
    "\\sigma^t = \\sqrt{\\frac{1}{t+1} \\sum_{i=0}^{t}(g^i)2}\n",
    "$$\n",
    "其中$g^i$表示历史的梯度值。AdaGrad 的更新参数公式是\n",
    "$$\n",
    "\\begin{aligned}\n",
    "\\theta^{t+1} & := \\theta^t - \\frac{\\alpha^t}{\\sigma^t} g^t \\\\\n",
    "& := \\theta^t - \\frac{\\alpha}{\\sqrt{\\sum_{i=0}^t (g^i)^2}} g^t\n",
    "\\end{aligned}\n",
    "$$\n",
    "在坡度平缓的区域，均方根的数值小，梯度除以一个数值小的数会变大，从而加大了$J(\\theta)$移动步长，也因此加快梯度下降速度。但是，AdaGrad的缺点是，随着迭代次数的增大，均方根会越来越大，梯度趋近于0，导致训练提前停止。为了防止分母为0，我们给分母加上一个小数值$\\epsilon =10^{-7}$。\n",
    "$$\n",
    "\\theta^{t+1} := \\theta^t - \\frac{\\alpha}{\\sqrt{\\sum_{i=0}^t (g^i)^2} + \\epsilon} g^t\n",
    "$$\n",
    "\n",
    "我们可以看到分母里会计算所有历史梯度值的平方和，所以在实现的时候不用保存所有的历史梯度值，只需要保存一个纪录所有历史梯度平方和的值即可。每个参数的历史梯度和初始值为0。   "
   ]
  },
  {
   "cell_type": "code",
   "execution_count": 19,
   "metadata": {
    "code_folding": [
     0
    ],
    "collapsed": true
   },
   "outputs": [],
   "source": [
    "def initialize_grads_squared(network):\n",
    "    \"\"\"\n",
    "    初始化历史梯度和\n",
    "    \"\"\"\n",
    "    grads_squared = {}\n",
    "    \n",
    "    for key in ('W1', 'b1', 'W2', 'b2', 'W3', 'b3'):\n",
    "        \n",
    "        grads_squared[key] = np.zeros(network.params[key].shape)\n",
    "        \n",
    "    return grads_squared"
   ]
  },
  {
   "cell_type": "code",
   "execution_count": 20,
   "metadata": {
    "collapsed": true
   },
   "outputs": [],
   "source": [
    "network = TwoLayerNet(input_size=784, hidden_size=300, output_size=10)\n",
    "grads_squared = initialize_grads_squared(network)"
   ]
  },
  {
   "cell_type": "code",
   "execution_count": 21,
   "metadata": {
    "code_folding": [
     0
    ],
    "collapsed": true
   },
   "outputs": [],
   "source": [
    "def update_parameters_with_adagrad(network, grads, learning_rate=0.001, epsilon = 1e-7):\n",
    "    for key in ('W1', 'b1', 'W2', 'b2', 'W3', 'b3'):\n",
    "        ### START CODE HERE ### \n",
    "        \n",
    "        #计算历史梯度平方和\n",
    "        grads_squared[key] += grads[key]**2\n",
    "        network.params[key] -= learning_rate*grads[key]/(np.sqrt(grads_squared[key])+epsilon)\n",
    "        ### END CODE HERE ###\n",
    "        \n",
    "    return "
   ]
  },
  {
   "cell_type": "code",
   "execution_count": 22,
   "metadata": {
    "collapsed": true
   },
   "outputs": [
    {
     "output_type": "stream",
     "name": "stdout",
     "text": [
      "Train acc:0.227933\tTest acc:0.223100\n",
      "Train acc:0.863117\tTest acc:0.864500\n",
      "Train acc:0.881933\tTest acc:0.882900\n",
      "Train acc:0.891633\tTest acc:0.891900\n",
      "Train acc:0.896583\tTest acc:0.896700\n",
      "Train acc:0.900600\tTest acc:0.900800\n",
      "Train acc:0.903317\tTest acc:0.903600\n",
      "Train acc:0.906050\tTest acc:0.906800\n",
      "Train acc:0.907450\tTest acc:0.908900\n",
      "Train acc:0.910583\tTest acc:0.909300\n",
      "Train acc:0.912300\tTest acc:0.913000\n",
      "Train acc:0.914333\tTest acc:0.913100\n",
      "Train acc:0.914733\tTest acc:0.914100\n",
      "Train acc:0.916083\tTest acc:0.914200\n",
      "Train acc:0.918217\tTest acc:0.916600\n",
      "Train acc:0.918833\tTest acc:0.917100\n",
      "Train acc:0.919400\tTest acc:0.919100\n"
     ]
    }
   ],
   "source": [
    "iters_num = 10000\n",
    "train_size = x_train.shape[0]\n",
    "batch_size = 100\n",
    "learning_rate = 0.001\n",
    "train_network(network, update_parameters_with_adagrad, iters_num, train_size, batch_size, learning_rate)"
   ]
  },
  {
   "cell_type": "markdown",
   "metadata": {},
   "source": [
    "#### 3.5.2 RMSprop  "
   ]
  },
  {
   "cell_type": "markdown",
   "metadata": {},
   "source": [
    "从AdaGrad算法的公式可看出，所有时刻的梯度都对当前的参数更新有影响。如果早先的梯度并不是一个正确的方向，那么这些糟糕的梯度还是会影响到当前的参数更新。因此，RMSprop相当于就是只记录当前时刻前的某一段历史梯度和而不是所有历史梯度和。  \n",
    "RMSprop算法的公式如下：  \n",
    "$$\n",
    " u^0 = 0 \\\\\n",
    " u^{t+1} = \\rho u^t + (1-\\rho) [\\nabla J(\\theta ^t)]^2 \\\\ \n",
    " \\theta^{t+1} = \\theta^t - \\frac{\\alpha}{\\sqrt{u^{t+1}}+\\epsilon}\\nabla J(\\theta ^t) \n",
    "$$\n",
    "这里$\\rho$是超参数，一般设为0.999，也不会调它。$\\epsilon$是防止分母为0。另外值得注意的是，因为要整合这几个算法在一起，而Adam算法又融合了各种算法，所以，关于优化算法的超参数的命名与Adam里保持一致，公式里的$\\rho$用下面参数`beta`代替。这些算法几乎都要保存一些变量，它们的初始化基本与AdaGrad初始化的方法一致，所以这部分初始化的代码就不重复了。  "
   ]
  },
  {
   "cell_type": "code",
   "execution_count": 23,
   "metadata": {
    "code_folding": [
     0
    ],
    "collapsed": true
   },
   "outputs": [],
   "source": [
    "def update_parameters_with_rmsprop(network, grads, learning_rate=0.001, epsilon = 1e-7, beta=0.999):\n",
    "    for key in ('W1', 'b1', 'W2', 'b2', 'W3', 'b3'):\n",
    "        ### START CODE HERE ### \n",
    "        \n",
    "        #公式里的u就是这里的 grads_squared         \n",
    "        grads_squared[key] = beta * grads_squared[key] +(1-beta)*(grads[key]**2)\n",
    "        network.params[key] -=  learning_rate/(np.sqrt(grads_squared[key])+epsilon)*grads[key]\n",
    "        \n",
    "        ### END CODE HERE ###\n",
    "    return "
   ]
  },
  {
   "cell_type": "code",
   "execution_count": 24,
   "metadata": {
    "collapsed": true
   },
   "outputs": [],
   "source": [
    "network = TwoLayerNet(input_size=784, hidden_size=300, output_size=10)\n",
    "grads_squared = initialize_grads_squared(network)"
   ]
  },
  {
   "cell_type": "code",
   "execution_count": 25,
   "metadata": {
    "collapsed": true
   },
   "outputs": [
    {
     "output_type": "stream",
     "name": "stdout",
     "text": [
      "Train acc:0.098633\tTest acc:0.095800\n",
      "Train acc:0.968333\tTest acc:0.963300\n",
      "Train acc:0.978600\tTest acc:0.970200\n",
      "Train acc:0.984600\tTest acc:0.973200\n",
      "Train acc:0.987267\tTest acc:0.974800\n",
      "Train acc:0.990567\tTest acc:0.977800\n",
      "Train acc:0.991267\tTest acc:0.976000\n",
      "Train acc:0.994117\tTest acc:0.979300\n",
      "Train acc:0.993517\tTest acc:0.977300\n",
      "Train acc:0.995100\tTest acc:0.976800\n",
      "Train acc:0.995517\tTest acc:0.977700\n",
      "Train acc:0.997583\tTest acc:0.979800\n",
      "Train acc:0.997067\tTest acc:0.976900\n",
      "Train acc:0.997733\tTest acc:0.977600\n",
      "Train acc:0.997633\tTest acc:0.977400\n",
      "Train acc:0.996183\tTest acc:0.975100\n",
      "Train acc:0.996417\tTest acc:0.975900\n"
     ]
    }
   ],
   "source": [
    "iters_num = 10000\n",
    "train_size = x_train.shape[0]\n",
    "batch_size = 100\n",
    "learning_rate = 0.001\n",
    "train_network(network, update_parameters_with_rmsprop, iters_num, train_size, batch_size, learning_rate)"
   ]
  },
  {
   "cell_type": "markdown",
   "metadata": {},
   "source": [
    "#### 3.5.3 AdaDelta"
   ]
  },
  {
   "cell_type": "markdown",
   "metadata": {},
   "source": [
    "AdaDelta 针对 AdaGrad的存在的两个问题:\n",
    "- 学习率随着训练过程的推进持续下降\n",
    "- 需要人工选择学习率\n",
    "\n",
    "进行了以下改进：\n",
    "- 利用类似RMSProp的方式，进行记录当前时刻前的某一段历史梯度而不是所有历史梯度\n",
    "- 替换掉了学习率这个超参数\n",
    "\n",
    "令 $g_t = \\frac{\\partial J(\\theta^t)}{\\partial \\theta} $, 引入RMS(root mean square)函数：\n",
    "$$\n",
    "RMS[g]_t = \\sqrt{E[g^2]_t + \\epsilon}\n",
    "$$\n",
    "\n",
    "其中 $E[g^2]_t = \\rho E[g^2]_{t-1} + (1-\\rho)g_t^2$ 为 $g_t^2$ 的移动平均，同理，由RMSProp可得到：\n",
    "$$\n",
    "\\Delta \\theta^t = \\theta^{t+1}-\\theta^t = - \\frac{\\alpha}{RMS[g]_t}g_t\n",
    "$$\n",
    "\n",
    "利用$\\Delta \\theta$的RMS替换学习率 $\\alpha$,从而得到 $\\theta$的更新式子：\n",
    "$$\n",
    "\\theta^{t+1}=\\theta^t - \\frac{RMS[\\theta]_{t-1}}{RMS[g]_t}g_t\n",
    "$$"
   ]
  },
  {
   "cell_type": "markdown",
   "metadata": {},
   "source": [
    "#### 3.5.4 Momentum"
   ]
  },
  {
   "cell_type": "markdown",
   "metadata": {},
   "source": [
    "动量梯度下降（Gradient Descent with Momentum）基本思想就是计算梯度的指数加权平均数，并利用该指数加权平均数更新权重。具体过程为：\n",
    "$$\n",
    "v^0 = 0 \\\\\n",
    "v^{t+1}  = \\rho v^t +\\alpha \\nabla J(\\theta ^t) \\\\\n",
    "\\theta^{t+1} = \\theta ^t - v^{t+1}\n",
    "$$\n",
    "\n",
    "这里的$\\rho$一般取0.9。 "
   ]
  },
  {
   "cell_type": "code",
   "execution_count": 26,
   "metadata": {
    "code_folding": [
     0
    ],
    "collapsed": true
   },
   "outputs": [],
   "source": [
    "def initialize_velocity(network):\n",
    "    v = {}\n",
    "    for key in ('W1', 'b1', 'W2', 'b2', 'W3', 'b3'):\n",
    "        v[key] = np.zeros((network.params[key]).shape) \n",
    "    return v"
   ]
  },
  {
   "cell_type": "code",
   "execution_count": 27,
   "metadata": {
    "collapsed": true
   },
   "outputs": [],
   "source": [
    "network = TwoLayerNet(input_size=784, hidden_size=300, output_size=10)\n",
    "v = initialize_velocity(network)"
   ]
  },
  {
   "cell_type": "code",
   "execution_count": 28,
   "metadata": {
    "code_folding": [
     0
    ],
    "collapsed": true
   },
   "outputs": [],
   "source": [
    "def update_parameters_with_momentum(network, grads, learning_rate=0.001, beta=0.9):\n",
    "    for key in ('W1', 'b1', 'W2', 'b2', 'W3', 'b3'):\n",
    "        ### START CODE HERE ### \n",
    "        \n",
    "        #公式里的u就是这里的 grads_squared         \n",
    "        v[key] = beta*v[key]+learning_rate*grads[key]\n",
    "        network.params[key] -= v[key]\n",
    "        \n",
    "        ### END CODE HERE ###\n",
    "    return "
   ]
  },
  {
   "cell_type": "code",
   "execution_count": 29,
   "metadata": {
    "collapsed": true
   },
   "outputs": [
    {
     "output_type": "stream",
     "name": "stdout",
     "text": [
      "Train acc:0.087333\tTest acc:0.086700\n",
      "Train acc:0.112367\tTest acc:0.113500\n",
      "Train acc:0.262567\tTest acc:0.265500\n",
      "Train acc:0.388550\tTest acc:0.400500\n",
      "Train acc:0.688550\tTest acc:0.699800\n",
      "Train acc:0.783200\tTest acc:0.790000\n",
      "Train acc:0.823617\tTest acc:0.830000\n",
      "Train acc:0.848867\tTest acc:0.852900\n",
      "Train acc:0.867650\tTest acc:0.870500\n",
      "Train acc:0.880717\tTest acc:0.884000\n",
      "Train acc:0.889933\tTest acc:0.889700\n",
      "Train acc:0.896033\tTest acc:0.894500\n",
      "Train acc:0.900233\tTest acc:0.899000\n",
      "Train acc:0.905300\tTest acc:0.902500\n",
      "Train acc:0.909533\tTest acc:0.906300\n",
      "Train acc:0.912867\tTest acc:0.910400\n",
      "Train acc:0.915367\tTest acc:0.913600\n"
     ]
    }
   ],
   "source": [
    "iters_num = 10000\n",
    "train_size = x_train.shape[0]\n",
    "batch_size = 100\n",
    "learning_rate = 0.001\n",
    "train_network(network, update_parameters_with_momentum, iters_num, train_size, batch_size, learning_rate)"
   ]
  },
  {
   "cell_type": "markdown",
   "metadata": {},
   "source": [
    "#### 3.5.5 Nesterov Momentum  "
   ]
  },
  {
   "cell_type": "markdown",
   "metadata": {},
   "source": [
    "Nesterov Momentum算法与Momentum不同的是在于，它会提前计算一个在速度作用后的梯度。具体算法如下：\n",
    "$$\n",
    "v^{t+1} = \\rho v^t + \\alpha \\nabla J(\\theta ^t - \\rho v^t) \\\\\n",
    "\\theta^{t+1} = \\theta ^t - v^{t+1}\n",
    "$$\n",
    "但是在实现的时候，我们是不会算一次$J(\\theta ^t)$再算一次$\\nabla J(\\theta ^t - \\rho v^t)$的。具体编程实现时上式等价于下式：\n",
    "$$\n",
    " v^{t+1} = \\rho v^t + \\alpha \\nabla J(\\theta ^t) \\\\\n",
    " \\theta^{t+1} = \\theta ^t - \\rho v^{t+1} - \\alpha \\nabla J(\\theta ^t)\n",
    "$$\n",
    "这里的$\\rho$一般取0.9。  "
   ]
  },
  {
   "cell_type": "code",
   "execution_count": 30,
   "metadata": {
    "collapsed": true
   },
   "outputs": [],
   "source": [
    "def update_parameters_with_nesterov_momentum(network, grads, learning_rate=0.001, beta=0.9):\n",
    "    for key in ('W1', 'b1', 'W2', 'b2', 'W3', 'b3'):\n",
    "        ### START CODE HERE ### \n",
    "                \n",
    "        v[key] = beta*v[key]+learning_rate*grads[key]\n",
    "        network.params[key] -= (beta*v[key] + learning_rate* grads[key])\n",
    "        \n",
    "        ### END CODE HERE ###\n",
    "    return "
   ]
  },
  {
   "cell_type": "code",
   "execution_count": 31,
   "metadata": {
    "collapsed": true
   },
   "outputs": [],
   "source": [
    "network = TwoLayerNet(input_size=784, hidden_size=300, output_size=10)\n",
    "v = initialize_velocity(network)"
   ]
  },
  {
   "cell_type": "code",
   "execution_count": 32,
   "metadata": {
    "collapsed": true
   },
   "outputs": [
    {
     "output_type": "stream",
     "name": "stdout",
     "text": [
      "Train acc:0.087283\tTest acc:0.086500\n",
      "Train acc:0.112367\tTest acc:0.113500\n",
      "Train acc:0.264100\tTest acc:0.268100\n",
      "Train acc:0.393133\tTest acc:0.404900\n",
      "Train acc:0.689750\tTest acc:0.701400\n",
      "Train acc:0.783483\tTest acc:0.790400\n",
      "Train acc:0.823683\tTest acc:0.829800\n",
      "Train acc:0.849533\tTest acc:0.854100\n",
      "Train acc:0.867767\tTest acc:0.870600\n",
      "Train acc:0.880817\tTest acc:0.883900\n",
      "Train acc:0.889867\tTest acc:0.890000\n",
      "Train acc:0.896067\tTest acc:0.894900\n",
      "Train acc:0.900117\tTest acc:0.899000\n",
      "Train acc:0.905283\tTest acc:0.902500\n",
      "Train acc:0.909533\tTest acc:0.906200\n",
      "Train acc:0.913017\tTest acc:0.910300\n",
      "Train acc:0.915450\tTest acc:0.914000\n"
     ]
    }
   ],
   "source": [
    "iters_num = 10000\n",
    "train_size = x_train.shape[0]\n",
    "batch_size = 100\n",
    "learning_rate = 0.001\n",
    "train_network(network, update_parameters_with_nesterov_momentum, iters_num, train_size, batch_size, learning_rate)"
   ]
  },
  {
   "cell_type": "markdown",
   "metadata": {},
   "source": [
    "#### 3.5.6 Adam"
   ]
  },
  {
   "cell_type": "markdown",
   "metadata": {},
   "source": [
    "Adam优化算法（Adaptive Moment Estimation）是将Momentum和RMSprop结合在一起的算法，具体过程如下\n",
    "$$\n",
    "u^0 = 0 \\\\\n",
    "v^0 = 0 \\\\\n",
    "u^{t+1}  = \\rho_2 u^t +(1-\\rho_2) [\\nabla J(\\theta ^t)]^2 \\\\\n",
    "v^{t+1}  = \\rho_1 v^t + (1-\\rho_1)\\nabla J(\\theta ^t) \\\\\n",
    "\\theta^{t+1} = \\theta ^t - \\frac{\\alpha}{\\sqrt{u^{t+1}}+\\epsilon}v^{t+1}\n",
    "$$\n",
    "从上式可以看到，在最开始更新时，$u^{t},v^{t}$都是很小的。所以需要对早期的更新进行一个bias correction。完整公式如下\n",
    "$$\n",
    "u^0 = 0 \\\\\n",
    "v^0 = 0 \\\\\n",
    "u^{t+1}  = \\rho_2 u^t +(1-\\rho_2) [\\nabla J(\\theta ^t)]^2 \\\\\n",
    "u^{t+1}_{corrected} = \\frac{u^{t+1}}{1-\\rho_2^t} \\\\\n",
    "v^{t+1}  = \\rho_1 v^t + (1-\\rho_1)\\nabla J(\\theta ^t) \\\\\n",
    "v^{t+1}_{corrected} = \\frac{v^{t+1}}{1-\\rho_1^t} \\\\\n",
    "\\theta^{t+1} = \\theta ^t - \\frac{\\alpha}{\\sqrt{u^{t+1}_{corrected}}+\\epsilon}v^{t+1}_{corrected}\n",
    "$$\n",
    "\n",
    "其中，一般设$\\rho_1=0.9,\\rho_2=0.999$.$\\epsilon$也是防止分母过小或等于0.  "
   ]
  },
  {
   "cell_type": "code",
   "execution_count": 33,
   "metadata": {
    "code_folding": [
     0
    ],
    "collapsed": true
   },
   "outputs": [],
   "source": [
    "def initialize_adam(network) :\n",
    "    v = {}\n",
    "    u = {}\n",
    "\n",
    "    for key in ('W1', 'b1', 'W2', 'b2', 'W3', 'b3'):\n",
    "        v[key] = np.zeros(np.shape(network.params[key]))\n",
    "        u[key] = np.zeros(np.shape(network.params[key]))\n",
    "            \n",
    "    return v, u"
   ]
  },
  {
   "cell_type": "code",
   "execution_count": 34,
   "metadata": {
    "collapsed": true
   },
   "outputs": [],
   "source": [
    "network = TwoLayerNet(input_size=784, hidden_size=300, output_size=10)\n",
    "v, u = initialize_adam(network)"
   ]
  },
  {
   "cell_type": "code",
   "execution_count": 35,
   "metadata": {
    "code_folding": [
     0
    ],
    "collapsed": true
   },
   "outputs": [],
   "source": [
    "def update_parameters_with_adam(network, grads, learning_rate=0.001, epsilon=1e-7, beta1=0.9, beta2=0.999):\n",
    "    v_corrected = {}\n",
    "    u_corrected = {} \n",
    "    t = network.t #当前迭代次数\n",
    "    for key in ('W1', 'b1', 'W2', 'b2', 'W3', 'b3'):\n",
    "        ### START CODE HERE ### \n",
    "                \n",
    "        v[key] = beta1*v[key]+(1-beta1)*grads[key]\n",
    "        v_corrected[key] = v[key]/(1-beta1**t)\n",
    "        \n",
    "        u[key] = beta2*u[key]+(1-beta2)*(grads[key]**2)\n",
    "        u_corrected[key] = u[key]/(1-beta2**t)\n",
    "        \n",
    "        network.params[key] -= learning_rate/(np.sqrt(u_corrected[key])+epsilon)*v_corrected[key]\n",
    "        \n",
    "        ### END CODE HERE ###\n",
    "    return "
   ]
  },
  {
   "cell_type": "code",
   "execution_count": 36,
   "metadata": {
    "collapsed": true
   },
   "outputs": [
    {
     "output_type": "stream",
     "name": "stdout",
     "text": [
      "Train acc:0.227933\tTest acc:0.223100\n",
      "Train acc:0.958100\tTest acc:0.954900\n",
      "Train acc:0.972467\tTest acc:0.968100\n",
      "Train acc:0.979800\tTest acc:0.970700\n",
      "Train acc:0.985467\tTest acc:0.975100\n",
      "Train acc:0.989367\tTest acc:0.976000\n",
      "Train acc:0.989550\tTest acc:0.975300\n",
      "Train acc:0.991617\tTest acc:0.980000\n",
      "Train acc:0.992467\tTest acc:0.978400\n",
      "Train acc:0.993617\tTest acc:0.976200\n",
      "Train acc:0.995150\tTest acc:0.981300\n",
      "Train acc:0.994583\tTest acc:0.978900\n",
      "Train acc:0.995817\tTest acc:0.980100\n",
      "Train acc:0.997450\tTest acc:0.980500\n",
      "Train acc:0.997183\tTest acc:0.979100\n",
      "Train acc:0.996567\tTest acc:0.978900\n",
      "Train acc:0.998583\tTest acc:0.981800\n"
     ]
    }
   ],
   "source": [
    "iters_num = 10000\n",
    "train_size = x_train.shape[0]\n",
    "batch_size = 100\n",
    "learning_rate = 0.001\n",
    "train_network(network, update_parameters_with_adam, iters_num, train_size, batch_size, learning_rate)"
   ]
  },
  {
   "cell_type": "markdown",
   "metadata": {},
   "source": [
    "#### 3.5.7 AdaBelief"
   ]
  },
  {
   "cell_type": "markdown",
   "metadata": {},
   "source": [
    "Adam优化算法中，梯度更新的方向是 $\\frac{v_{t+1}}{\\sqrt{u_{t+1}}}$, 其中 $u_{t+1}$ 是 $[\\nabla J(\\theta ^t)]^2$ 的指数移动平均(exponential moving average,EMA)。\n",
    "\n",
    "AdaBelief优化算法将梯度方向改为了 $\\frac{v_{t+1}}{\\sqrt{s_{t+1}}}$, 其中 $s_{t+1}$ 是 $[\\nabla J(\\theta ^t)-v_{t}]^2$ 的指数移动平均，AdaBelief的算法过程具体如下：\n",
    "$$\n",
    "s^0 = 0 \\\\\n",
    "v^0 = 0 \\\\\n",
    "v^{t+1}  = \\rho_1 v^t + (1-\\rho_1)\\nabla J(\\theta ^t) \\\\\n",
    "s^{t+1}  = \\rho_2 s^t +(1-\\rho_2) [\\nabla J(\\theta ^t)-v_{t+1}]^2 \\\\\n",
    "\\theta^{t+1} = \\theta ^t - \\frac{\\alpha}{\\sqrt{s^{t+1}}+\\epsilon}v^{t+1}\n",
    "$$\n",
    "\n",
    "与Adam优化算法同理，从上式可以看到，AdaBelief优化算法在最开始更新时，$s^{t},v^{t}$都是很小的。所以需要对早期的更新进行一个bias correction。完整公式如下\n",
    "$$\n",
    "s^0 = 0 \\\\\n",
    "v^0 = 0 \\\\\n",
    "v^{t+1}  = \\rho_1 v^t + (1-\\rho_1)\\nabla J(\\theta ^t) \\\\\n",
    "v^{t+1}_{corrected} = \\frac{v^{t+1}}{1-\\rho_1^t} \\\\\n",
    "s^{t+1}  = \\rho_2 s^t +(1-\\rho_2) [\\nabla J(\\theta ^t)-v_{t+1}]^2 \\\\\n",
    "s^{t+1}_{corrected} = \\frac{s^{t+1}}{1-\\rho_2^t} \\\\\n",
    "\\theta^{t+1} = \\theta ^t - \\frac{\\alpha}{\\sqrt{s^{t+1}_{corrected}}+\\epsilon}v^{t+1}_{corrected}\n",
    "$$\n",
    "\n",
    "其中，一般设$\\rho_1=0.9,\\rho_2=0.999$.$\\epsilon$也是防止分母过小或等于0. "
   ]
  },
  {
   "cell_type": "code",
   "execution_count": 37,
   "metadata": {
    "collapsed": true
   },
   "outputs": [],
   "source": [
    "def initialize_adambelief(network) :\n",
    "    v = {}\n",
    "    s = {}\n",
    "\n",
    "    for key in ('W1', 'b1', 'W2', 'b2', 'W3', 'b3'):\n",
    "        v[key] = np.zeros(np.shape(network.params[key]))\n",
    "        s[key] = np.zeros(np.shape(network.params[key]))\n",
    "            \n",
    "    return v, s"
   ]
  },
  {
   "cell_type": "code",
   "execution_count": 38,
   "metadata": {
    "collapsed": true
   },
   "outputs": [],
   "source": [
    "network = TwoLayerNet(input_size=784, hidden_size=300, output_size=10)\n",
    "v, s = initialize_adambelief(network)"
   ]
  },
  {
   "cell_type": "code",
   "execution_count": 39,
   "metadata": {
    "collapsed": true
   },
   "outputs": [],
   "source": [
    "def update_parameters_with_adambelief(network, grads, learning_rate=0.001, epsilon=1e-7, beta1=0.9, beta2=0.999):\n",
    "    v_corrected = {}\n",
    "    s_corrected = {} \n",
    "    t = network.t #当前迭代次数\n",
    "    for key in ('W1', 'b1', 'W2', 'b2', 'W3', 'b3'):\n",
    "        ### START CODE HERE ### \n",
    "                \n",
    "        v[key] = beta1*v[key]+(1-beta1)*grads[key]\n",
    "        v_corrected[key] = v[key]/(1-beta1**t)\n",
    "        \n",
    "        s[key] = beta2*s[key]+(1-beta2)*(grads[key]-v[key])**2\n",
    "        s_corrected[key] = s[key]/(1-beta2**t)\n",
    "        \n",
    "        network.params[key] -= learning_rate/(np.sqrt(s_corrected[key])+epsilon)*v_corrected[key]\n",
    "        \n",
    "        ### END CODE HERE ###\n",
    "    return "
   ]
  },
  {
   "cell_type": "code",
   "execution_count": 40,
   "metadata": {
    "collapsed": true
   },
   "outputs": [
    {
     "output_type": "stream",
     "name": "stdout",
     "text": [
      "Train acc:0.232483\tTest acc:0.227100\n",
      "Train acc:0.959667\tTest acc:0.954900\n",
      "Train acc:0.974133\tTest acc:0.970100\n",
      "Train acc:0.981917\tTest acc:0.972800\n",
      "Train acc:0.986033\tTest acc:0.977200\n",
      "Train acc:0.987650\tTest acc:0.974300\n",
      "Train acc:0.991950\tTest acc:0.977400\n",
      "Train acc:0.992750\tTest acc:0.976400\n",
      "Train acc:0.993350\tTest acc:0.977400\n",
      "Train acc:0.994767\tTest acc:0.977800\n",
      "Train acc:0.994250\tTest acc:0.978300\n",
      "Train acc:0.995117\tTest acc:0.978100\n",
      "Train acc:0.994967\tTest acc:0.977600\n",
      "Train acc:0.994467\tTest acc:0.977000\n",
      "Train acc:0.996067\tTest acc:0.981100\n",
      "Train acc:0.997433\tTest acc:0.981500\n",
      "Train acc:0.997133\tTest acc:0.979700\n"
     ]
    }
   ],
   "source": [
    "iters_num = 10000\n",
    "train_size = x_train.shape[0]\n",
    "batch_size = 100\n",
    "learning_rate = 0.001\n",
    "train_network(network, update_parameters_with_adambelief, iters_num, train_size, batch_size, learning_rate)"
   ]
  },
  {
   "cell_type": "markdown",
   "metadata": {},
   "source": [
    "## 4. 总结\n",
    "本次实验完整搭建了一个三层的全连接网络，使用了各种梯度更新优化算法训练MNIST数据集。  \n",
    "提交作业后，可以试试再把准确度提高一点？"
   ]
  }
 ],
 "metadata": {
  "kernelspec": {
   "display_name": "Python 3",
   "language": "python",
   "name": "python3"
  },
  "language_info": {
   "codemirror_mode": {
    "name": "ipython",
    "version": 3
   },
   "file_extension": ".py",
   "mimetype": "text/x-python",
   "name": "python",
   "nbconvert_exporter": "python",
   "pygments_lexer": "ipython3",
   "version": "3.8.3-final"
  },
  "toc": {
   "base_numbering": 1,
   "nav_menu": {},
   "number_sections": true,
   "sideBar": true,
   "skip_h1_title": false,
   "title_cell": "Table of Contents",
   "title_sidebar": "Contents",
   "toc_cell": false,
   "toc_position": {},
   "toc_section_display": true,
   "toc_window_display": false
  },
  "varInspector": {
   "cols": {
    "lenName": 16,
    "lenType": 16,
    "lenVar": 40
   },
   "kernels_config": {
    "python": {
     "delete_cmd_postfix": "",
     "delete_cmd_prefix": "del ",
     "library": "var_list.py",
     "varRefreshCmd": "print(var_dic_list())"
    },
    "r": {
     "delete_cmd_postfix": ") ",
     "delete_cmd_prefix": "rm(",
     "library": "var_list.r",
     "varRefreshCmd": "cat(var_dic_list()) "
    }
   },
   "types_to_exclude": [
    "module",
    "function",
    "builtin_function_or_method",
    "instance",
    "_Feature"
   ],
   "window_display": false
  }
 },
 "nbformat": 4,
 "nbformat_minor": 2
}