{
 "cells": [
  {
   "cell_type": "markdown",
   "metadata": {
    "colab_type": "text",
    "id": "ZpVfPosXpDwd"
   },
   "source": [
    "**一 SVM简单介绍** \n",
    "\n",
    "支持向量机(Support Vector Machine，SVM)是Corinna Cortes和Vapnik等于1995年首先提出的，它在解决小样本、非线性及高维模式识别中表现出许多特有的优势，并能够推广应用到函数拟合等其他机器学习问题中。 在机器学习中，支持向量机是与相关的学习算法有关的监督学习模型，可以分析数据、识别模式，用于分类和回归分析。"
   ]
  },
  {
   "cell_type": "markdown",
   "metadata": {
    "colab_type": "text",
    "id": "bW4VBEbBpDwg"
   },
   "source": [
    "**二 函数间隔与几何间隔**  \n",
    "\n",
    "对一个数据点进行分类，当超平面离数据点的“间隔”越大，分类的确信度（confidence）也越大。所以，为了使得分类的确信度尽量高，需要让所选择的超平面能够最大化这个“间隔”值。这个间隔就是下图中的Gap的一半。\n",
    "![2.png](image/2.png)\n",
    "\n",
    "\n",
    "\n",
    "**2.1 函数间隔**<br>\n",
    "定义函数间隔为：\n",
    "$$\\hat\\gamma=y(w^Tx+b)=yf(x)$$\n",
    "而超平面(w，b)关于T中所有样本点($x_i$，$y_i$)的函数间隔最小值（其中，x是特征，y是结果标签，i表示第i个样本），便为超平面(w, b)关于训练数据集T的函数间隔。 但这样定义的函数间隔有问题，即如果成比例的改变w和b（如将它们改成2w和2b），则函数间隔的值f(x)却变成了原来的2倍（虽然此时超平面没有改变），所以只有函数间隔还不够，我们要引入几何间隔。\n",
    "![1.png](image/1.png) \n",
    "\n",
    "**2.2 几何间隔**<br>\n",
    "在几何学里，点($x_i$，$y_i$)到直线$ax+by+c=0$的距离公式:\n",
    "$$d(x_i, y_i) = \\frac{|ax_i+by_i+c|}{\\sqrt{a^{2}+b^{2}}}$$\n",
    "所以在二维空间中，几何间隔就是点到直线的距离；在三维空间中，几何间隔是点到空间上一平面的距离；而在SVM中，平面变成了超平面，几何间隔便是样本点到超平面的距离：\n",
    "$$\\gamma_{i}=y_{i}(\\frac{w^T}{\\Vert w\\Vert}x_{i}+\\frac{b}{\\Vert w\\Vert})$$\n",
    "\n"
   ]
  },
  {
   "cell_type": "markdown",
   "metadata": {
    "colab_type": "text",
    "id": "_XtDLxHBpDwh"
   },
   "source": [
    "**三 最大间隔分类器**  \n",
    "\n",
    "\n",
    "如下图所示，中间的实线便是寻找到的最优超平面（Optimal Hyper Plane），其到两条虚线边界的距离相等，虚线边界上的点到最优超平面的距离便是几何间隔，两条虚线间隔边界之间的距离等于2倍的几何间隔，而虚线间隔边界上的点则是支持向量。而对于所有不是支持向量的点，有如下关系：\n",
    "$y(w^Tx+b)>1$\n",
    "![3.png](image/3.png)\n",
    "\n",
    "函数间隔不适合用来最大化间隔值，因为在超平面固定以后，可以等比例地缩放w的长度和b的值，这样可以使得的值任意大，亦即函数间隔可以在超平面保持不变的情况下被取得任意大。但几何间隔因为除上了${\\Vert w\\Vert}$，使得在缩放w和b的时候几何间隔的值是不会改变的，它只随着超平面的变动而变动，因此，这是更加合适的一个间隔。换言之，这里要找的最大间隔分类超平面中的“间隔”指的是几何间隔。 于是最大间隔分类器（maximum margin classifier）的目标函数可以定义为： 同时需满足一些条件，根据间隔的定义，有\n",
    "$$y_i(w^Tx_i+b)=\\hat\\gamma_i>=\\hat\\gamma,i=1,2,...,n$$\n",
    "距离超平面最近的这几个训练样本点使得等式成立，它们被称为**支持向量**，这些支持向量到到超平面的距离是$\\frac{1}{w}$\n",
    "从而上述目标函数转化成了：\n",
    "$$max\\frac{1}{\\Vert w\\Vert},s.t.\\ y_i(w^Tx_i+b)>=1,i=1,2,...,n$$\n",
    "\n",
    "相当于在相应的约束条件下，最大化这个$\\frac{1}{\\Vert w\\Vert}$值，而$\\frac{1}{\\Vert w\\Vert}$便是要求解的几何间隔。"
   ]
  },
  {
   "cell_type": "markdown",
   "metadata": {
    "colab_type": "text",
    "id": "itajtXgSpDwj"
   },
   "source": [
    "**通过以上的介绍，我们得出支持向量机的目标函数，但往往这个问题不是那么容易解决，所以需要将其转化为其对偶形式求解，往往对对偶形式求解会比直接对原问题求解方便很多。**"
   ]
  },
  {
   "cell_type": "markdown",
   "metadata": {
    "colab_type": "text",
    "id": "Q1qERHrRpDwk"
   },
   "source": [
    "**四 原始问题到对偶问题的求解**   \n",
    "\n",
    "接着考虑之前得到的目标函数：\n",
    "$$max\\frac{1}{\\Vert w\\Vert}$$ $$s.t.\\ y_i(w^Tx_i+b)>=1,i=1,2,...,n$$\n",
    "由于求$\\frac{1}{\\Vert w\\Vert}$的最大值相当于求${\\Vert w\\Vert}$的最小值，也相当于求$\\frac{1}{2}{\\Vert w\\Vert}^2$的最小值，所以上述目标函数等价于：\n",
    "$$min\\frac{1}{2}{\\Vert w\\Vert}^2$$ $$s.t.\\ y_i(w^Tx_i+b)>=1,i=1,2,...,n$$\n",
    "\n",
    "此外，由于这个问题的特殊结构，还可以通过拉格朗日对偶性（Lagrange Duality）变换到对偶变量 (dual variable) 的优化问题，即通过求解与原问题等价的对偶问题（dual problem）得到原始问题的最优解，这就是线性可分条件下支持向量机的对偶算法，这样做的优点在于：一者对偶问题往往更容易求解；二者可以自然的引入核函数，进而推广到非线性分类问题。 那什么是拉格朗日对偶性呢？简单来讲，通过给每一个约束条件加上一个**拉格朗日乘子**（Lagrange multiplier），定义拉格朗日函数（通过拉格朗日函数将约束条件融合到目标函数里去，从而只用一个函数表达式便能清楚的表达出我们的问题）：\n",
    "$$L\\left(w,b,\\alpha\\right)=\\frac{1}{2}{\\Vert w\\Vert}^2-\\sum_{i=1}^{n}\\alpha_i{\\lgroup}y_i\\left(w^Tx_i+b\\right)-1\\rgroup$$\n",
    "然后令：\n",
    "$$\\theta\\left(w\\right)=max\\ L\\left(w,b,\\alpha\\right),\\alpha_i>=0$$  \n",
    "\n",
    "容易验证，当某个约束条件不满足时，例如$y_i\\left(w^Tx_i+b\\right)<1$，那么显然有$\\theta\\left(w\\right)=\\infty$（只要令$\\alpha_i=\\infty$即可）。而当所有约束条件都满足时，则最优值为$\\theta\\left(w\\right)=\\frac{1}{2}{w}^2$，亦即最初要最小化的量。 因此，在要求约束条件得到满足的情况下最小化$\\frac{1}{2}{w}^2$，实际上等价于直接最小化$\\theta\\left(w\\right)$（当然，这里也有约束条件，就是$\\alpha_i>=0,i=1,...,n)$，因为如果约束条件没有得到满足，会等于无穷大，自然不会是我们所要求的最小值。 具体写出来，目标函数变成了：\n",
    "$$\\min\\limits_{w,b}\\theta\\left(w\\right)=\\min\\limits_{w,b}                              \\max\\limits_{\\alpha_i>=0}L\\left(w,b,\\alpha\\right)=p^*$$\n",
    "这里用$p^*$表示这个问题的最优值，且和最初的问题是等价的。如果直接求解，那么一上来便得面对w和b两个参数，而又是不等式约束，这个求解过程不好做。不妨把最小和最大的位置交换一下，变成：\n",
    "$$\\max\\limits_{\\alpha_i>=0}\\min\\limits_{w,b}L\\left(w,b,\\alpha\\right)=d^*$$\n",
    "\n",
    "交换以后的新问题是原始问题的对偶问题，这个新问题的最优值用来$d^*$来表示。而且有$d^*≤p^*$，在满足某些条件的情况下，这两者相等，这个时候就可以通过求解对偶问题来间接地求解原始问题。  \n",
    "\n",
    "换言之，之所以从min max的原始问题$p^*$，转化为max min的对偶问题$d^*$，一者因为是的近似解，二者，转化为对偶问题后，更容易求解。 下面可以先求L对w、b的极小，再求L对$\\alpha$的极大。\n"
   ]
  },
  {
   "cell_type": "markdown",
   "metadata": {
    "colab_type": "text",
    "id": "0GDW6Tp-pDwl"
   },
   "source": [
    "**五 对偶问题的求解**  \n",
    "\n",
    "$$L\\left(w,b,\\alpha\\right)=\\frac{1}{2}{\\Vert w\\Vert}^2-\\sum_{i=1}^{n}\\alpha_i{\\lgroup}y_i\\left(w^Tx_i+b\\right)-1\\rgroup$$\n",
    "\n",
    "首先固定$\\alpha$,要让L关于w和b最小化，我们分别对w,b求偏导数，即令：\n",
    "\n",
    "$$\\frac{\\partial{L}}{\\partial{w}}=0$$\n",
    "$$\\frac{\\partial{L}}{\\partial{b}}=0$$\n",
    "\n",
    "$$\\frac{\\partial{L}}{\\partial{w}}=0\\Rightarrow \\parallel w \\parallel =\\sum_{i=1}^{n}\\alpha_iy_ix_i$$\n",
    "$$\\frac{\\partial{L}}{\\partial{b}}=0\\Rightarrow\\sum_{i=1}^{n}\\alpha_iy_i=0$$\n",
    "将以上结果带入之前的$L\\left(w,b,\\alpha\\right)$：\n",
    "$$L(w,b,\\alpha)=\\frac{1}{2}{w}^2-\\sum_{i=1}^{n}\\alpha_i{\\lgroup}y_i\\left(w^Tx_i+b\\right)-1{\\rgroup}$$\n",
    "\n",
    "得到：\n",
    "$$L(w,b,\\alpha)=\\frac{1}{2}\\sum_{i,j=1}^{n}\\alpha_i\\alpha_jy_iy_j{x_i}^Tx_j-\\sum_{i,j=1}^{n}\\alpha_i\\alpha_jy_iy_j{x_i}^Tx_j-b\\sum_{i=1}^{n}\\alpha_iy_i+\\sum_{i=1}^{n}\\alpha_i=\\sum_{i=1}^{n}\\alpha_i-\\frac{1}{2}\\sum_{i,j=1}^{n}\\alpha_i\\alpha_j{y_iy_j{x_i}^Tx_j}$$\n",
    "\n",
    "求对$\\alpha$的极大，即是关于对偶问题的最优化问题。经过上面一个步骤的求w和b，得到的拉格朗日式子已经没有了变量w,b，只有$\\alpha$。从上面的式子得到：\n",
    "$$\\max\\limits_{\\alpha}\\sum_{i=1}^{n}\\alpha_i-\\frac{1}{2}\\sum_{i,j=1}^{n}\\alpha_i\\alpha_jy_iy_j{x_i}^Tx_j$$\n",
    "$$s.t.,\\alpha_i>=0,i=1,...,n$$\n",
    "$$\\sum_{i=1}^{n}\\alpha_iy_i=0$$\n",
    "\n",
    "这样，求出了$\\alpha_i$，根据:$$w=\\sum_{i=1}^{n}\\alpha_iy_ix_i$$\n",
    "即可求出w，然后通过\n",
    "$$b^*=-\\frac{\\max_{i:y^i = -1}w^Tx^i+\\min_{i:y^i = 1}w^Tx^i}{2}$$\n",
    "即可求出b，最终得出分离超平面和分类决策函数。  \n",
    "\n",
    "\n",
    "在求得$L(w,b,\\alpha)$关于w和b最小化，以及对$\\alpha$的极大之后，最后一步可以利用SMO算法求解对偶问题中的拉格朗日乘子$\\alpha$。\n",
    "\n",
    "\n"
   ]
  },
  {
   "cell_type": "markdown",
   "metadata": {
    "colab_type": "text",
    "id": "UPMXXwsZpDwn"
   },
   "source": [
    "**在我们刚开始讨论支持向量机时，我们就假定数据是线性可分的，也就是我们可以找到一个可行的超平面将数据完全分开。但是如果数据有噪音，而不是因为数据本身不是非线性结构。对于这种偏离正常位置很远的数据点，我们称之为outlier。**"
   ]
  },
  {
   "cell_type": "markdown",
   "metadata": {
    "colab_type": "text",
    "id": "DLUOyOd1pDwp"
   },
   "source": [
    "**五 使用松弛变量处理outliers方法**  \n",
    "\n",
    "在原先的SVM模型中，outlier的存在可能造成很大的影响，因为超平面本身就是只有少数几个support vector组成，如果这些support vector里又存在outlier的话，其影响就很大了。例如下图：\n",
    "![4.png](image/4.png)\n",
    "\n",
    "用黑圈圈起来的那个蓝点是一个 outlier ，它偏离了自己原本所应该在的那个半空间，如果直接忽略掉它的话，原来的分隔超平面还是挺好的，但是由于这个 outlier 的出现，导致分隔超平面不得不被挤歪了，变成途中黑色虚线所示（这只是一个示意图，并没有严格计算精确坐标），同时 margin 也相应变小了。当然，更严重的情况是，如果这个 outlier 再往右上移动一些距离的话，我们将无法构造出能将数据分开的超平面来。  \n",
    "\n",
    "为了处理这种情况，SVM 允许数据点在一定程度上偏离一下超平面。例如上图中，黑色实线所对应的距离，就是该 outlier 偏离的距离，如果把它移动回来，就刚好落在原来的超平面蓝色间隔边界上，而不会使得超平面发生变形了。  \n",
    "\n",
    "我们原来的约束条件变成了：\n",
    "$$y_i(w^Tx_i+b)>=1,i=1,...,n$$\n",
    "现在考虑outlier的问题，约束条件变成了：\n",
    "$$y_i(w^Tx_i+b)>=1-\\varepsilon_i,i=1,...n$$\n",
    "\n",
    "其中$\\varepsilon_i>=0$称为松弛变量，对应数据点$x_i$允许偏离的function margin的量。当然，如果我们运行$\\varepsilon_i$任意大的话，那任意的超平面都是符合条件的了。所以，我们在原来的目标函数后面加上一项，使得这些$\\varepsilon_i$的总和也要最下：\n",
    "$$\\min\\frac{1}{2}{\\parallel w\\parallel}^2+C\\sum_{i=1}^{n}\\varepsilon_i$$\n",
    "\n",
    "其中C是一个参数，用于控制目标函数中两项(“寻找margin最大的超平面和保证数据点偏差量最小”）之间的权重。注意，其中$\\varepsilon$是需要优化的变量之一，而C是一个事先确定好的常量。完整地写出来是这个样子：\n",
    "$$\\min\\frac{1}{2}{\\parallel w\\parallel}^2+C\\sum_{i=1}^{n}\\varepsilon_i$$\n",
    "$$s.t\\ y_i(w^Tx_i+b)>=1-\\varepsilon_i,i=1,...n$$\n",
    "$$\\varepsilon_i>=0,i=1,...,n$$\n",
    "\n",
    "用之前的方法将约束条件加入到目标函数中，得到的新的拉格朗日函数，如下所示：\n",
    "$$L(w,b,\\varepsilon,\\alpha,\\gamma)=\\frac{1}{2}{\\parallel w\\parallel}^2+C\\sum_{i=1}^{n}\\varepsilon_i-\\sum_{i=1}^{n}\\alpha_i{\\lgroup}y_i\\left(w^Tx_i+b\\right)-1+\\varepsilon_i\\rgroup-\\sum_{i=1}^{n}\\gamma_i\\varepsilon_i$$\n",
    "\n",
    "分析方法和前面一样，转换为另一个问题后，我们先让L针对$w,b和\\varepsilon$最小化：\n",
    "$$\\frac{{\\partial}L}{\\partial w}=0\\Rightarrow w=\\sum_{i=1}{n}\\alpha_iy_ix_i$$\n",
    "\n",
    "$$\\frac{{\\partial}L}{\\partial{b}}=0\\Rightarrow\\sum_{i=1}^{n}\\alpha_iy_i=0$$\n",
    "\n",
    "$$\\frac{{\\partial}L}{\\partial\\varepsilon_i}=0{\\Rightarrow}C-\\alpha_i-\\gamma_i=0,i=1,...,n$$\n",
    "将$w$带回L并化简，得到和原来一样的目标函数：\n",
    "$$\\max\\limits_{\\alpha}\\sum_{i=1}^{n}\\alpha_i-\\frac{1}{2}\\sum_{i,j=1}^{n}\\alpha_i\\alpha_jy_iy_j<x_i,x_j>$$\n",
    "$$s.t.\\  0<=\\alpha_i<=C,i=1,...,n$$\n",
    "$$\\sum_{i=1}^{n}\\alpha_iy_i=0$$\n",
    "可以看到唯一区别就是现在dual variable $\\alpha$对了一个上限C。  "
   ]
  },
  {
   "cell_type": "markdown",
   "metadata": {
    "colab_type": "text",
    "id": "3WNvki-1pDwq"
   },
   "source": [
    "**写到这里，可以做个小结，不准确的说，SVM它本质上即是一个分类方法，用$w^Tx+b$定义分类函数，于是求w、b为寻找最大间隔。引出$\\frac{1}{2}{\\parallel w \\parallel}^2$,继而引出拉格朗日因子，转化为对拉格朗日乘子$\\alpha$的求解（求解过程会涉及一系列最优化或凸二次规划等问题），如此，求w、b与求$\\alpha$等价，而$\\alpha$的求解可以用一种快速学习算法SMO。**"
   ]
  },
  {
   "cell_type": "markdown",
   "metadata": {
    "colab_type": "text",
    "id": "Yrh_E5n_pDwq"
   },
   "source": [
    "**六 核函数** \n",
    "\n",
    "**在以上的问题中，我们都假设数据本身都是线性可分的，事实上，大部分时候数据并不是线性可分的，这个时候满足这样的条件的超平面就根本不存在。在前面，我们已经了解到SVM处理线性可分的情况，那对于非线性的数据SVM如何处理？这时候SVM的处理方法是选择一个核函数K。通过将数据映射到高维空间，来解决在原始空间中线性不可分的问题。**"
   ]
  },
  {
   "cell_type": "markdown",
   "metadata": {
    "colab_type": "text",
    "id": "BowqeBx7pDwr"
   },
   "source": [
    "\n",
    "具体来说，在线性不可分的情况下，支持向量机首先在低维空间中完成计算，然后通过核函数将输入空间映射到高维特征空间，最终在高维特征空间中构造出最优分离超平面，从而把平面上本身不好分的非线性数据分开。如图所示，一维数据在二维空间无法划分，从而映射到三维空间里划分：\n",
    "![7.png](image/7.png)"
   ]
  },
  {
   "cell_type": "markdown",
   "metadata": {
    "colab_type": "text",
    "id": "Ob7MysdepDws"
   },
   "source": [
    "那么kernel是如何达到这个效果的呢？对于一个2维空间数据点v = (x, y)，要把它映射到3维空间，其中一种映射关系是：$p(x, y) = (x^2, \\sqrt 2xy, y^2)$。假如有任意两个数据点：$v_1=(x_1,y_1)$, $v_2=(x_2,y_2)$，我们可以直接计算它们对应向量的内积为：$$< p(v_1), p(v_2) > = < (x_1^2, \\sqrt 2x_1y_1, y_1^2), (x_2^2, \\sqrt 2x_2y_2, y_2^2) >$$<br>很明显，这是一个3维运算。假如3维还是无法线性区分，要映射到N维去，那这里就是N维运算，N越大计算量越大。有没有办法能够降低这个计算量呢？我们来展开推导一下：\n",
    "<br><br>$$< p(v_1), p(v_2) > = < (x_1^2, \\sqrt 2x_1y_1, y_1^2), (x_2^2, \\sqrt 2x_2y_2, y_2^2) > = (x_1x_2 + y_1y_2)^2 = (<v_1, v_2>)^2$$\n",
    "<br><br>\n",
    "经过推导可以看到，两个数据点在映射后的向量内积等于映射前向量内积的平方。如果我们引入核函数：$K(v_1, v_2) = (<v_1, v_2>)^2$，那么就可以通过核函数的计算来等价于映射后的向量内积，实现了高维向量运算转换为低维向量计算（本例中是2维向量运算代替了3维向量运算）。"
   ]
  },
  {
   "cell_type": "markdown",
   "metadata": {
    "colab_type": "text",
    "id": "N7fc9GEupDws"
   },
   "source": [
    "核函数相当于把原来的分类函数：\n",
    "$$f(x)=\\sum_{i=1}^{n}\\alpha_iy_i<x_i,x>+b$$\n",
    "映射成：\n",
    "$$f(x)=\\sum_{i=1}^{n}\\alpha_iy_i<\\phi(x_i),\\phi(x)>+b$$\n",
    "而其中的$\\alpha$可以通过求解如下的dual问题而得到的：\n",
    "$$\\max\\limits_{\\alpha}\\sum_{i=1}^{n}{\\alpha_i}-\\frac{1}{2}\\sum_{i,j=1}^{n}{\\alpha_i}{\\alpha_j}y_iy_j<\\phi(x_i),\\phi(x_j)>$$\n",
    "$$s.t.,\\alpha_i>=0,i=1,...,n$$\n",
    "$$\\sum_{i=1}^{n}\\alpha_iy_i=0$$\n",
    "举个简单的例子，设两个向量$x_1={(\\eta_1,\\eta_2)}^T和x_2={(\\zeta_1.\\zeta_2)}^T，\\phi（）为映射关系。$映射后的内积为：\n",
    "$$<\\phi(x_1),\\phi(x_2)>=\\eta_1\\zeta_1+\\eta_1^2\\zeta_1^2+\\eta_2\\zeta_2+\\eta_2^2\\zeta_2^2+\\eta_1\\eta_2\\zeta_1\\zeta_2$$\n",
    "另外，我们注意到：\n",
    "$${(<x_1,x_2>+1)}^2=2\\eta_1\\zeta_1+\\eta_1^2\\zeta_1^2+2\\eta_2\\zeta_2+\\eta_2^2\\zeta_2^2+2\\eta_1\\eta_2\\zeta_1\\zeta_2+1$$\n",
    "二者有很多相似的地方，实际上，我们只需要把某几个维度线性缩放一下，然后再加上一个常数维度，具体来说，上面这个式子的计算结果实际上和映射$\\varphi(x_1,x_2)={(\\sqrt2x_1,x_1^2+\\sqrt2x_2,x_2^2,\\sqrt2x_1x_2,1)}^T$之后的内存$<\\varphi(x_1),\\varphi(x_2)>$的结果是相等的。区别在于一个是是映射到高维空间中，然后根据内积的公式进行计算；而另一个则是直接在原来的低维空间中进行计算，而不需要显示地写出映射后的结果。  \n",
    "\n",
    "我们把这里的计算两个向量在隐式映射过后的空间中的内积的函数叫做核函数，核函数能简化映射空间的内积运算。现在我们的分类函数为：\n",
    "$$f(x)=\\sum_{i=1}^{n}\\alpha_iy_iK<x_i,x>+b$$\n",
    "而其中的$\\alpha$可以通过求解如下的dual问题而得到的：\n",
    "$$\\max\\limits_{\\alpha}\\sum_{i=1}^{n}{\\alpha_i}-\\frac{1}{2}\\sum_{i,j=1}^{n}{\\alpha_i}{\\alpha_j}y_iy_jK(x_i,x_j)$$\n",
    "$$s.t.,\\alpha_i>=0,i=1,...,n$$\n",
    "$$\\sum_{i=1}^{n}\\alpha_iy_i=0$$"
   ]
  },
  {
   "cell_type": "markdown",
   "metadata": {
    "colab_type": "text",
    "id": "S1nogf__pDwt"
   },
   "source": [
    "**七 SMO算法**  \n",
    "\n",
    "在上面我们得到了最后的目标函数：\n",
    "$$\\max\\limits_{\\alpha}\\sum_{i=1}^{n}\\alpha_i-\\frac{1}{2}\\sum_{i,j=1}^{n}\\alpha_i\\alpha_jy_iy_j<x_i,x_j>$$\n",
    "$$s.t.,0<=\\alpha_i<=C,i=1,...,n$$\n",
    "$$\\sum_{i=1}^{n}\\alpha_iy_i=0$$\n",
    "\n",
    "等价于求：\n",
    "$$\\min\\limits_\\alpha\\Psi\\left(\\vec{\\alpha}\\right)=\\min\\limits_{\\alpha}\\frac{1}{2}\\sum_{i=1}^{n}\\sum_{j=1}^{n}y_iy_jK\\left<x_i,x_j\\right>\\alpha_i\\alpha_j-\\sum_{i=1}^{n}\\alpha_i$$\n",
    "$$0<=\\alpha_i<=C,i=1,...,n$$\n",
    "$$\\sum_{i=1}^{n}y_i\\alpha_i=0$$\n",
    "**这里得到的min函数与我们之前的max函数实质是一样的。**    \n",
    "\n",
    "下面要解决的问题是：在$\\vec{\\alpha}={\\alpha_1,\\alpha_2,...\\alpha_n}$上求解目标函数的最小值。为了求解这些乘子，每次从中任意抽取两个乘子$\\alpha_1$和$\\alpha_2$，然后固定$\\alpha_1$和$\\alpha_2$以外的其它乘子${\\alpha_3,...,\\alpha_n}$，使得目标函数只是关于$\\alpha_1$和$\\alpha_2$的函数。这样，不断的从一堆乘子中任意抽取两个求解，不断迭代求解子问题，最终达到求解原问题的目的。\n",
    "而原对偶问题的子问题的目标函数可以表达为：\n",
    "$$\\Psi=\\frac{1}{2}K_{11}{\\alpha_1}^2+\\frac{1}{2}K_{22}{\\alpha_2}^2+sK_{12}\\alpha_1\\alpha_2+y_1{\\alpha}_1\\nu_1+y_2\\alpha_2\\nu_2-\\alpha_1-\\alpha_2+\\Psi_{constant}$$\n",
    "其中:\n",
    "$$K_{ij}=K(x_i,x_j)$$\n",
    "$$\\nu_i=\\sum_{j=3}^{n}y_j{\\alpha_j}^*K_{ij}=u_i+b^*-y_1{\\alpha_1}^*K_{1i}-y_2{\\alpha_2}^*K_{2i}$$\n",
    "$$u_i=w^Tx_i+b$$\n",
    "\n",
    "为了解决这个子问题，首要问题便是每次如何选取$\\alpha_1$和$\\alpha_2$。实际上，其中一个乘子是违反KKT条件最严重的，另外一个乘子则由另一个约束条件选取。  \n",
    "根据KKT条件可以得出目标函数中$\\alpha_i$取值的意义：\n",
    "$$\\alpha_i=0{\\Leftrightarrow}y_iu_i>=1$$\n",
    "$$0<\\alpha_i<C{\\Leftrightarrow}y_iu_i=1$$\n",
    "$$\\alpha_i=C{\\Leftrightarrow}y_iu_i<=1$$\n",
    "这里的$\\alpha_i$还是拉格朗日乘子：  \n",
    "1.对于第一种情况，表明$\\alpha_i$是正常分类，在间隔边界内部（我们知道正确分类的点$y_i*f(x_i)>=0$）  \n",
    "2.对于第二种情况，表明了$\\alpha_i$是支持向量，在间隔边界上；  \n",
    "3.对于第三种情况，表明了$\\alpha_i$是在两条间隔边界之间；  \n",
    "\n",
    "而最优解需要满足KKT条件，既满足3个条件都得满足，以下几种情况出现将会出现不满足：  \n",
    "$y_iu_i$<=1但是$\\alpha_i$<C则是不满足的,而原本$\\alpha_i$<C则是不满足的，而原本$\\alpha_i$=C  \n",
    "$y_iu_i$>=1但是$\\alpha_i$>0则是不满的，而原本$\\alpha_i$=0  \n",
    "$y_iu_i$=1但是$\\alpha_i$=0或者$\\alpha_i$=C则表明不满足，而原本应该是0<$\\alpha_i$<C\n",
    "\n",
    "也就是说，如果存在不满足KKT条件的$\\alpha_i$，那么需要更新这些$\\alpha_i$，这是第一个约束条件。此外，更新的同时还要受到第二个约束条件的限制，即：\n",
    "$$\\sum_{i=1}^{n}y_i\\alpha_i=0$$\n",
    "因此，如果假设选择的两个乘子$\\alpha_1$和$\\alpha_2$，它们在更新之前分别是${\\alpha_1}^{old}$、${\\alpha_2}^{old}$,更新之后分别是${\\alpha_1}^{new}$、${\\alpha_2}^{new}$,那么更新前后的值需要满足以下等式才能保证和为0的约束：\n",
    "$${\\alpha_1}^{new}y_1+{\\alpha_2}^{new}y_2={\\alpha_1}^{old}y_1+{\\alpha_2}^{old}y_2=\\zeta$$\n",
    "其中$\\zeta$是常数。\n",
    "两个因子不好同时求解，所以可先求第二个乘子$\\alpha_2$的解（${\\alpha_2}^{new}$）,得到$\\alpha_2$的解之后，再利用$\\alpha_2$的解表示$\\alpha_1$的解（${\\alpha_1}^{new}$）  \n",
    "为了求解${\\alpha_2}^{new}$,得先确定${\\alpha_2}^{new}$取值范围。假设它的上下边界分别为H和L，那么有：\n",
    "$$L<={\\alpha_2}^{new}<=H$$\n",
    "接下来，综合$0<=\\alpha_i<=C,i=1,...,n和{\\alpha_1}^{new}y_1+{\\alpha_2}^{new}y_2={\\alpha_1}^{old}y_1+{\\alpha_2}^{old}y_=\\zeta$这两个约束条件，求取${\\alpha_2}^{new}$值范围。  \n",
    "当$y_1!=y_2$，根据${\\alpha_1}^{new}y_1+{\\alpha_2}^{new}y_2={\\alpha_1}^{old}y_1+{\\alpha_2}^{old}y_=\\zeta$可得${\\alpha_1}^{old}-{\\alpha_2}^{old}=\\zeta$,所以$L=\\max(0,-\\zeta),H=\\min(C,C-\\zeta)$如下图所示：\n",
    "![5.png](image/5.png)\n",
    "当$y_1=y_2$时，同样根据${\\alpha_1}^{new}y_1+{\\alpha_2}^{new}y_2={\\alpha_1}^{old}y_1+{\\alpha_2}^{old}y_=\\zeta$可得：${\\alpha_1}^{old}+{\\alpha_2}^{old}=\\zeta$,所以有$L=\\max(0,\\zeta-C),H=\\min(C,\\zeta)$,如下图所示：\n",
    "![6.png](image/6.png)\n",
    "如此，根据$y_1$和$y_2$异号或同号，可得出${\\alpha_2}^{new}$的上下界分别为：\n",
    "$$L=\\max(0,-\\zeta),H=\\min(C,C-\\zeta)  ify_1 != y_2$$\n",
    "$$L=\\max(0,\\zeta-C),H=\\min(C,\\zeta)   if y_1 = y_2$$\n",
    "\n",
    "回顾下第二个约束条件${\\alpha_1}^{new}y_1+{\\alpha_2}^{new}y_2={\\alpha_1}^{old}y_1+{\\alpha_2}^{old}y_=\\zeta$,令上式两边分别乘以$y_1$，可得$\\alpha_1+s\\alpha_2={\\alpha_1}^*+s{\\alpha_2}^*=w$,其中:\n",
    "$$w=-y_1\\sum_{i=3}^{n}y_i{\\alpha_i}^*$$\n",
    "因此$\\alpha_1$可以用$\\alpha_2$表示，$\\alpha_1=w-s\\alpha_2$,从而把子问题的目标函数转换为只含$\\alpha_2$的问题：\n",
    "$$\\Psi=\\frac{1}{2}K_{11}{(w-s\\alpha_2)}^2+\\frac{1}{2}K_{22}{\\alpha_2}^2+sK_{12}(w-s\\alpha2)\\alpha_2+y_1(w-s\\alpha_2)\\nu_1-w+s\\alpha_2+y_2\\alpha_2\\nu_2-\\alpha_2+\\Psi_{constant}$$\n",
    "对$\\alpha_2$求导可得：\n",
    "$$\\frac{\\mathrm{d}\\Psi}{\\mathrm{d}\\alpha_2}=-sK_{11}(w-s\\alpha_2)+K_{22}\\alpha_2-K_{12}\\alpha_2+sK_{12}(w-s\\alpha_2)-y_2\\nu_1+s+y_2\\nu_2-1=0$$\n",
    "\n",
    "化简如下:\n",
    "$$\\alpha2(K_{11}+K_{22}-2K_{11})=s(K_{11}-K_{12})w+y_2(\\nu_1-\\nu_2)+1-s$$\n",
    "$$K_{ij}=K(x_i,x_j)$$\n",
    "然后将$s=y_1*y_2$、$\\alpha_1+s\\alpha_2={\\alpha_1}^*+s{\\alpha_2}^*=w$和$\\nu_i=\\sum_{j=3}^{n}y_j{\\alpha_j}^*K_{ij}=u_i+b^*-y_1{\\alpha_1}^*K_{1i}-y_2{\\alpha_2}^*K_{2i}$代入上式可得：\n",
    "$${\\alpha_2}^{new,wnc}(K_{11}+K_{22}-2K_{12})={\\alpha_2}^{old}(K_{11}+K_{22}-2K_{12})+y_2(u_1-u_2+y_2-y_1)$$\n",
    "\n",
    "令$E_i=u_i-y_i$(表示预测值与真实值之差),$\\eta=K<x_1,x_1)+K(x_2,x_2)-2K(x_1,x_2)$上式两边同时除以$\\eta$，得到一个关于单变量$\\alpha_2$的解：\n",
    "$${\\alpha_2}^{new,wnc}={\\alpha_2}^{old}+\\frac{y_2(E_1-E_2)}{\\eta}$$\n",
    "\n",
    "这个解没有考虑约束条件$0<=\\alpha_2<=C$。考虑约束条件经过剪辑$\\alpha_2^{new}$的解为：  \n",
    "1  ${\\alpha_2}^{new,wnc}>H$\n",
    "$${\\alpha_2}^{new}=H$$\n",
    "2  $L<={\\alpha_2}^{new,wnc}<=H$\n",
    "$${\\alpha_2}^{new}={\\alpha_2}^{new,wnc}$$\n",
    "3  ${\\alpha_2}^{new,wnc}<L$\n",
    "$${\\alpha_2}^{new}=L$$\n",
    "求出了${\\alpha_2}^{new}后，便可求出\\alpha_1^{new}, 得\\alpha_1^{new}=\\alpha_1^{old}+y_1y_2(\\alpha_2^{old}-\\alpha_2^{new})$  \n",
    "如何选择乘子$\\alpha_1和\\alpha_2$呢？  \n",
    "对于$\\alpha_1,即第一个乘子,可以通过刚刚说的那三种不满足KKT的条件来找$；\n",
    "而对于第二个乘子$\\alpha_2可以寻找满足条件:\\max|E_i-Ej|的乘子。$  \n",
    "而b在满足下述条件下更新b：\n",
    "\n",
    "1  $0<\\alpha_1^{new}<C$\n",
    "$$b=b_1$$\n",
    "2  $0<\\alpha_2{new}<C$\n",
    "$$b=b_2$$\n",
    "3  $otherwise$\n",
    "$$b=\\frac{b_1+b_2}{2}$$\n",
    "\n",
    "$$b_1^{new}=b^{old}-E_1-y_1(\\alpha_1^{new}-\\alpha_1^{old}k(x_1,x_1)-y_2(\\alpha_2^{new}-\\alpha_2^{old})k(x_1,x_2)$$\n",
    "\n",
    "$$b_2^{new}=b^{old}-y_1(\\alpha_1^{new}-\\alpha_1^{old})k(x_1,x_2)-y_2(\\alpha_2^{new}-\\alpha_2^{old})k(x_2,x_2)-E_2$$\n",
    "且每次更新完两个乘子的优化后,都需要再重新计算b,以及对应的$E_i$值。  \n",
    "最后更新所有的$\\alpha_i,y和b,这样模型就训练出来了,从而即可求出我们开头提出的分类函数:$  \n",
    "$$f(x)=\\sum_{i=1}^{n}\\alpha_iy_i<x_i,x>+b$$\n",
    "\n",
    "\n",
    "\n",
    "\n",
    "\n"
   ]
  },
  {
   "cell_type": "markdown",
   "metadata": {
    "colab_type": "text",
    "id": "lG2bWxpBpDwu"
   },
   "source": [
    "**现在我们来总结下SMO算法的步骤**  \n",
    "1 第一步选取一对$\\alpha_i和\\alpha_j，选取方法使用启发式方法$。  \n",
    "2 第二步，固定$除\\alpha_i和\\alpha_j之外的其它参数,确定W极值条件下的\\alpha_i,\\alpha_j由\\alpha_i表示。$  \n",
    "3 第三步，更新乘子，选取乘子的方式如下：\n",
    "$$先扫描所有乘子，把第一个违反KKT条件的作为更新对象，令为\\alpha_1$$\n",
    "$在所有不违反KKT条件的乘子中，选择使|E_1-E_2|最大的\\alpha_2进行更新，使得能最大限度增大目标函数的值。$  \n",
    "\n",
    "4 最后，每次更新完两个乘子的优化后，都需要再重新计算b,以及对应的$E_i$值。\n"
   ]
  },
  {
   "cell_type": "markdown",
   "metadata": {
    "colab_type": "text",
    "id": "CK-D0y0WpDwu"
   },
   "source": [
    "**经过前面几节的铺垫，我们了解SVM对偶形式的求解，现在我们就来用代码实现SVM。**"
   ]
  },
  {
   "cell_type": "markdown",
   "metadata": {
    "colab_type": "text",
    "id": "yLfY5dGGpDwv"
   },
   "source": [
    "**任务一 从DataSet.txt中导入数据，获得训练集以及标签。**"
   ]
  },
  {
   "cell_type": "markdown",
   "metadata": {
    "colab_type": "text",
    "id": "0aPiRpNPpDwv"
   },
   "source": [
    "定义函数LoadData(filename),参数为文件名，返回训练数据集以及标签。数据集由两个特征$X_1和X_2$构成"
   ]
  },
  {
   "cell_type": "code",
   "execution_count": 15,
   "metadata": {
    "colab": {},
    "colab_type": "code",
    "id": "15Vs1R_npDww"
   },
   "outputs": [],
   "source": [
    "#导入相应的库包\n",
    "from numpy import *\n",
    "import numpy as np\n",
    "import matplotlib.pyplot as plt"
   ]
  },
  {
   "cell_type": "code",
   "execution_count": 41,
   "metadata": {
    "colab": {
     "base_uri": "https://localhost:8080/",
     "height": 137
    },
    "colab_type": "code",
    "id": "-Kzw5gSVpDw1",
    "outputId": "491c405b-be51-4910-f359-cf3d3d946f32",
    "scrolled": true
   },
   "outputs": [],
   "source": [
    "def LoadData(filename):\n",
    "    data = []\n",
    "    label = []\n",
    "    with open(filename) as f:                               \n",
    "        for line in f.readlines():     #按行读取\n",
    "            ### START THE CODE ###\n",
    "\n",
    "            #print(line)\n",
    "            lines=line.strip().split('\\t')\n",
    "            #print(lines)\n",
    "            data.append([float(lines[0]),float(lines[1])])      #将特征存放到Data中\n",
    "            label.append(float(lines[2]))     #将标签存放到Label中\n",
    "\n",
    "            ### END THE CODE ###\n",
    "    return data,label"
   ]
  },
  {
   "cell_type": "markdown",
   "metadata": {
    "colab_type": "text",
    "id": "BtUABdNjpDw9"
   },
   "source": [
    "获取训练集，数据和标签"
   ]
  },
  {
   "cell_type": "code",
   "execution_count": 17,
   "metadata": {
    "colab": {},
    "colab_type": "code",
    "id": "o_x1F7IGpDw-"
   },
   "outputs": [
    {
     "output_type": "stream",
     "name": "stdout",
     "text": [
      "TrainData =  [[3.542485, 1.977398], [3.018896, 2.556416], [7.55151, -1.58003]]\nTrainLabel =  [-1.0, -1.0, 1.0]\n"
     ]
    }
   ],
   "source": [
    "TrainData, TrainLabel = LoadData('DataSet.txt')\n",
    "print (\"TrainData = \",TrainData[:3])\n",
    "print (\"TrainLabel = \",TrainLabel[:3])"
   ]
  },
  {
   "cell_type": "markdown",
   "metadata": {
    "colab_type": "text",
    "id": "6ZyvZj2XpDxC"
   },
   "source": [
    "输出：\n",
    "\n",
    "TrainData = [[3.542485, 1.977398], [3.018896, 2.556416], [7.55151, -1.58003]]\n",
    "\n",
    "TrainLabel = [-1.0, -1.0, 1.0]"
   ]
  },
  {
   "cell_type": "markdown",
   "metadata": {
    "colab_type": "text",
    "id": "NrEF5RNepDxD"
   },
   "source": [
    "**定义所需操作的数据结构DataOp如下**"
   ]
  },
  {
   "cell_type": "code",
   "execution_count": 18,
   "metadata": {
    "colab": {},
    "colab_type": "code",
    "id": "AiHiHOKnpDxD"
   },
   "outputs": [],
   "source": [
    "class DataOp(object):\n",
    "    def __init__(self,data,label,C,toler):      #定义构造函数\n",
    "        self.X = data                           #数据\n",
    "        self.label = label                      #标签\n",
    "        self.C = C                              #松弛变量\n",
    "        self.tol = toler                        #容忍度\n",
    "        self.m = shape(data)[0]                 #特征向量的第一个维度\n",
    "        self.alpha = mat(zeros((self.m,1)))     #Alpha个数初始化\n",
    "        self.b = 0                              #步长\n",
    "        self.Cache = mat(zeros((self.m,2)))     #第一列给出是否有效 第二列给出的是实际的E值       "
   ]
  },
  {
   "cell_type": "markdown",
   "metadata": {
    "colab_type": "text",
    "id": "QaZgRDvKpDxI"
   },
   "source": [
    "**我们利用上述定义的数据结构来表达我们整个训练模型的过程需要的参数以及数据，初始化一个DataOp对象**"
   ]
  },
  {
   "cell_type": "code",
   "execution_count": 19,
   "metadata": {
    "colab": {},
    "colab_type": "code",
    "id": "3ZEEaVB4pDxJ"
   },
   "outputs": [],
   "source": [
    "oS = DataOp(mat(TrainData), mat(TrainLabel).transpose(), 0.6, 0.001)"
   ]
  },
  {
   "cell_type": "markdown",
   "metadata": {
    "colab_type": "text",
    "id": "O2LKy9dGpDxN"
   },
   "source": [
    "**在选择乘子过程中，我们需要选中两个不同的乘子，所以当我们固定了其中一个乘子，就需要选出不同于第一个乘子的第二个乘子。我们定义一个函数SelectAlpha来实现这个过程。**"
   ]
  },
  {
   "cell_type": "markdown",
   "metadata": {
    "colab_type": "text",
    "id": "u7G4AZ5wpDxO"
   },
   "source": [
    "函数：SelectAlpha(i,m)  \n",
    "作用：随机选择一个整数j,(0<=j<=m-1 && j!=i)  \n",
    "参数：i第一个乘子的下标，m所有alpha的个数  \n",
    "返回：一个随机选择不同于i的下标j"
   ]
  },
  {
   "cell_type": "code",
   "execution_count": 20,
   "metadata": {
    "colab": {},
    "colab_type": "code",
    "id": "ZlZFcerwpDxO"
   },
   "outputs": [],
   "source": [
    "def  SelectAlpha(i,m):\n",
    "    j = i\n",
    "    while (j == i):\n",
    "        j = int(random.uniform(0,m))  \n",
    "    return j"
   ]
  },
  {
   "cell_type": "markdown",
   "metadata": {
    "colab_type": "text",
    "id": "XRCChWvOpDxS"
   },
   "source": [
    "**任务二 调整alpha的值**    \n",
    "\n",
    "根据如下规则来对我们计算出的alpha进行调整。  \n",
    "1  ${\\alpha_2}^{new,wnc}>H$\n",
    "$${\\alpha_2}^{new}=H$$\n",
    "2  $L<={\\alpha_2}^{new,wnc}<=H$\n",
    "$${\\alpha_2}^{new}={\\alpha_2}^{new,wnc}$$\n",
    "3  ${\\alpha_2}^{new,wnc}<L$\n",
    "$${\\alpha_2}^{new}=L$$"
   ]
  },
  {
   "cell_type": "markdown",
   "metadata": {
    "colab_type": "text",
    "id": "lM-zO8kUpDxV"
   },
   "source": [
    "函数：ResetAlpha(Alphaj,low,high)\n",
    "\n",
    "作用：调整Alphaj(即$\\alpha_j$)的值，使得low<=Alphaj<=high，调整幅度尽可能小\n",
    "\n",
    "参数：Alphaj 目标值， low 最小值， high最大值\n",
    "\n",
    "返回：调整后的Alphaj"
   ]
  },
  {
   "cell_type": "code",
   "execution_count": 21,
   "metadata": {
    "colab": {},
    "colab_type": "code",
    "id": "OZJsY3hnpDxW"
   },
   "outputs": [],
   "source": [
    "def ResetAlpha(Alphaj,low,high):\n",
    "    ### STARD CODE HERE ###\n",
    "\n",
    "    if Alphaj>high:\n",
    "        Alphaj=high\n",
    "    if Alphaj<low:\n",
    "        Alphaj=low\n",
    "    return Alphaj\n",
    "\n",
    "    ### END CODE HERE ###\n",
    "    return Alphaj"
   ]
  },
  {
   "cell_type": "code",
   "execution_count": 22,
   "metadata": {
    "colab": {},
    "colab_type": "code",
    "id": "aV4xTp6hpDxc"
   },
   "outputs": [
    {
     "output_type": "stream",
     "name": "stdout",
     "text": [
      "b =  11\nc =  8\n"
     ]
    }
   ],
   "source": [
    "a = 10\n",
    "b = ResetAlpha(a,11,20)\n",
    "c = ResetAlpha(a,1,8)\n",
    "print(\"b = \", b)\n",
    "print(\"c = \", c)"
   ]
  },
  {
   "cell_type": "markdown",
   "metadata": {
    "colab_type": "text",
    "id": "VOYFSGB_pDxf"
   },
   "source": [
    "输出：  \n",
    "b =  11  \n",
    "c =  8"
   ]
  },
  {
   "cell_type": "markdown",
   "metadata": {
    "colab_type": "text",
    "id": "cSzXVhp0pDxf"
   },
   "source": [
    "**任务三 上述原理过程中，需要计算真实值与预测值之间的误差,定义一个函数ComputeEk。**"
   ]
  },
  {
   "cell_type": "markdown",
   "metadata": {
    "colab_type": "text",
    "id": "PGz3rdNhpDxg"
   },
   "source": [
    "函数 ComputeEk(os,k)\n",
    "\n",
    "作用：求Ek误差 = 预测值 - 真实值。\n",
    "真实值即样本标签，以下公式计算预测值$f(x)=\\sum_{i=1}^{n}\\alpha_iy_i<x_i,x>+b$\n",
    "\n",
    "参数：os DataOp对象，k 具体的某一行\n",
    "\n",
    "返回：预测值与真实结果对比，计算误差Ek  \n"
   ]
  },
  {
   "cell_type": "code",
   "execution_count": 23,
   "metadata": {
    "colab": {},
    "colab_type": "code",
    "id": "y9lyiqmHpDxh"
   },
   "outputs": [],
   "source": [
    "def ComputeEk(os,k):\n",
    "    PredictK = float(multiply(os.alpha,os.label).T * (os.X*os.X[k,:].T)) + os.b\n",
    "    ### START CODE HERE ###\n",
    "\n",
    "    Ek = float(PredictK - os.label[k])\n",
    "\n",
    "    ### END CODE HERE ###\n",
    "    return Ek"
   ]
  },
  {
   "cell_type": "code",
   "execution_count": 24,
   "metadata": {
    "colab": {},
    "colab_type": "code",
    "id": "VJQLMOWjpDxk"
   },
   "outputs": [
    {
     "output_type": "stream",
     "name": "stdout",
     "text": [
      "Ek1 =  -1.0\nEk2 =  1.0\n"
     ]
    }
   ],
   "source": [
    "Ek1 = ComputeEk(oS,25)\n",
    "Ek2 = ComputeEk(oS,30)\n",
    "print (\"Ek1 = \", Ek1)\n",
    "print (\"Ek2 = \", Ek2)"
   ]
  },
  {
   "cell_type": "markdown",
   "metadata": {
    "colab_type": "text",
    "id": "T_Ya1E9qpDxn"
   },
   "source": [
    "输出：\n",
    "\n",
    "Ek1 = -1.0\n",
    "\n",
    "Ek2 = 1.0"
   ]
  },
  {
   "cell_type": "markdown",
   "metadata": {
    "colab_type": "text",
    "id": "7CDrjx_epDxo"
   },
   "source": [
    "**任务四 选取最大$|E_i-E_j|$最大的j，并返回j以及$E_j$**"
   ]
  },
  {
   "cell_type": "markdown",
   "metadata": {
    "colab_type": "text",
    "id": "cFfpDHdopDxq"
   },
   "source": [
    "函数：SelectMaxJ(i,oS,Ei)    \n",
    "\n",
    "作用：返回最有的j和Ej，选择第二个（内循环）值以保证每次优化中采用最大步长。\n",
    "\n",
    "这里的目标是选择合适的第二个alpha值以保证每次优化中采用最大步长\n",
    "\n",
    "该函数的误差与第一个alpha值Ei和下标i有关。\n",
    "\n",
    "参数：\n",
    "\n",
    "i    具体的第i行\n",
    "\n",
    "oS   DataOp对象\n",
    "\n",
    "Ei   预测值与真实值对比，计算Ei\n",
    "\n",
    "返回：\n",
    "\n",
    "j    随机选出的第j行\n",
    "\n",
    "Ej   预测结果与真实值对比，计算误差Ej"
   ]
  },
  {
   "cell_type": "code",
   "execution_count": 25,
   "metadata": {
    "colab": {},
    "colab_type": "code",
    "id": "W-bHozLNpDxr"
   },
   "outputs": [],
   "source": [
    "def SelectMaxj(i,oS,Ei):\n",
    "    MaxK = -1              #保存最大下标值\n",
    "    MaxDeltaE = 0          #保存最大步长\n",
    "    Ej = 0\n",
    "    oS.Cache[i] = [1,Ei]   #首先将输入值Ei在缓存中设置为有效的。这里意味着它已经计算好了\n",
    "    List = nonzero(oS.Cache[:,0].A)[0]\n",
    "    if (len(List)) > 1:               # 在所有的值上进行循环，并选择使得改变最大的那个值\n",
    "        for k in List:\n",
    "            if k == i:                \n",
    "                continue             #不计算\n",
    "            ### START CODE HERE ###\n",
    "            \n",
    "            Ek = ComputeEk(oS,k) \n",
    "            DeltaE=abs(Ek-Ei)  # 计算DeltaE\n",
    "            if DeltaE > MaxDeltaE:       #DeltaE > MaxDeltaE , 则进行更新\n",
    "                MaxK = k        #更新下标\n",
    "                MaxDeltaE=DeltaE             #最大值更新\n",
    "                Ej=Ek             #替换当年Ej\n",
    "\n",
    "            ### END CODE HERE ###\n",
    "        return MaxK, Ej\n",
    "    else:                                #如果是第一次循环，则随机选择一个alpha\n",
    "        j = SelectAlpha(i,oS.m)    \n",
    "        Ej = ComputeEk(oS,j)\n",
    "    return j,Ej"
   ]
  },
  {
   "cell_type": "code",
   "execution_count": 26,
   "metadata": {
    "colab": {},
    "colab_type": "code",
    "id": "Ao9--XZQpDxu"
   },
   "outputs": [
    {
     "output_type": "stream",
     "name": "stdout",
     "text": [
      "Testj =  2\nTestEj =  -1.0\n"
     ]
    }
   ],
   "source": [
    "Data =  [[3.542485, 1.977398], [3.018896, 2.556416], [7.55151, -1.58003], [2.114999, -0.004466], [8.127113, 1.274372]]\n",
    "Label =  [-1.0, -1.0, 1.0, -1.0, 1.0]\n",
    "TestOs = DataOp(mat(Data),mat(Label).transpose(),0.6,0.001)\n",
    "TestEi = ComputeEk(TestOs,0)\n",
    "TestOs.Cache[1] = [1,ComputeEk(TestOs,1)]\n",
    "TestOs.Cache[2] = [1,ComputeEk(TestOs,2)]\n",
    "TestOs.Cache[3] = [1,ComputeEk(TestOs,3)]\n",
    "TestOs.Cache[4] = [1,ComputeEk(TestOs,4)]\n",
    "Testj,TestEj = SelectMaxj(0,TestOs,TestEi)\n",
    "\n",
    "print (\"Testj = \",Testj)\n",
    "print (\"TestEj = \", TestEj)"
   ]
  },
  {
   "cell_type": "markdown",
   "metadata": {
    "colab_type": "text",
    "id": "-hRyu9NtpDxy"
   },
   "source": [
    "输出：\n",
    "\n",
    "j = 2\n",
    "\n",
    "Ej = -1.0"
   ]
  },
  {
   "cell_type": "markdown",
   "metadata": {
    "colab_type": "text",
    "id": "3_DzjQLdpDxy"
   },
   "source": [
    "**任务五 计算误差值并存入缓存，在对alpha值进行优化之后会用到这个函数**"
   ]
  },
  {
   "cell_type": "markdown",
   "metadata": {
    "colab_type": "text",
    "id": "Z8FHqi7spDxz"
   },
   "source": [
    "函数：updateEk(oS,k)\n",
    "\n",
    "作用：计算误差值并存入缓存os.Cache，在对alpha值进行优化之后会用到这个函数\n",
    "\n",
    "参数：\n",
    "\n",
    "Os DataOpt对象\n",
    "\n",
    "k 某一列的行号\n",
    "\n",
    "返回：无\n",
    "\n",
    "例如某行为oS.Cache[k] = [1,Ek] 其中1表示有效。"
   ]
  },
  {
   "cell_type": "code",
   "execution_count": 27,
   "metadata": {
    "colab": {},
    "colab_type": "code",
    "id": "Mra8qnZrpDx0"
   },
   "outputs": [],
   "source": [
    "def updataEk(oS,k):\n",
    "    ###START THE CODE ###\n",
    "    Ek=ComputeEk(oS,k)                      #计算Ek\n",
    "    oS.Cache[k]=[1,Ek]                        #更新第k行的oS.Cache[k]\n",
    "    ###END THE CODE ###"
   ]
  },
  {
   "cell_type": "code",
   "execution_count": 28,
   "metadata": {
    "colab": {},
    "colab_type": "code",
    "id": "Nz17-TWjpDx2"
   },
   "outputs": [
    {
     "output_type": "stream",
     "name": "stdout",
     "text": [
      "TestOs.Cache[0] =  [[1. 1.]]\nTestOs.Cache[1] =  [[1. 1.]]\nTestOs.Cache[2] =  [[ 1. -1.]]\n"
     ]
    }
   ],
   "source": [
    "TestOs = DataOp(mat(Data),mat(Label).transpose(),0.6,0.001)\n",
    "updataEk(TestOs,0)\n",
    "updataEk(TestOs,1)\n",
    "updataEk(TestOs,2)\n",
    "print (\"TestOs.Cache[0] = \",TestOs.Cache[0])\n",
    "print (\"TestOs.Cache[1] = \",TestOs.Cache[1])\n",
    "print (\"TestOs.Cache[2] = \",TestOs.Cache[2])"
   ]
  },
  {
   "cell_type": "markdown",
   "metadata": {
    "colab_type": "text",
    "id": "5SZyuzQMpDx6"
   },
   "source": [
    "输出： \n",
    "\n",
    "TestOs.Cache[0] =  [[1. 1.]]  \n",
    "\n",
    "TestOs.Cache[1] =  [[1. 1.]]  \n",
    "\n",
    "TestOs.Cache[2] =  [[1. -1.]]"
   ]
  },
  {
   "cell_type": "markdown",
   "metadata": {
    "colab_type": "text",
    "id": "og4COhRSpDx7"
   },
   "source": [
    "**SMO算法是通过一个外循环来选择第一个alpha值得，并且其选择过程会在两种方式之间交替：一种方式是在所有数据集上进行单遍扫描，另一种方式则是在非边界alpha中实现单遍扫描。而所谓非边界alpha指的就是那些不等于边界0或C的alpha的值。对整个数据集的扫描相当容易，而实现非边界alpha值得扫描时，首先需要建立这些alpha值的列表，然后再对这个表进行遍历。同时，该步骤会跳过那么已知的不会改变的alpha的值。\n",
    "在选择第一个alpha值后，算法会通过一个内循环来选择第二个alpha值。在优化过程中，会通过最大步长的方式来获得第二个alpha值。我们建立一个全局的缓存用于保存误差值，并从中选择使得步长最大的alpha值（Ei-Ej）**"
   ]
  },
  {
   "cell_type": "markdown",
   "metadata": {
    "colab_type": "text",
    "id": "DsD7w0p4pDx7"
   },
   "source": [
    "首先我们来看实现内循环的代码，如何选择另外第二个alpha乘子。"
   ]
  },
  {
   "cell_type": "markdown",
   "metadata": {
    "colab_type": "text",
    "id": "CDw4XlZRpDx8"
   },
   "source": [
    "函数：InsideCycle(i,oS)  \n",
    "\n",
    "作用：SMO算法内循环选择第二个alpha值\n",
    "\n",
    "参数：\n",
    "\n",
    "i    具体某一行\n",
    "\n",
    "oS   DataOp对象\n",
    "\n",
    "返回：\n",
    "\n",
    "0    找不到最优值\n",
    "\n",
    "1    找到了最优值，并且存储到oS.Cache中\n",
    "\n"
   ]
  },
  {
   "cell_type": "code",
   "execution_count": 29,
   "metadata": {
    "colab": {},
    "colab_type": "code",
    "id": "RI7OmGBGpDx9"
   },
   "outputs": [],
   "source": [
    "def InsideCycle(i,oS):\n",
    "    Ei = ComputeEk(oS,i)   #求Ek误差\n",
    "    #约束条件（KKT条件是解决最优化问题时用到的一种方法。我们这里提到的最优化问题通常\n",
    "    #是指对于给定的某一函数，求其在指定作用域上的全局最小值\n",
    "    #0<=alpha[i]<=C,但由于0和C是边界值，我们无法进行优化，因为需要升高一个alpha和降低一个alpha。\n",
    "    #表示发生错误的概率：label[i]*Ei ,如果超出toler，才需要优化。至于正负号，考虑绝对值就行\n",
    "    \n",
    "    #检验训练样本(xi,yi)是否满足KKT条件\n",
    "    #yi*f(xi) >= 1 and alpha = 0 (outside the boundary)\n",
    "    #yi*f(xi) == 1 0<alpha<C     (on the boundary)\n",
    "    #yi*f(xi) <= 1 and alpha = C  (between the boundary)\n",
    "    \n",
    "    if ((oS.label[i] * Ei < -oS.tol) and (oS.alpha[i] < oS.C)) or ((oS.label[i] * Ei > oS.tol) and (oS.alpha[i] > 0)):\n",
    "        #选择最大的误差对应的j进行优化。\n",
    "        j,Ej = SelectMaxj(i,oS,Ei)\n",
    "        IOldAlpha = oS.alpha[i].copy()\n",
    "        JOldAlpha = oS.alpha[j].copy()\n",
    "        \n",
    "        #L 和 H将用于将alpha[j]调整到0-C之间。如果L == H，就不做任何改变，直接Return 0\n",
    "        if (oS.label[i] != oS.label[j]):\n",
    "            L = max(0,oS.alpha[j] - oS.alpha[i])\n",
    "            H = min(oS.C, oS.C + oS.alpha[j] - oS.alpha[i])\n",
    "        else:\n",
    "            L = max(0,oS.alpha[j] + oS.alpha[i] - oS.C)\n",
    "            H = min(oS.C, oS.alpha[j] + oS.alpha[i])\n",
    "        \n",
    "        if L == H:\n",
    "            #print (\"L == H\")\n",
    "            return 0\n",
    "        \n",
    "        #eva 是alpha[j]的最优修改量，如果eva==0，需要退出for循环当前迭代过程\n",
    "        eva = 2.0 * oS.X[i, :] * oS.X[j, :].T - oS.X[i, :] * oS.X[i, :].T - oS.X[j, :] * oS.X[j, :].T\n",
    "        if eva >= 0:\n",
    "            #print(\"eva >= 0\")\n",
    "            return 0\n",
    "        \n",
    "        #计算一个新的alpha[j]值\n",
    "        oS.alpha[j] -= oS.label[j] * (Ei-Ej) / eva\n",
    "        #并使用辅助函数，以及L和H对其进行调整\n",
    "        oS.alpha[j] = ResetAlpha(oS.alpha[j],L,H)\n",
    "        #更新缓存误差\n",
    "        updataEk(oS,j)\n",
    "        \n",
    "        #检查alpha[j]是否只是轻微的改变，如果是的话，就退出for循环\n",
    "        if (abs(oS.alpha[j] - JOldAlpha) < 0.00001):\n",
    "            return 0\n",
    "        \n",
    "        #然后alpha[i]和alpha[j]做同样的修改，虽然改变的大小一样，但是改变的方向相反\n",
    "        oS.alpha[i] += oS.label[j] * oS.label[i] * (JOldAlpha - oS.alpha[j])\n",
    "        #更新误差缓存\n",
    "        updataEk(oS,i)\n",
    "        \n",
    "        #在对alpha[i],alpha[j]进行优化之后，给这个两个alpha值设置一个常数b。\n",
    "        '''\n",
    "         w= Σ[1~n] ai*yi*xi => b = yj Σ[1~n] ai*yi(xi*xj)\n",
    "         所以：  b1 - b = (y1-y) - Σ[1~n] yi*(a1-a)*(xi*x1)\n",
    "         为什么减2遍？ 因为是 减去Σ[1~n]，正好2个变量i和j，所以减2遍\n",
    "        '''\n",
    "        b1 = oS.b - Ei - oS.label[i] * (oS.alpha[i] - IOldAlpha) * oS.X[i, :] * oS.X[i, :].T - oS.label[j] * (oS.alpha[j] - JOldAlpha) * oS.X[i, :] * oS.X[j, :].T\n",
    "        b2 = oS.b - Ej - oS.label[i] * (oS.alpha[i] - IOldAlpha) * oS.X[i, :] * oS.X[j, :].T - oS.label[j] * (oS.alpha[j] - JOldAlpha) * oS.X[j, :] * oS.X[j, :].T\n",
    "        if (0 < oS.alpha[i]) and (oS.C > oS.alpha[i]):\n",
    "            oS.b = b1\n",
    "        elif (0 < oS.alpha[j]) and (oS.C > oS.alpha[j]):\n",
    "            oS.b = b2\n",
    "        else:\n",
    "            oS.b = (b1+b2) / 2.0\n",
    "        return 1\n",
    "    else:\n",
    "        return 0"
   ]
  },
  {
   "cell_type": "markdown",
   "metadata": {
    "colab_type": "text",
    "id": "P1kK06YCpDyA"
   },
   "source": [
    "**接下来我们实现SMO算法的外循环，外循环的结束迭代条件是：迭代次数达到最大迭代次数 或者 循环遍历所有alpha后，没有alpha改变。**"
   ]
  },
  {
   "cell_type": "markdown",
   "metadata": {
    "colab_type": "text",
    "id": "XJr-JCaNpDyB"
   },
   "source": [
    "函数：Smo(oS,IterStep）\n",
    "\n",
    "作用：SMO算法外循环，计算出拉格朗日乘子以及模型的常量b\n",
    "\n",
    "参数：\n",
    "\n",
    "oS DataOp对象  \n",
    "\n",
    "IterStep 退出前的最大循环次数\n",
    "\n",
    "返回：\n",
    "\n",
    "b       模型的常量值\n",
    "\n",
    "alpha   拉格朗日乘子"
   ]
  },
  {
   "cell_type": "code",
   "execution_count": 30,
   "metadata": {
    "colab": {},
    "colab_type": "code",
    "id": "megAwOczpDyC"
   },
   "outputs": [],
   "source": [
    "def Smo(oS,IterStep):\n",
    "    iter = 0                #迭代次数\n",
    "    EntireSet = True         #是否遍历了没有遍历整个alpha值\n",
    "    AlphaChanged = 0          #alpha改变的次数\n",
    "    \n",
    "    #循环迭代结束 或者 循环遍历所有alpha后，AlphaChanged还是没变化\n",
    "    \n",
    "    while (iter < IterStep) and ((AlphaChanged > 0) or (EntireSet)):\n",
    "        AlphaChanged = 0\n",
    "        #当EntireSet = True or 非边界alpha对没有了；就开始寻找alpha对，然后决定是否else。\n",
    "        if EntireSet:\n",
    "            #在数据集上遍历所有可能的alpha\n",
    "            for i in range(oS.m):\n",
    "                #是否存在alpha对，存在就+1\n",
    "                AlphaChanged += InsideCycle(i,oS)\n",
    "            iter += 1\n",
    "        #对已存在alpha对，选出非边界的alpha值，进行优化。\n",
    "        else:\n",
    "            #遍历所有非边界alpha值，进行优化。\n",
    "            nonBoundIs = nonzero((oS.alpha.A > 0) * (oS.alpha.A < oS.C))[0]\n",
    "            for i in nonBoundIs:\n",
    "                AlphaChanged += InsideCycle(i,oS)\n",
    "               \n",
    "            iter += 1\n",
    "        \n",
    "        #如果找到alpha对，就优化非边界alpha值，否则，就重新进行寻找，如果寻找一遍 遍历所有的行还是没找到，就退出循环。\n",
    "        if EntireSet:\n",
    "            EntireSet = False\n",
    "        elif (AlphaChanged == 0):\n",
    "            EntireSet = True\n",
    "    return oS.b, oS.alpha"
   ]
  },
  {
   "cell_type": "markdown",
   "metadata": {
    "colab_type": "text",
    "id": "RSe4CmadpDyG"
   },
   "source": [
    "**下面调用SMO算法，计算常量b以及a拉格朗日乘子alpha[50:55]。**"
   ]
  },
  {
   "cell_type": "code",
   "execution_count": 31,
   "metadata": {
    "colab": {},
    "colab_type": "code",
    "id": "JndPv9-cpDyH"
   },
   "outputs": [
    {
     "output_type": "stream",
     "name": "stdout",
     "text": [
      "b =  [[-2.89901748]]\nalphas =  [[0.]\n [0.]\n [0.]\n [0.]\n [0.]]\n"
     ]
    }
   ],
   "source": [
    "b, alphas = Smo(oS, 40)\n",
    "print (\"b = \", b)\n",
    "print (\"alphas = \",alphas[50:55])"
   ]
  },
  {
   "cell_type": "markdown",
   "metadata": {
    "colab_type": "text",
    "id": "UGUJTWFepDyL"
   },
   "source": [
    "**任务六 根据计算出的拉格朗日乘子计算出权重向量W，计算公式如下：**\n",
    "$$W=\\sum_{i=1}^{n}\\alpha_iy_ix_i$$"
   ]
  },
  {
   "cell_type": "markdown",
   "metadata": {
    "colab_type": "text",
    "id": "LroXTRNgpDyM"
   },
   "source": [
    "函数：ComputeW(alphas,data,label)\n",
    "\n",
    "作用：基于alphas计算W\n",
    "\n",
    "参数：\n",
    "\n",
    "alphas：拉格朗日乘子\n",
    "\n",
    "data：特征数据集\n",
    "\n",
    "label：对应的标签数据\n",
    "\n",
    "返回：\n",
    "\n",
    "W：权重向量"
   ]
  },
  {
   "cell_type": "code",
   "execution_count": 32,
   "metadata": {
    "colab": {},
    "colab_type": "code",
    "id": "k35sIzVwpDyM"
   },
   "outputs": [],
   "source": [
    "def ComputeW(alphas,data,label):\n",
    "    Data = mat(data)                 #转换为矩阵形式\n",
    "    Label = mat(label).transpose()\n",
    "    \n",
    "    m,n = shape(Data)                #数据的维度\n",
    "    w = zeros((n,1))\n",
    "    ### START THE CODE ###\n",
    "\n",
    "    for i in range(m):\n",
    "        w+=multiply(alphas[i]*Label[i],Data[i,:].T)\n",
    "    \n",
    "    ### END THE CODE ###\n",
    "    return w\n",
    "    "
   ]
  },
  {
   "cell_type": "code",
   "execution_count": 33,
   "metadata": {
    "colab": {},
    "colab_type": "code",
    "id": "WXDChas5pDyP"
   },
   "outputs": [
    {
     "output_type": "stream",
     "name": "stdout",
     "text": [
      "w =  [[-0.02568303]\n [ 0.04319313]]\n"
     ]
    }
   ],
   "source": [
    "Testalphas =[[0.        ],[0.        ],[0.08999025],[0.        ],[0.04439791]]\n",
    "w = ComputeW(Testalphas,TrainData[50:55],TrainLabel[50:55])\n",
    "print (\"w = \", w)"
   ]
  },
  {
   "cell_type": "markdown",
   "metadata": {
    "colab_type": "text",
    "id": "DTy5XOTOpDyS"
   },
   "source": [
    "输出：  \n",
    "\n",
    "w =  [[-0.02568303]<br>\n",
    " [ 0.04319313]]"
   ]
  },
  {
   "cell_type": "markdown",
   "metadata": {
    "colab_type": "text",
    "id": "H9CS12lBpDyS"
   },
   "source": [
    "**任务七 画出SVM的决策边界**"
   ]
  },
  {
   "cell_type": "markdown",
   "metadata": {
    "colab_type": "text",
    "id": "PC_TGJ3SpDyT"
   },
   "source": [
    "定义PlotSVM函数，根据训练数据，标签，W，b,alphas画出决策边界。  \n",
    "正负样本用不同颜色标注。"
   ]
  },
  {
   "cell_type": "code",
   "execution_count": 34,
   "metadata": {
    "colab": {},
    "colab_type": "code",
    "id": "sO8PFhwXpDyT"
   },
   "outputs": [],
   "source": [
    "W = ComputeW(alphas,TrainData,TrainLabel)"
   ]
  },
  {
   "cell_type": "code",
   "execution_count": 35,
   "metadata": {
    "colab": {},
    "colab_type": "code",
    "id": "FtkQ86ftpDyW"
   },
   "outputs": [],
   "source": [
    "def PlotSVM(data,label,W,b,alphas):\n",
    "    Data = mat(data)\n",
    "    Label = np.squeeze(label)\n",
    "    #print(Label)\n",
    "    #b 原来是矩阵 先转化为数组类型后其数组大小为（1，1），然后后面加[0],变为（1，）\n",
    "    b = array(b)[0]\n",
    "    fig = plt.figure()\n",
    "    figure = fig.add_subplot(111)\n",
    "    \n",
    "    figure.scatter(Data[:,0].flatten().A[0],Data[:,1].flatten().A[0])\n",
    "    x = arange(-1.0,10.0,0.1)\n",
    "    \n",
    "    y = (-b-W[0,0]*x)/ W[1,0]\n",
    "    figure.plot(x,y)\n",
    "    \n",
    "    ### START THE CODE ###\n",
    "    \n",
    "    for i in range(len(Label)):\n",
    "        if Label[i]>0:\n",
    "             figure.scatter(Data[i,0],Data[i,1],c='r')\n",
    "        else:\n",
    "            figure.scatter(Data[i,0],Data[i,1],c='b')\n",
    "    y1=(-b-W[0,0]*x-1)/W[1,0]\n",
    "    figure.plot(x,y1)\n",
    "    y2=(1-b-W[0,0]*x)/W[1,0]\n",
    "    figure.plot(x,y2)\n",
    "\n",
    "\n",
    "    ###END THE CODE ###\n",
    "    plt.show()"
   ]
  },
  {
   "cell_type": "code",
   "execution_count": 36,
   "metadata": {
    "colab": {},
    "colab_type": "code",
    "id": "gT2UL0wjpDya"
   },
   "outputs": [
    {
     "output_type": "display_data",
     "data": {
      "text/plain": "<Figure size 432x288 with 1 Axes>",
      "image/svg+xml": "<?xml version=\"1.0\" encoding=\"utf-8\" standalone=\"no\"?>\r\n<!DOCTYPE svg PUBLIC \"-//W3C//DTD SVG 1.1//EN\"\r\n  \"http://www.w3.org/Graphics/SVG/1.1/DTD/svg11.dtd\">\r\n<!-- Created with matplotlib (https://matplotlib.org/) -->\r\n<svg height=\"248.518125pt\" version=\"1.1\" viewBox=\"0 0 377.304687 248.518125\" width=\"377.304687pt\" xmlns=\"http://www.w3.org/2000/svg\" xmlns:xlink=\"http://www.w3.org/1999/xlink\">\r\n <defs>\r\n  <style type=\"text/css\">\r\n*{stroke-linecap:butt;stroke-linejoin:round;}\r\n  </style>\r\n </defs>\r\n <g id=\"figure_1\">\r\n  <g id=\"patch_1\">\r\n   <path d=\"M 0 248.518125 \r\nL 377.304687 248.518125 \r\nL 377.304687 0 \r\nL 0 0 \r\nz\r\n\" style=\"fill:none;\"/>\r\n  </g>\r\n  <g id=\"axes_1\">\r\n   <g id=\"patch_2\">\r\n    <path d=\"M 35.304688 224.64 \r\nL 370.104688 224.64 \r\nL 370.104688 7.2 \r\nL 35.304688 7.2 \r\nz\r\n\" style=\"fill:#ffffff;\"/>\r\n   </g>\r\n   <g id=\"PathCollection_1\">\r\n    <defs>\r\n     <path d=\"M 0 3 \r\nC 0.795609 3 1.55874 2.683901 2.12132 2.12132 \r\nC 2.683901 1.55874 3 0.795609 3 0 \r\nC 3 -0.795609 2.683901 -1.55874 2.12132 -2.12132 \r\nC 1.55874 -2.683901 0.795609 -3 0 -3 \r\nC -0.795609 -3 -1.55874 -2.683901 -2.12132 -2.12132 \r\nC -2.683901 -1.55874 -3 -0.795609 -3 0 \r\nC -3 0.795609 -2.683901 1.55874 -2.12132 2.12132 \r\nC -1.55874 2.683901 -0.795609 3 0 3 \r\nz\r\n\" id=\"m016a657129\" style=\"stroke:#1f77b4;\"/>\r\n    </defs>\r\n    <g clip-path=\"url(#p3447b9ff9a)\">\r\n     <use style=\"fill:#1f77b4;stroke:#1f77b4;\" x=\"177.363902\" xlink:href=\"#m016a657129\" y=\"108.703642\"/>\r\n     <use style=\"fill:#1f77b4;stroke:#1f77b4;\" x=\"162.743585\" xlink:href=\"#m016a657129\" y=\"106.545167\"/>\r\n     <use style=\"fill:#1f77b4;stroke:#1f77b4;\" x=\"289.308987\" xlink:href=\"#m016a657129\" y=\"121.965093\"/>\r\n     <use style=\"fill:#1f77b4;stroke:#1f77b4;\" x=\"137.503826\" xlink:href=\"#m016a657129\" y=\"116.091674\"/>\r\n     <use style=\"fill:#1f77b4;stroke:#1f77b4;\" x=\"305.381704\" xlink:href=\"#m016a657129\" y=\"111.324397\"/>\r\n     <use style=\"fill:#1f77b4;stroke:#1f77b4;\" x=\"276.946294\" xlink:href=\"#m016a657129\" y=\"119.754034\"/>\r\n     <use style=\"fill:#1f77b4;stroke:#1f77b4;\" x=\"318.883331\" xlink:href=\"#m016a657129\" y=\"108.445267\"/>\r\n     <use style=\"fill:#1f77b4;stroke:#1f77b4;\" x=\"143.403957\" xlink:href=\"#m016a657129\" y=\"115.08636\"/>\r\n     <use style=\"fill:#1f77b4;stroke:#1f77b4;\" x=\"179.919551\" xlink:href=\"#m016a657129\" y=\"109.623896\"/>\r\n     <use style=\"fill:#1f77b4;stroke:#1f77b4;\" x=\"87.978221\" xlink:href=\"#m016a657129\" y=\"119.411417\"/>\r\n     <use style=\"fill:#1f77b4;stroke:#1f77b4;\" x=\"165.732911\" xlink:href=\"#m016a657129\" y=\"114.981839\"/>\r\n     <use style=\"fill:#1f77b4;stroke:#1f77b4;\" x=\"137.734276\" xlink:href=\"#m016a657129\" y=\"118.996008\"/>\r\n     <use style=\"fill:#1f77b4;stroke:#1f77b4;\" x=\"103.237395\" xlink:href=\"#m016a657129\" y=\"126.504691\"/>\r\n     <use style=\"fill:#1f77b4;stroke:#1f77b4;\" x=\"277.817696\" xlink:href=\"#m016a657129\" y=\"124.760459\"/>\r\n     <use style=\"fill:#1f77b4;stroke:#1f77b4;\" x=\"125.815564\" xlink:href=\"#m016a657129\" y=\"120.594993\"/>\r\n     <use style=\"fill:#1f77b4;stroke:#1f77b4;\" x=\"305.10021\" xlink:href=\"#m016a657129\" y=\"113.750756\"/>\r\n     <use style=\"fill:#1f77b4;stroke:#1f77b4;\" x=\"315.714682\" xlink:href=\"#m016a657129\" y=\"117.069045\"/>\r\n     <use style=\"fill:#1f77b4;stroke:#1f77b4;\" x=\"208.518061\" xlink:href=\"#m016a657129\" y=\"103.000085\"/>\r\n     <use style=\"fill:#1f77b4;stroke:#1f77b4;\" x=\"307.338232\" xlink:href=\"#m016a657129\" y=\"110.315052\"/>\r\n     <use style=\"fill:#1f77b4;stroke:#1f77b4;\" x=\"112.178761\" xlink:href=\"#m016a657129\" y=\"115.280628\"/>\r\n     <use style=\"fill:#1f77b4;stroke:#1f77b4;\" x=\"132.295773\" xlink:href=\"#m016a657129\" y=\"117.274899\"/>\r\n     <use style=\"fill:#1f77b4;stroke:#1f77b4;\" x=\"139.201812\" xlink:href=\"#m016a657129\" y=\"116.12918\"/>\r\n     <use style=\"fill:#1f77b4;stroke:#1f77b4;\" x=\"298.666018\" xlink:href=\"#m016a657129\" y=\"114.353686\"/>\r\n     <use style=\"fill:#1f77b4;stroke:#1f77b4;\" x=\"168.443897\" xlink:href=\"#m016a657129\" y=\"118.134244\"/>\r\n     <use style=\"fill:#1f77b4;stroke:#1f77b4;\" x=\"179.765778\" xlink:href=\"#m016a657129\" y=\"107.908919\"/>\r\n     <use style=\"fill:#1f77b4;stroke:#1f77b4;\" x=\"285.297809\" xlink:href=\"#m016a657129\" y=\"116.529675\"/>\r\n     <use style=\"fill:#1f77b4;stroke:#1f77b4;\" x=\"281.905048\" xlink:href=\"#m016a657129\" y=\"115.139056\"/>\r\n     <use style=\"fill:#1f77b4;stroke:#1f77b4;\" x=\"142.700234\" xlink:href=\"#m016a657129\" y=\"118.065637\"/>\r\n     <use style=\"fill:#1f77b4;stroke:#1f77b4;\" x=\"71.952806\" xlink:href=\"#m016a657129\" y=\"118.116716\"/>\r\n     <use style=\"fill:#1f77b4;stroke:#1f77b4;\" x=\"174.979562\" xlink:href=\"#m016a657129\" y=\"116.381512\"/>\r\n     <use style=\"fill:#1f77b4;stroke:#1f77b4;\" x=\"162.884374\" xlink:href=\"#m016a657129\" y=\"116.288973\"/>\r\n     <use style=\"fill:#1f77b4;stroke:#1f77b4;\" x=\"302.251227\" xlink:href=\"#m016a657129\" y=\"112.774694\"/>\r\n     <use style=\"fill:#1f77b4;stroke:#1f77b4;\" x=\"329.52514\" xlink:href=\"#m016a657129\" y=\"112.633674\"/>\r\n     <use style=\"fill:#1f77b4;stroke:#1f77b4;\" x=\"299.509943\" xlink:href=\"#m016a657129\" y=\"122.717013\"/>\r\n     <use style=\"fill:#1f77b4;stroke:#1f77b4;\" x=\"291.133828\" xlink:href=\"#m016a657129\" y=\"116.887534\"/>\r\n     <use style=\"fill:#1f77b4;stroke:#1f77b4;\" x=\"146.884369\" xlink:href=\"#m016a657129\" y=\"113.297923\"/>\r\n     <use style=\"fill:#1f77b4;stroke:#1f77b4;\" x=\"281.457717\" xlink:href=\"#m016a657129\" y=\"125.42378\"/>\r\n     <use style=\"fill:#1f77b4;stroke:#1f77b4;\" x=\"127.30407\" xlink:href=\"#m016a657129\" y=\"119.660824\"/>\r\n     <use style=\"fill:#1f77b4;stroke:#1f77b4;\" x=\"128.794893\" xlink:href=\"#m016a657129\" y=\"116.732423\"/>\r\n     <use style=\"fill:#1f77b4;stroke:#1f77b4;\" x=\"324.295475\" xlink:href=\"#m016a657129\" y=\"104.72642\"/>\r\n     <use style=\"fill:#1f77b4;stroke:#1f77b4;\" x=\"112.82686\" xlink:href=\"#m016a657129\" y=\"118.194564\"/>\r\n     <use style=\"fill:#1f77b4;stroke:#1f77b4;\" x=\"136.384549\" xlink:href=\"#m016a657129\" y=\"110.816749\"/>\r\n     <use style=\"fill:#1f77b4;stroke:#1f77b4;\" x=\"57.698144\" xlink:href=\"#m016a657129\" y=\"122.546906\"/>\r\n     <use style=\"fill:#1f77b4;stroke:#1f77b4;\" x=\"177.198317\" xlink:href=\"#m016a657129\" y=\"101.294369\"/>\r\n     <use style=\"fill:#1f77b4;stroke:#1f77b4;\" x=\"313.284827\" xlink:href=\"#m016a657129\" y=\"115.979571\"/>\r\n     <use style=\"fill:#1f77b4;stroke:#1f77b4;\" x=\"284.603302\" xlink:href=\"#m016a657129\" y=\"117.859772\"/>\r\n     <use style=\"fill:#1f77b4;stroke:#1f77b4;\" x=\"272.810551\" xlink:href=\"#m016a657129\" y=\"116.989658\"/>\r\n     <use style=\"fill:#1f77b4;stroke:#1f77b4;\" x=\"308.379184\" xlink:href=\"#m016a657129\" y=\"113.458588\"/>\r\n     <use style=\"fill:#1f77b4;stroke:#1f77b4;\" x=\"306.54066\" xlink:href=\"#m016a657129\" y=\"119.44436\"/>\r\n     <use style=\"fill:#1f77b4;stroke:#1f77b4;\" x=\"121.285656\" xlink:href=\"#m016a657129\" y=\"118.395564\"/>\r\n     <use style=\"fill:#1f77b4;stroke:#1f77b4;\" x=\"336.164456\" xlink:href=\"#m016a657129\" y=\"108.373022\"/>\r\n     <use style=\"fill:#1f77b4;stroke:#1f77b4;\" x=\"298.655799\" xlink:href=\"#m016a657129\" y=\"115.359982\"/>\r\n     <use style=\"fill:#1f77b4;stroke:#1f77b4;\" x=\"159.248904\" xlink:href=\"#m016a657129\" y=\"122.201579\"/>\r\n     <use style=\"fill:#1f77b4;stroke:#1f77b4;\" x=\"130.675413\" xlink:href=\"#m016a657129\" y=\"119.953525\"/>\r\n     <use style=\"fill:#1f77b4;stroke:#1f77b4;\" x=\"226.072611\" xlink:href=\"#m016a657129\" y=\"124.866292\"/>\r\n     <use style=\"fill:#1f77b4;stroke:#1f77b4;\" x=\"248.235617\" xlink:href=\"#m016a657129\" y=\"114.513494\"/>\r\n     <use style=\"fill:#1f77b4;stroke:#1f77b4;\" x=\"149.491704\" xlink:href=\"#m016a657129\" y=\"109.684927\"/>\r\n     <use style=\"fill:#1f77b4;stroke:#1f77b4;\" x=\"246.432639\" xlink:href=\"#m016a657129\" y=\"130.068189\"/>\r\n     <use style=\"fill:#1f77b4;stroke:#1f77b4;\" x=\"104.311742\" xlink:href=\"#m016a657129\" y=\"118.178855\"/>\r\n     <use style=\"fill:#1f77b4;stroke:#1f77b4;\" x=\"102.747648\" xlink:href=\"#m016a657129\" y=\"116.484907\"/>\r\n     <use style=\"fill:#1f77b4;stroke:#1f77b4;\" x=\"144.605997\" xlink:href=\"#m016a657129\" y=\"110.946683\"/>\r\n     <use style=\"fill:#1f77b4;stroke:#1f77b4;\" x=\"116.527391\" xlink:href=\"#m016a657129\" y=\"117.022198\"/>\r\n     <use style=\"fill:#1f77b4;stroke:#1f77b4;\" x=\"281.712461\" xlink:href=\"#m016a657129\" y=\"116.781716\"/>\r\n     <use style=\"fill:#1f77b4;stroke:#1f77b4;\" x=\"131.388797\" xlink:href=\"#m016a657129\" y=\"114.1549\"/>\r\n     <use style=\"fill:#1f77b4;stroke:#1f77b4;\" x=\"304.684768\" xlink:href=\"#m016a657129\" y=\"118.326163\"/>\r\n     <use style=\"fill:#1f77b4;stroke:#1f77b4;\" x=\"149.089022\" xlink:href=\"#m016a657129\" y=\"113.60476\"/>\r\n     <use style=\"fill:#1f77b4;stroke:#1f77b4;\" x=\"133.283921\" xlink:href=\"#m016a657129\" y=\"117.436549\"/>\r\n     <use style=\"fill:#1f77b4;stroke:#1f77b4;\" x=\"305.519506\" xlink:href=\"#m016a657129\" y=\"113.14528\"/>\r\n     <use style=\"fill:#1f77b4;stroke:#1f77b4;\" x=\"308.699687\" xlink:href=\"#m016a657129\" y=\"114.686913\"/>\r\n     <use style=\"fill:#1f77b4;stroke:#1f77b4;\" x=\"261.172886\" xlink:href=\"#m016a657129\" y=\"114.460269\"/>\r\n     <use style=\"fill:#1f77b4;stroke:#1f77b4;\" x=\"71.836338\" xlink:href=\"#m016a657129\" y=\"137.572324\"/>\r\n     <use style=\"fill:#1f77b4;stroke:#1f77b4;\" x=\"304.976259\" xlink:href=\"#m016a657129\" y=\"114.972191\"/>\r\n     <use style=\"fill:#1f77b4;stroke:#1f77b4;\" x=\"352.189816\" xlink:href=\"#m016a657129\" y=\"110.501313\"/>\r\n     <use style=\"fill:#1f77b4;stroke:#1f77b4;\" x=\"120.258638\" xlink:href=\"#m016a657129\" y=\"118.136197\"/>\r\n     <use style=\"fill:#1f77b4;stroke:#1f77b4;\" x=\"115.759082\" xlink:href=\"#m016a657129\" y=\"122.162142\"/>\r\n     <use style=\"fill:#1f77b4;stroke:#1f77b4;\" x=\"335.502312\" xlink:href=\"#m016a657129\" y=\"118.261318\"/>\r\n     <use style=\"fill:#1f77b4;stroke:#1f77b4;\" x=\"133.351077\" xlink:href=\"#m016a657129\" y=\"122.935851\"/>\r\n     <use style=\"fill:#1f77b4;stroke:#1f77b4;\" x=\"312.94609\" xlink:href=\"#m016a657129\" y=\"110.166737\"/>\r\n     <use style=\"fill:#1f77b4;stroke:#1f77b4;\" x=\"280.609297\" xlink:href=\"#m016a657129\" y=\"122.651989\"/>\r\n     <use style=\"fill:#1f77b4;stroke:#1f77b4;\" x=\"289.439975\" xlink:href=\"#m016a657129\" y=\"115.175932\"/>\r\n     <use style=\"fill:#1f77b4;stroke:#1f77b4;\" x=\"330.188625\" xlink:href=\"#m016a657129\" y=\"114.788857\"/>\r\n     <use style=\"fill:#1f77b4;stroke:#1f77b4;\" x=\"309.262257\" xlink:href=\"#m016a657129\" y=\"116.936067\"/>\r\n     <use style=\"fill:#1f77b4;stroke:#1f77b4;\" x=\"317.067788\" xlink:href=\"#m016a657129\" y=\"105.678885\"/>\r\n     <use style=\"fill:#1f77b4;stroke:#1f77b4;\" x=\"338.019985\" xlink:href=\"#m016a657129\" y=\"111.056143\"/>\r\n     <use style=\"fill:#1f77b4;stroke:#1f77b4;\" x=\"145.580212\" xlink:href=\"#m016a657129\" y=\"113.949132\"/>\r\n     <use style=\"fill:#1f77b4;stroke:#1f77b4;\" x=\"135.347395\" xlink:href=\"#m016a657129\" y=\"115.993316\"/>\r\n     <use style=\"fill:#1f77b4;stroke:#1f77b4;\" x=\"126.687245\" xlink:href=\"#m016a657129\" y=\"117.764262\"/>\r\n     <use style=\"fill:#1f77b4;stroke:#1f77b4;\" x=\"133.717319\" xlink:href=\"#m016a657129\" y=\"116.264299\"/>\r\n     <use style=\"fill:#1f77b4;stroke:#1f77b4;\" x=\"304.409277\" xlink:href=\"#m016a657129\" y=\"121.191209\"/>\r\n     <use style=\"fill:#1f77b4;stroke:#1f77b4;\" x=\"125.012239\" xlink:href=\"#m016a657129\" y=\"115.183317\"/>\r\n     <use style=\"fill:#1f77b4;stroke:#1f77b4;\" x=\"353.610496\" xlink:href=\"#m016a657129\" y=\"110.986119\"/>\r\n     <use style=\"fill:#1f77b4;stroke:#1f77b4;\" x=\"299.627947\" xlink:href=\"#m016a657129\" y=\"121.024031\"/>\r\n     <use style=\"fill:#1f77b4;stroke:#1f77b4;\" x=\"315.815066\" xlink:href=\"#m016a657129\" y=\"110.511732\"/>\r\n     <use style=\"fill:#1f77b4;stroke:#1f77b4;\" x=\"115.856227\" xlink:href=\"#m016a657129\" y=\"117.160504\"/>\r\n     <use style=\"fill:#1f77b4;stroke:#1f77b4;\" x=\"165.218005\" xlink:href=\"#m016a657129\" y=\"113.24797\"/>\r\n     <use style=\"fill:#1f77b4;stroke:#1f77b4;\" x=\"151.312608\" xlink:href=\"#m016a657129\" y=\"112.708883\"/>\r\n     <use style=\"fill:#1f77b4;stroke:#1f77b4;\" x=\"169.576102\" xlink:href=\"#m016a657129\" y=\"110.975748\"/>\r\n     <use style=\"fill:#1f77b4;stroke:#1f77b4;\" x=\"159.762106\" xlink:href=\"#m016a657129\" y=\"116.829384\"/>\r\n     <use style=\"fill:#1f77b4;stroke:#1f77b4;\" x=\"126.803266\" xlink:href=\"#m016a657129\" y=\"113.878982\"/>\r\n     <use style=\"fill:#1f77b4;stroke:#1f77b4;\" x=\"145.099067\" xlink:href=\"#m016a657129\" y=\"110.210677\"/>\r\n    </g>\r\n   </g>\r\n   <g id=\"PathCollection_2\">\r\n    <defs>\r\n     <path d=\"M 0 3 \r\nC 0.795609 3 1.55874 2.683901 2.12132 2.12132 \r\nC 2.683901 1.55874 3 0.795609 3 0 \r\nC 3 -0.795609 2.683901 -1.55874 2.12132 -2.12132 \r\nC 1.55874 -2.683901 0.795609 -3 0 -3 \r\nC -0.795609 -3 -1.55874 -2.683901 -2.12132 -2.12132 \r\nC -2.683901 -1.55874 -3 -0.795609 -3 0 \r\nC -3 0.795609 -2.683901 1.55874 -2.12132 2.12132 \r\nC -1.55874 2.683901 -0.795609 3 0 3 \r\nz\r\n\" id=\"me8f009b12d\" style=\"stroke:#0000ff;\"/>\r\n    </defs>\r\n    <g clip-path=\"url(#p3447b9ff9a)\">\r\n     <use style=\"fill:#0000ff;stroke:#0000ff;\" x=\"177.363902\" xlink:href=\"#me8f009b12d\" y=\"108.703642\"/>\r\n    </g>\r\n   </g>\r\n   <g id=\"PathCollection_3\">\r\n    <g clip-path=\"url(#p3447b9ff9a)\">\r\n     <use style=\"fill:#0000ff;stroke:#0000ff;\" x=\"162.743585\" xlink:href=\"#me8f009b12d\" y=\"106.545167\"/>\r\n    </g>\r\n   </g>\r\n   <g id=\"PathCollection_4\">\r\n    <defs>\r\n     <path d=\"M 0 3 \r\nC 0.795609 3 1.55874 2.683901 2.12132 2.12132 \r\nC 2.683901 1.55874 3 0.795609 3 0 \r\nC 3 -0.795609 2.683901 -1.55874 2.12132 -2.12132 \r\nC 1.55874 -2.683901 0.795609 -3 0 -3 \r\nC -0.795609 -3 -1.55874 -2.683901 -2.12132 -2.12132 \r\nC -2.683901 -1.55874 -3 -0.795609 -3 0 \r\nC -3 0.795609 -2.683901 1.55874 -2.12132 2.12132 \r\nC -1.55874 2.683901 -0.795609 3 0 3 \r\nz\r\n\" id=\"m1f85596def\" style=\"stroke:#ff0000;\"/>\r\n    </defs>\r\n    <g clip-path=\"url(#p3447b9ff9a)\">\r\n     <use style=\"fill:#ff0000;stroke:#ff0000;\" x=\"289.308987\" xlink:href=\"#m1f85596def\" y=\"121.965093\"/>\r\n    </g>\r\n   </g>\r\n   <g id=\"PathCollection_5\">\r\n    <g clip-path=\"url(#p3447b9ff9a)\">\r\n     <use style=\"fill:#0000ff;stroke:#0000ff;\" x=\"137.503826\" xlink:href=\"#me8f009b12d\" y=\"116.091674\"/>\r\n    </g>\r\n   </g>\r\n   <g id=\"PathCollection_6\">\r\n    <g clip-path=\"url(#p3447b9ff9a)\">\r\n     <use style=\"fill:#ff0000;stroke:#ff0000;\" x=\"305.381704\" xlink:href=\"#m1f85596def\" y=\"111.324397\"/>\r\n    </g>\r\n   </g>\r\n   <g id=\"PathCollection_7\">\r\n    <g clip-path=\"url(#p3447b9ff9a)\">\r\n     <use style=\"fill:#ff0000;stroke:#ff0000;\" x=\"276.946294\" xlink:href=\"#m1f85596def\" y=\"119.754034\"/>\r\n    </g>\r\n   </g>\r\n   <g id=\"PathCollection_8\">\r\n    <g clip-path=\"url(#p3447b9ff9a)\">\r\n     <use style=\"fill:#ff0000;stroke:#ff0000;\" x=\"318.883331\" xlink:href=\"#m1f85596def\" y=\"108.445267\"/>\r\n    </g>\r\n   </g>\r\n   <g id=\"PathCollection_9\">\r\n    <g clip-path=\"url(#p3447b9ff9a)\">\r\n     <use style=\"fill:#0000ff;stroke:#0000ff;\" x=\"143.403957\" xlink:href=\"#me8f009b12d\" y=\"115.08636\"/>\r\n    </g>\r\n   </g>\r\n   <g id=\"PathCollection_10\">\r\n    <g clip-path=\"url(#p3447b9ff9a)\">\r\n     <use style=\"fill:#0000ff;stroke:#0000ff;\" x=\"179.919551\" xlink:href=\"#me8f009b12d\" y=\"109.623896\"/>\r\n    </g>\r\n   </g>\r\n   <g id=\"PathCollection_11\">\r\n    <g clip-path=\"url(#p3447b9ff9a)\">\r\n     <use style=\"fill:#0000ff;stroke:#0000ff;\" x=\"87.978221\" xlink:href=\"#me8f009b12d\" y=\"119.411417\"/>\r\n    </g>\r\n   </g>\r\n   <g id=\"PathCollection_12\">\r\n    <g clip-path=\"url(#p3447b9ff9a)\">\r\n     <use style=\"fill:#0000ff;stroke:#0000ff;\" x=\"165.732911\" xlink:href=\"#me8f009b12d\" y=\"114.981839\"/>\r\n    </g>\r\n   </g>\r\n   <g id=\"PathCollection_13\">\r\n    <g clip-path=\"url(#p3447b9ff9a)\">\r\n     <use style=\"fill:#0000ff;stroke:#0000ff;\" x=\"137.734276\" xlink:href=\"#me8f009b12d\" y=\"118.996008\"/>\r\n    </g>\r\n   </g>\r\n   <g id=\"PathCollection_14\">\r\n    <g clip-path=\"url(#p3447b9ff9a)\">\r\n     <use style=\"fill:#0000ff;stroke:#0000ff;\" x=\"103.237395\" xlink:href=\"#me8f009b12d\" y=\"126.504691\"/>\r\n    </g>\r\n   </g>\r\n   <g id=\"PathCollection_15\">\r\n    <g clip-path=\"url(#p3447b9ff9a)\">\r\n     <use style=\"fill:#ff0000;stroke:#ff0000;\" x=\"277.817696\" xlink:href=\"#m1f85596def\" y=\"124.760459\"/>\r\n    </g>\r\n   </g>\r\n   <g id=\"PathCollection_16\">\r\n    <g clip-path=\"url(#p3447b9ff9a)\">\r\n     <use style=\"fill:#0000ff;stroke:#0000ff;\" x=\"125.815564\" xlink:href=\"#me8f009b12d\" y=\"120.594993\"/>\r\n    </g>\r\n   </g>\r\n   <g id=\"PathCollection_17\">\r\n    <g clip-path=\"url(#p3447b9ff9a)\">\r\n     <use style=\"fill:#ff0000;stroke:#ff0000;\" x=\"305.10021\" xlink:href=\"#m1f85596def\" y=\"113.750756\"/>\r\n    </g>\r\n   </g>\r\n   <g id=\"PathCollection_18\">\r\n    <g clip-path=\"url(#p3447b9ff9a)\">\r\n     <use style=\"fill:#ff0000;stroke:#ff0000;\" x=\"315.714682\" xlink:href=\"#m1f85596def\" y=\"117.069045\"/>\r\n    </g>\r\n   </g>\r\n   <g id=\"PathCollection_19\">\r\n    <g clip-path=\"url(#p3447b9ff9a)\">\r\n     <use style=\"fill:#0000ff;stroke:#0000ff;\" x=\"208.518061\" xlink:href=\"#me8f009b12d\" y=\"103.000085\"/>\r\n    </g>\r\n   </g>\r\n   <g id=\"PathCollection_20\">\r\n    <g clip-path=\"url(#p3447b9ff9a)\">\r\n     <use style=\"fill:#ff0000;stroke:#ff0000;\" x=\"307.338232\" xlink:href=\"#m1f85596def\" y=\"110.315052\"/>\r\n    </g>\r\n   </g>\r\n   <g id=\"PathCollection_21\">\r\n    <g clip-path=\"url(#p3447b9ff9a)\">\r\n     <use style=\"fill:#0000ff;stroke:#0000ff;\" x=\"112.178761\" xlink:href=\"#me8f009b12d\" y=\"115.280628\"/>\r\n    </g>\r\n   </g>\r\n   <g id=\"PathCollection_22\">\r\n    <g clip-path=\"url(#p3447b9ff9a)\">\r\n     <use style=\"fill:#0000ff;stroke:#0000ff;\" x=\"132.295773\" xlink:href=\"#me8f009b12d\" y=\"117.274899\"/>\r\n    </g>\r\n   </g>\r\n   <g id=\"PathCollection_23\">\r\n    <g clip-path=\"url(#p3447b9ff9a)\">\r\n     <use style=\"fill:#0000ff;stroke:#0000ff;\" x=\"139.201812\" xlink:href=\"#me8f009b12d\" y=\"116.12918\"/>\r\n    </g>\r\n   </g>\r\n   <g id=\"PathCollection_24\">\r\n    <g clip-path=\"url(#p3447b9ff9a)\">\r\n     <use style=\"fill:#ff0000;stroke:#ff0000;\" x=\"298.666018\" xlink:href=\"#m1f85596def\" y=\"114.353686\"/>\r\n    </g>\r\n   </g>\r\n   <g id=\"PathCollection_25\">\r\n    <g clip-path=\"url(#p3447b9ff9a)\">\r\n     <use style=\"fill:#0000ff;stroke:#0000ff;\" x=\"168.443897\" xlink:href=\"#me8f009b12d\" y=\"118.134244\"/>\r\n    </g>\r\n   </g>\r\n   <g id=\"PathCollection_26\">\r\n    <g clip-path=\"url(#p3447b9ff9a)\">\r\n     <use style=\"fill:#0000ff;stroke:#0000ff;\" x=\"179.765778\" xlink:href=\"#me8f009b12d\" y=\"107.908919\"/>\r\n    </g>\r\n   </g>\r\n   <g id=\"PathCollection_27\">\r\n    <g clip-path=\"url(#p3447b9ff9a)\">\r\n     <use style=\"fill:#ff0000;stroke:#ff0000;\" x=\"285.297809\" xlink:href=\"#m1f85596def\" y=\"116.529675\"/>\r\n    </g>\r\n   </g>\r\n   <g id=\"PathCollection_28\">\r\n    <g clip-path=\"url(#p3447b9ff9a)\">\r\n     <use style=\"fill:#ff0000;stroke:#ff0000;\" x=\"281.905048\" xlink:href=\"#m1f85596def\" y=\"115.139056\"/>\r\n    </g>\r\n   </g>\r\n   <g id=\"PathCollection_29\">\r\n    <g clip-path=\"url(#p3447b9ff9a)\">\r\n     <use style=\"fill:#0000ff;stroke:#0000ff;\" x=\"142.700234\" xlink:href=\"#me8f009b12d\" y=\"118.065637\"/>\r\n    </g>\r\n   </g>\r\n   <g id=\"PathCollection_30\">\r\n    <g clip-path=\"url(#p3447b9ff9a)\">\r\n     <use style=\"fill:#0000ff;stroke:#0000ff;\" x=\"71.952806\" xlink:href=\"#me8f009b12d\" y=\"118.116716\"/>\r\n    </g>\r\n   </g>\r\n   <g id=\"PathCollection_31\">\r\n    <g clip-path=\"url(#p3447b9ff9a)\">\r\n     <use style=\"fill:#0000ff;stroke:#0000ff;\" x=\"174.979562\" xlink:href=\"#me8f009b12d\" y=\"116.381512\"/>\r\n    </g>\r\n   </g>\r\n   <g id=\"PathCollection_32\">\r\n    <g clip-path=\"url(#p3447b9ff9a)\">\r\n     <use style=\"fill:#0000ff;stroke:#0000ff;\" x=\"162.884374\" xlink:href=\"#me8f009b12d\" y=\"116.288973\"/>\r\n    </g>\r\n   </g>\r\n   <g id=\"PathCollection_33\">\r\n    <g clip-path=\"url(#p3447b9ff9a)\">\r\n     <use style=\"fill:#ff0000;stroke:#ff0000;\" x=\"302.251227\" xlink:href=\"#m1f85596def\" y=\"112.774694\"/>\r\n    </g>\r\n   </g>\r\n   <g id=\"PathCollection_34\">\r\n    <g clip-path=\"url(#p3447b9ff9a)\">\r\n     <use style=\"fill:#ff0000;stroke:#ff0000;\" x=\"329.52514\" xlink:href=\"#m1f85596def\" y=\"112.633674\"/>\r\n    </g>\r\n   </g>\r\n   <g id=\"PathCollection_35\">\r\n    <g clip-path=\"url(#p3447b9ff9a)\">\r\n     <use style=\"fill:#ff0000;stroke:#ff0000;\" x=\"299.509943\" xlink:href=\"#m1f85596def\" y=\"122.717013\"/>\r\n    </g>\r\n   </g>\r\n   <g id=\"PathCollection_36\">\r\n    <g clip-path=\"url(#p3447b9ff9a)\">\r\n     <use style=\"fill:#ff0000;stroke:#ff0000;\" x=\"291.133828\" xlink:href=\"#m1f85596def\" y=\"116.887534\"/>\r\n    </g>\r\n   </g>\r\n   <g id=\"PathCollection_37\">\r\n    <g clip-path=\"url(#p3447b9ff9a)\">\r\n     <use style=\"fill:#0000ff;stroke:#0000ff;\" x=\"146.884369\" xlink:href=\"#me8f009b12d\" y=\"113.297923\"/>\r\n    </g>\r\n   </g>\r\n   <g id=\"PathCollection_38\">\r\n    <g clip-path=\"url(#p3447b9ff9a)\">\r\n     <use style=\"fill:#ff0000;stroke:#ff0000;\" x=\"281.457717\" xlink:href=\"#m1f85596def\" y=\"125.42378\"/>\r\n    </g>\r\n   </g>\r\n   <g id=\"PathCollection_39\">\r\n    <g clip-path=\"url(#p3447b9ff9a)\">\r\n     <use style=\"fill:#0000ff;stroke:#0000ff;\" x=\"127.30407\" xlink:href=\"#me8f009b12d\" y=\"119.660824\"/>\r\n    </g>\r\n   </g>\r\n   <g id=\"PathCollection_40\">\r\n    <g clip-path=\"url(#p3447b9ff9a)\">\r\n     <use style=\"fill:#0000ff;stroke:#0000ff;\" x=\"128.794893\" xlink:href=\"#me8f009b12d\" y=\"116.732423\"/>\r\n    </g>\r\n   </g>\r\n   <g id=\"PathCollection_41\">\r\n    <g clip-path=\"url(#p3447b9ff9a)\">\r\n     <use style=\"fill:#ff0000;stroke:#ff0000;\" x=\"324.295475\" xlink:href=\"#m1f85596def\" y=\"104.72642\"/>\r\n    </g>\r\n   </g>\r\n   <g id=\"PathCollection_42\">\r\n    <g clip-path=\"url(#p3447b9ff9a)\">\r\n     <use style=\"fill:#0000ff;stroke:#0000ff;\" x=\"112.82686\" xlink:href=\"#me8f009b12d\" y=\"118.194564\"/>\r\n    </g>\r\n   </g>\r\n   <g id=\"PathCollection_43\">\r\n    <g clip-path=\"url(#p3447b9ff9a)\">\r\n     <use style=\"fill:#0000ff;stroke:#0000ff;\" x=\"136.384549\" xlink:href=\"#me8f009b12d\" y=\"110.816749\"/>\r\n    </g>\r\n   </g>\r\n   <g id=\"PathCollection_44\">\r\n    <g clip-path=\"url(#p3447b9ff9a)\">\r\n     <use style=\"fill:#0000ff;stroke:#0000ff;\" x=\"57.698144\" xlink:href=\"#me8f009b12d\" y=\"122.546906\"/>\r\n    </g>\r\n   </g>\r\n   <g id=\"PathCollection_45\">\r\n    <g clip-path=\"url(#p3447b9ff9a)\">\r\n     <use style=\"fill:#0000ff;stroke:#0000ff;\" x=\"177.198317\" xlink:href=\"#me8f009b12d\" y=\"101.294369\"/>\r\n    </g>\r\n   </g>\r\n   <g id=\"PathCollection_46\">\r\n    <g clip-path=\"url(#p3447b9ff9a)\">\r\n     <use style=\"fill:#ff0000;stroke:#ff0000;\" x=\"313.284827\" xlink:href=\"#m1f85596def\" y=\"115.979571\"/>\r\n    </g>\r\n   </g>\r\n   <g id=\"PathCollection_47\">\r\n    <g clip-path=\"url(#p3447b9ff9a)\">\r\n     <use style=\"fill:#ff0000;stroke:#ff0000;\" x=\"284.603302\" xlink:href=\"#m1f85596def\" y=\"117.859772\"/>\r\n    </g>\r\n   </g>\r\n   <g id=\"PathCollection_48\">\r\n    <g clip-path=\"url(#p3447b9ff9a)\">\r\n     <use style=\"fill:#ff0000;stroke:#ff0000;\" x=\"272.810551\" xlink:href=\"#m1f85596def\" y=\"116.989658\"/>\r\n    </g>\r\n   </g>\r\n   <g id=\"PathCollection_49\">\r\n    <g clip-path=\"url(#p3447b9ff9a)\">\r\n     <use style=\"fill:#ff0000;stroke:#ff0000;\" x=\"308.379184\" xlink:href=\"#m1f85596def\" y=\"113.458588\"/>\r\n    </g>\r\n   </g>\r\n   <g id=\"PathCollection_50\">\r\n    <g clip-path=\"url(#p3447b9ff9a)\">\r\n     <use style=\"fill:#ff0000;stroke:#ff0000;\" x=\"306.54066\" xlink:href=\"#m1f85596def\" y=\"119.44436\"/>\r\n    </g>\r\n   </g>\r\n   <g id=\"PathCollection_51\">\r\n    <g clip-path=\"url(#p3447b9ff9a)\">\r\n     <use style=\"fill:#0000ff;stroke:#0000ff;\" x=\"121.285656\" xlink:href=\"#me8f009b12d\" y=\"118.395564\"/>\r\n    </g>\r\n   </g>\r\n   <g id=\"PathCollection_52\">\r\n    <g clip-path=\"url(#p3447b9ff9a)\">\r\n     <use style=\"fill:#ff0000;stroke:#ff0000;\" x=\"336.164456\" xlink:href=\"#m1f85596def\" y=\"108.373022\"/>\r\n    </g>\r\n   </g>\r\n   <g id=\"PathCollection_53\">\r\n    <g clip-path=\"url(#p3447b9ff9a)\">\r\n     <use style=\"fill:#ff0000;stroke:#ff0000;\" x=\"298.655799\" xlink:href=\"#m1f85596def\" y=\"115.359982\"/>\r\n    </g>\r\n   </g>\r\n   <g id=\"PathCollection_54\">\r\n    <g clip-path=\"url(#p3447b9ff9a)\">\r\n     <use style=\"fill:#0000ff;stroke:#0000ff;\" x=\"159.248904\" xlink:href=\"#me8f009b12d\" y=\"122.201579\"/>\r\n    </g>\r\n   </g>\r\n   <g id=\"PathCollection_55\">\r\n    <g clip-path=\"url(#p3447b9ff9a)\">\r\n     <use style=\"fill:#0000ff;stroke:#0000ff;\" x=\"130.675413\" xlink:href=\"#me8f009b12d\" y=\"119.953525\"/>\r\n    </g>\r\n   </g>\r\n   <g id=\"PathCollection_56\">\r\n    <g clip-path=\"url(#p3447b9ff9a)\">\r\n     <use style=\"fill:#ff0000;stroke:#ff0000;\" x=\"226.072611\" xlink:href=\"#m1f85596def\" y=\"124.866292\"/>\r\n    </g>\r\n   </g>\r\n   <g id=\"PathCollection_57\">\r\n    <g clip-path=\"url(#p3447b9ff9a)\">\r\n     <use style=\"fill:#ff0000;stroke:#ff0000;\" x=\"248.235617\" xlink:href=\"#m1f85596def\" y=\"114.513494\"/>\r\n    </g>\r\n   </g>\r\n   <g id=\"PathCollection_58\">\r\n    <g clip-path=\"url(#p3447b9ff9a)\">\r\n     <use style=\"fill:#0000ff;stroke:#0000ff;\" x=\"149.491704\" xlink:href=\"#me8f009b12d\" y=\"109.684927\"/>\r\n    </g>\r\n   </g>\r\n   <g id=\"PathCollection_59\">\r\n    <g clip-path=\"url(#p3447b9ff9a)\">\r\n     <use style=\"fill:#ff0000;stroke:#ff0000;\" x=\"246.432639\" xlink:href=\"#m1f85596def\" y=\"130.068189\"/>\r\n    </g>\r\n   </g>\r\n   <g id=\"PathCollection_60\">\r\n    <g clip-path=\"url(#p3447b9ff9a)\">\r\n     <use style=\"fill:#0000ff;stroke:#0000ff;\" x=\"104.311742\" xlink:href=\"#me8f009b12d\" y=\"118.178855\"/>\r\n    </g>\r\n   </g>\r\n   <g id=\"PathCollection_61\">\r\n    <g clip-path=\"url(#p3447b9ff9a)\">\r\n     <use style=\"fill:#0000ff;stroke:#0000ff;\" x=\"102.747648\" xlink:href=\"#me8f009b12d\" y=\"116.484907\"/>\r\n    </g>\r\n   </g>\r\n   <g id=\"PathCollection_62\">\r\n    <g clip-path=\"url(#p3447b9ff9a)\">\r\n     <use style=\"fill:#0000ff;stroke:#0000ff;\" x=\"144.605997\" xlink:href=\"#me8f009b12d\" y=\"110.946683\"/>\r\n    </g>\r\n   </g>\r\n   <g id=\"PathCollection_63\">\r\n    <g clip-path=\"url(#p3447b9ff9a)\">\r\n     <use style=\"fill:#0000ff;stroke:#0000ff;\" x=\"116.527391\" xlink:href=\"#me8f009b12d\" y=\"117.022198\"/>\r\n    </g>\r\n   </g>\r\n   <g id=\"PathCollection_64\">\r\n    <g clip-path=\"url(#p3447b9ff9a)\">\r\n     <use style=\"fill:#ff0000;stroke:#ff0000;\" x=\"281.712461\" xlink:href=\"#m1f85596def\" y=\"116.781716\"/>\r\n    </g>\r\n   </g>\r\n   <g id=\"PathCollection_65\">\r\n    <g clip-path=\"url(#p3447b9ff9a)\">\r\n     <use style=\"fill:#0000ff;stroke:#0000ff;\" x=\"131.388797\" xlink:href=\"#me8f009b12d\" y=\"114.1549\"/>\r\n    </g>\r\n   </g>\r\n   <g id=\"PathCollection_66\">\r\n    <g clip-path=\"url(#p3447b9ff9a)\">\r\n     <use style=\"fill:#ff0000;stroke:#ff0000;\" x=\"304.684768\" xlink:href=\"#m1f85596def\" y=\"118.326163\"/>\r\n    </g>\r\n   </g>\r\n   <g id=\"PathCollection_67\">\r\n    <g clip-path=\"url(#p3447b9ff9a)\">\r\n     <use style=\"fill:#0000ff;stroke:#0000ff;\" x=\"149.089022\" xlink:href=\"#me8f009b12d\" y=\"113.60476\"/>\r\n    </g>\r\n   </g>\r\n   <g id=\"PathCollection_68\">\r\n    <g clip-path=\"url(#p3447b9ff9a)\">\r\n     <use style=\"fill:#0000ff;stroke:#0000ff;\" x=\"133.283921\" xlink:href=\"#me8f009b12d\" y=\"117.436549\"/>\r\n    </g>\r\n   </g>\r\n   <g id=\"PathCollection_69\">\r\n    <g clip-path=\"url(#p3447b9ff9a)\">\r\n     <use style=\"fill:#ff0000;stroke:#ff0000;\" x=\"305.519506\" xlink:href=\"#m1f85596def\" y=\"113.14528\"/>\r\n    </g>\r\n   </g>\r\n   <g id=\"PathCollection_70\">\r\n    <g clip-path=\"url(#p3447b9ff9a)\">\r\n     <use style=\"fill:#ff0000;stroke:#ff0000;\" x=\"308.699687\" xlink:href=\"#m1f85596def\" y=\"114.686913\"/>\r\n    </g>\r\n   </g>\r\n   <g id=\"PathCollection_71\">\r\n    <g clip-path=\"url(#p3447b9ff9a)\">\r\n     <use style=\"fill:#ff0000;stroke:#ff0000;\" x=\"261.172886\" xlink:href=\"#m1f85596def\" y=\"114.460269\"/>\r\n    </g>\r\n   </g>\r\n   <g id=\"PathCollection_72\">\r\n    <g clip-path=\"url(#p3447b9ff9a)\">\r\n     <use style=\"fill:#0000ff;stroke:#0000ff;\" x=\"71.836338\" xlink:href=\"#me8f009b12d\" y=\"137.572324\"/>\r\n    </g>\r\n   </g>\r\n   <g id=\"PathCollection_73\">\r\n    <g clip-path=\"url(#p3447b9ff9a)\">\r\n     <use style=\"fill:#ff0000;stroke:#ff0000;\" x=\"304.976259\" xlink:href=\"#m1f85596def\" y=\"114.972191\"/>\r\n    </g>\r\n   </g>\r\n   <g id=\"PathCollection_74\">\r\n    <g clip-path=\"url(#p3447b9ff9a)\">\r\n     <use style=\"fill:#ff0000;stroke:#ff0000;\" x=\"352.189816\" xlink:href=\"#m1f85596def\" y=\"110.501313\"/>\r\n    </g>\r\n   </g>\r\n   <g id=\"PathCollection_75\">\r\n    <g clip-path=\"url(#p3447b9ff9a)\">\r\n     <use style=\"fill:#0000ff;stroke:#0000ff;\" x=\"120.258638\" xlink:href=\"#me8f009b12d\" y=\"118.136197\"/>\r\n    </g>\r\n   </g>\r\n   <g id=\"PathCollection_76\">\r\n    <g clip-path=\"url(#p3447b9ff9a)\">\r\n     <use style=\"fill:#0000ff;stroke:#0000ff;\" x=\"115.759082\" xlink:href=\"#me8f009b12d\" y=\"122.162142\"/>\r\n    </g>\r\n   </g>\r\n   <g id=\"PathCollection_77\">\r\n    <g clip-path=\"url(#p3447b9ff9a)\">\r\n     <use style=\"fill:#ff0000;stroke:#ff0000;\" x=\"335.502312\" xlink:href=\"#m1f85596def\" y=\"118.261318\"/>\r\n    </g>\r\n   </g>\r\n   <g id=\"PathCollection_78\">\r\n    <g clip-path=\"url(#p3447b9ff9a)\">\r\n     <use style=\"fill:#0000ff;stroke:#0000ff;\" x=\"133.351077\" xlink:href=\"#me8f009b12d\" y=\"122.935851\"/>\r\n    </g>\r\n   </g>\r\n   <g id=\"PathCollection_79\">\r\n    <g clip-path=\"url(#p3447b9ff9a)\">\r\n     <use style=\"fill:#ff0000;stroke:#ff0000;\" x=\"312.94609\" xlink:href=\"#m1f85596def\" y=\"110.166737\"/>\r\n    </g>\r\n   </g>\r\n   <g id=\"PathCollection_80\">\r\n    <g clip-path=\"url(#p3447b9ff9a)\">\r\n     <use style=\"fill:#ff0000;stroke:#ff0000;\" x=\"280.609297\" xlink:href=\"#m1f85596def\" y=\"122.651989\"/>\r\n    </g>\r\n   </g>\r\n   <g id=\"PathCollection_81\">\r\n    <g clip-path=\"url(#p3447b9ff9a)\">\r\n     <use style=\"fill:#ff0000;stroke:#ff0000;\" x=\"289.439975\" xlink:href=\"#m1f85596def\" y=\"115.175932\"/>\r\n    </g>\r\n   </g>\r\n   <g id=\"PathCollection_82\">\r\n    <g clip-path=\"url(#p3447b9ff9a)\">\r\n     <use style=\"fill:#ff0000;stroke:#ff0000;\" x=\"330.188625\" xlink:href=\"#m1f85596def\" y=\"114.788857\"/>\r\n    </g>\r\n   </g>\r\n   <g id=\"PathCollection_83\">\r\n    <g clip-path=\"url(#p3447b9ff9a)\">\r\n     <use style=\"fill:#ff0000;stroke:#ff0000;\" x=\"309.262257\" xlink:href=\"#m1f85596def\" y=\"116.936067\"/>\r\n    </g>\r\n   </g>\r\n   <g id=\"PathCollection_84\">\r\n    <g clip-path=\"url(#p3447b9ff9a)\">\r\n     <use style=\"fill:#ff0000;stroke:#ff0000;\" x=\"317.067788\" xlink:href=\"#m1f85596def\" y=\"105.678885\"/>\r\n    </g>\r\n   </g>\r\n   <g id=\"PathCollection_85\">\r\n    <g clip-path=\"url(#p3447b9ff9a)\">\r\n     <use style=\"fill:#ff0000;stroke:#ff0000;\" x=\"338.019985\" xlink:href=\"#m1f85596def\" y=\"111.056143\"/>\r\n    </g>\r\n   </g>\r\n   <g id=\"PathCollection_86\">\r\n    <g clip-path=\"url(#p3447b9ff9a)\">\r\n     <use style=\"fill:#0000ff;stroke:#0000ff;\" x=\"145.580212\" xlink:href=\"#me8f009b12d\" y=\"113.949132\"/>\r\n    </g>\r\n   </g>\r\n   <g id=\"PathCollection_87\">\r\n    <g clip-path=\"url(#p3447b9ff9a)\">\r\n     <use style=\"fill:#0000ff;stroke:#0000ff;\" x=\"135.347395\" xlink:href=\"#me8f009b12d\" y=\"115.993316\"/>\r\n    </g>\r\n   </g>\r\n   <g id=\"PathCollection_88\">\r\n    <g clip-path=\"url(#p3447b9ff9a)\">\r\n     <use style=\"fill:#0000ff;stroke:#0000ff;\" x=\"126.687245\" xlink:href=\"#me8f009b12d\" y=\"117.764262\"/>\r\n    </g>\r\n   </g>\r\n   <g id=\"PathCollection_89\">\r\n    <g clip-path=\"url(#p3447b9ff9a)\">\r\n     <use style=\"fill:#0000ff;stroke:#0000ff;\" x=\"133.717319\" xlink:href=\"#me8f009b12d\" y=\"116.264299\"/>\r\n    </g>\r\n   </g>\r\n   <g id=\"PathCollection_90\">\r\n    <g clip-path=\"url(#p3447b9ff9a)\">\r\n     <use style=\"fill:#ff0000;stroke:#ff0000;\" x=\"304.409277\" xlink:href=\"#m1f85596def\" y=\"121.191209\"/>\r\n    </g>\r\n   </g>\r\n   <g id=\"PathCollection_91\">\r\n    <g clip-path=\"url(#p3447b9ff9a)\">\r\n     <use style=\"fill:#0000ff;stroke:#0000ff;\" x=\"125.012239\" xlink:href=\"#me8f009b12d\" y=\"115.183317\"/>\r\n    </g>\r\n   </g>\r\n   <g id=\"PathCollection_92\">\r\n    <g clip-path=\"url(#p3447b9ff9a)\">\r\n     <use style=\"fill:#ff0000;stroke:#ff0000;\" x=\"353.610496\" xlink:href=\"#m1f85596def\" y=\"110.986119\"/>\r\n    </g>\r\n   </g>\r\n   <g id=\"PathCollection_93\">\r\n    <g clip-path=\"url(#p3447b9ff9a)\">\r\n     <use style=\"fill:#ff0000;stroke:#ff0000;\" x=\"299.627947\" xlink:href=\"#m1f85596def\" y=\"121.024031\"/>\r\n    </g>\r\n   </g>\r\n   <g id=\"PathCollection_94\">\r\n    <g clip-path=\"url(#p3447b9ff9a)\">\r\n     <use style=\"fill:#ff0000;stroke:#ff0000;\" x=\"315.815066\" xlink:href=\"#m1f85596def\" y=\"110.511732\"/>\r\n    </g>\r\n   </g>\r\n   <g id=\"PathCollection_95\">\r\n    <g clip-path=\"url(#p3447b9ff9a)\">\r\n     <use style=\"fill:#0000ff;stroke:#0000ff;\" x=\"115.856227\" xlink:href=\"#me8f009b12d\" y=\"117.160504\"/>\r\n    </g>\r\n   </g>\r\n   <g id=\"PathCollection_96\">\r\n    <g clip-path=\"url(#p3447b9ff9a)\">\r\n     <use style=\"fill:#0000ff;stroke:#0000ff;\" x=\"165.218005\" xlink:href=\"#me8f009b12d\" y=\"113.24797\"/>\r\n    </g>\r\n   </g>\r\n   <g id=\"PathCollection_97\">\r\n    <g clip-path=\"url(#p3447b9ff9a)\">\r\n     <use style=\"fill:#0000ff;stroke:#0000ff;\" x=\"151.312608\" xlink:href=\"#me8f009b12d\" y=\"112.708883\"/>\r\n    </g>\r\n   </g>\r\n   <g id=\"PathCollection_98\">\r\n    <g clip-path=\"url(#p3447b9ff9a)\">\r\n     <use style=\"fill:#0000ff;stroke:#0000ff;\" x=\"169.576102\" xlink:href=\"#me8f009b12d\" y=\"110.975748\"/>\r\n    </g>\r\n   </g>\r\n   <g id=\"PathCollection_99\">\r\n    <g clip-path=\"url(#p3447b9ff9a)\">\r\n     <use style=\"fill:#0000ff;stroke:#0000ff;\" x=\"159.762106\" xlink:href=\"#me8f009b12d\" y=\"116.829384\"/>\r\n    </g>\r\n   </g>\r\n   <g id=\"PathCollection_100\">\r\n    <g clip-path=\"url(#p3447b9ff9a)\">\r\n     <use style=\"fill:#0000ff;stroke:#0000ff;\" x=\"126.803266\" xlink:href=\"#me8f009b12d\" y=\"113.878982\"/>\r\n    </g>\r\n   </g>\r\n   <g id=\"PathCollection_101\">\r\n    <g clip-path=\"url(#p3447b9ff9a)\">\r\n     <use style=\"fill:#0000ff;stroke:#0000ff;\" x=\"145.099067\" xlink:href=\"#me8f009b12d\" y=\"110.210677\"/>\r\n    </g>\r\n   </g>\r\n   <g id=\"matplotlib.axis_1\">\r\n    <g id=\"xtick_1\">\r\n     <g id=\"line2d_1\">\r\n      <defs>\r\n       <path d=\"M 0 0 \r\nL 0 3.5 \r\n\" id=\"mac8e2ec5bd\" style=\"stroke:#000000;stroke-width:0.8;\"/>\r\n      </defs>\r\n      <g>\r\n       <use style=\"stroke:#000000;stroke-width:0.8;\" x=\"78.446139\" xlink:href=\"#mac8e2ec5bd\" y=\"224.64\"/>\r\n      </g>\r\n     </g>\r\n     <g id=\"text_1\">\r\n      <!-- 0 -->\r\n      <defs>\r\n       <path d=\"M 31.78125 66.40625 \r\nQ 24.171875 66.40625 20.328125 58.90625 \r\nQ 16.5 51.421875 16.5 36.375 \r\nQ 16.5 21.390625 20.328125 13.890625 \r\nQ 24.171875 6.390625 31.78125 6.390625 \r\nQ 39.453125 6.390625 43.28125 13.890625 \r\nQ 47.125 21.390625 47.125 36.375 \r\nQ 47.125 51.421875 43.28125 58.90625 \r\nQ 39.453125 66.40625 31.78125 66.40625 \r\nz\r\nM 31.78125 74.21875 \r\nQ 44.046875 74.21875 50.515625 64.515625 \r\nQ 56.984375 54.828125 56.984375 36.375 \r\nQ 56.984375 17.96875 50.515625 8.265625 \r\nQ 44.046875 -1.421875 31.78125 -1.421875 \r\nQ 19.53125 -1.421875 13.0625 8.265625 \r\nQ 6.59375 17.96875 6.59375 36.375 \r\nQ 6.59375 54.828125 13.0625 64.515625 \r\nQ 19.53125 74.21875 31.78125 74.21875 \r\nz\r\n\" id=\"DejaVuSans-48\"/>\r\n      </defs>\r\n      <g transform=\"translate(75.264889 239.238437)scale(0.1 -0.1)\">\r\n       <use xlink:href=\"#DejaVuSans-48\"/>\r\n      </g>\r\n     </g>\r\n    </g>\r\n    <g id=\"xtick_2\">\r\n     <g id=\"line2d_2\">\r\n      <g>\r\n       <use style=\"stroke:#000000;stroke-width:0.8;\" x=\"134.292677\" xlink:href=\"#mac8e2ec5bd\" y=\"224.64\"/>\r\n      </g>\r\n     </g>\r\n     <g id=\"text_2\">\r\n      <!-- 2 -->\r\n      <defs>\r\n       <path d=\"M 19.1875 8.296875 \r\nL 53.609375 8.296875 \r\nL 53.609375 0 \r\nL 7.328125 0 \r\nL 7.328125 8.296875 \r\nQ 12.9375 14.109375 22.625 23.890625 \r\nQ 32.328125 33.6875 34.8125 36.53125 \r\nQ 39.546875 41.84375 41.421875 45.53125 \r\nQ 43.3125 49.21875 43.3125 52.78125 \r\nQ 43.3125 58.59375 39.234375 62.25 \r\nQ 35.15625 65.921875 28.609375 65.921875 \r\nQ 23.96875 65.921875 18.8125 64.3125 \r\nQ 13.671875 62.703125 7.8125 59.421875 \r\nL 7.8125 69.390625 \r\nQ 13.765625 71.78125 18.9375 73 \r\nQ 24.125 74.21875 28.421875 74.21875 \r\nQ 39.75 74.21875 46.484375 68.546875 \r\nQ 53.21875 62.890625 53.21875 53.421875 \r\nQ 53.21875 48.921875 51.53125 44.890625 \r\nQ 49.859375 40.875 45.40625 35.40625 \r\nQ 44.1875 33.984375 37.640625 27.21875 \r\nQ 31.109375 20.453125 19.1875 8.296875 \r\nz\r\n\" id=\"DejaVuSans-50\"/>\r\n      </defs>\r\n      <g transform=\"translate(131.111427 239.238437)scale(0.1 -0.1)\">\r\n       <use xlink:href=\"#DejaVuSans-50\"/>\r\n      </g>\r\n     </g>\r\n    </g>\r\n    <g id=\"xtick_3\">\r\n     <g id=\"line2d_3\">\r\n      <g>\r\n       <use style=\"stroke:#000000;stroke-width:0.8;\" x=\"190.139216\" xlink:href=\"#mac8e2ec5bd\" y=\"224.64\"/>\r\n      </g>\r\n     </g>\r\n     <g id=\"text_3\">\r\n      <!-- 4 -->\r\n      <defs>\r\n       <path d=\"M 37.796875 64.3125 \r\nL 12.890625 25.390625 \r\nL 37.796875 25.390625 \r\nz\r\nM 35.203125 72.90625 \r\nL 47.609375 72.90625 \r\nL 47.609375 25.390625 \r\nL 58.015625 25.390625 \r\nL 58.015625 17.1875 \r\nL 47.609375 17.1875 \r\nL 47.609375 0 \r\nL 37.796875 0 \r\nL 37.796875 17.1875 \r\nL 4.890625 17.1875 \r\nL 4.890625 26.703125 \r\nz\r\n\" id=\"DejaVuSans-52\"/>\r\n      </defs>\r\n      <g transform=\"translate(186.957966 239.238437)scale(0.1 -0.1)\">\r\n       <use xlink:href=\"#DejaVuSans-52\"/>\r\n      </g>\r\n     </g>\r\n    </g>\r\n    <g id=\"xtick_4\">\r\n     <g id=\"line2d_4\">\r\n      <g>\r\n       <use style=\"stroke:#000000;stroke-width:0.8;\" x=\"245.985755\" xlink:href=\"#mac8e2ec5bd\" y=\"224.64\"/>\r\n      </g>\r\n     </g>\r\n     <g id=\"text_4\">\r\n      <!-- 6 -->\r\n      <defs>\r\n       <path d=\"M 33.015625 40.375 \r\nQ 26.375 40.375 22.484375 35.828125 \r\nQ 18.609375 31.296875 18.609375 23.390625 \r\nQ 18.609375 15.53125 22.484375 10.953125 \r\nQ 26.375 6.390625 33.015625 6.390625 \r\nQ 39.65625 6.390625 43.53125 10.953125 \r\nQ 47.40625 15.53125 47.40625 23.390625 \r\nQ 47.40625 31.296875 43.53125 35.828125 \r\nQ 39.65625 40.375 33.015625 40.375 \r\nz\r\nM 52.59375 71.296875 \r\nL 52.59375 62.3125 \r\nQ 48.875 64.0625 45.09375 64.984375 \r\nQ 41.3125 65.921875 37.59375 65.921875 \r\nQ 27.828125 65.921875 22.671875 59.328125 \r\nQ 17.53125 52.734375 16.796875 39.40625 \r\nQ 19.671875 43.65625 24.015625 45.921875 \r\nQ 28.375 48.1875 33.59375 48.1875 \r\nQ 44.578125 48.1875 50.953125 41.515625 \r\nQ 57.328125 34.859375 57.328125 23.390625 \r\nQ 57.328125 12.15625 50.6875 5.359375 \r\nQ 44.046875 -1.421875 33.015625 -1.421875 \r\nQ 20.359375 -1.421875 13.671875 8.265625 \r\nQ 6.984375 17.96875 6.984375 36.375 \r\nQ 6.984375 53.65625 15.1875 63.9375 \r\nQ 23.390625 74.21875 37.203125 74.21875 \r\nQ 40.921875 74.21875 44.703125 73.484375 \r\nQ 48.484375 72.75 52.59375 71.296875 \r\nz\r\n\" id=\"DejaVuSans-54\"/>\r\n      </defs>\r\n      <g transform=\"translate(242.804505 239.238437)scale(0.1 -0.1)\">\r\n       <use xlink:href=\"#DejaVuSans-54\"/>\r\n      </g>\r\n     </g>\r\n    </g>\r\n    <g id=\"xtick_5\">\r\n     <g id=\"line2d_5\">\r\n      <g>\r\n       <use style=\"stroke:#000000;stroke-width:0.8;\" x=\"301.832294\" xlink:href=\"#mac8e2ec5bd\" y=\"224.64\"/>\r\n      </g>\r\n     </g>\r\n     <g id=\"text_5\">\r\n      <!-- 8 -->\r\n      <defs>\r\n       <path d=\"M 31.78125 34.625 \r\nQ 24.75 34.625 20.71875 30.859375 \r\nQ 16.703125 27.09375 16.703125 20.515625 \r\nQ 16.703125 13.921875 20.71875 10.15625 \r\nQ 24.75 6.390625 31.78125 6.390625 \r\nQ 38.8125 6.390625 42.859375 10.171875 \r\nQ 46.921875 13.96875 46.921875 20.515625 \r\nQ 46.921875 27.09375 42.890625 30.859375 \r\nQ 38.875 34.625 31.78125 34.625 \r\nz\r\nM 21.921875 38.8125 \r\nQ 15.578125 40.375 12.03125 44.71875 \r\nQ 8.5 49.078125 8.5 55.328125 \r\nQ 8.5 64.0625 14.71875 69.140625 \r\nQ 20.953125 74.21875 31.78125 74.21875 \r\nQ 42.671875 74.21875 48.875 69.140625 \r\nQ 55.078125 64.0625 55.078125 55.328125 \r\nQ 55.078125 49.078125 51.53125 44.71875 \r\nQ 48 40.375 41.703125 38.8125 \r\nQ 48.828125 37.15625 52.796875 32.3125 \r\nQ 56.78125 27.484375 56.78125 20.515625 \r\nQ 56.78125 9.90625 50.3125 4.234375 \r\nQ 43.84375 -1.421875 31.78125 -1.421875 \r\nQ 19.734375 -1.421875 13.25 4.234375 \r\nQ 6.78125 9.90625 6.78125 20.515625 \r\nQ 6.78125 27.484375 10.78125 32.3125 \r\nQ 14.796875 37.15625 21.921875 38.8125 \r\nz\r\nM 18.3125 54.390625 \r\nQ 18.3125 48.734375 21.84375 45.5625 \r\nQ 25.390625 42.390625 31.78125 42.390625 \r\nQ 38.140625 42.390625 41.71875 45.5625 \r\nQ 45.3125 48.734375 45.3125 54.390625 \r\nQ 45.3125 60.0625 41.71875 63.234375 \r\nQ 38.140625 66.40625 31.78125 66.40625 \r\nQ 25.390625 66.40625 21.84375 63.234375 \r\nQ 18.3125 60.0625 18.3125 54.390625 \r\nz\r\n\" id=\"DejaVuSans-56\"/>\r\n      </defs>\r\n      <g transform=\"translate(298.651044 239.238437)scale(0.1 -0.1)\">\r\n       <use xlink:href=\"#DejaVuSans-56\"/>\r\n      </g>\r\n     </g>\r\n    </g>\r\n    <g id=\"xtick_6\">\r\n     <g id=\"line2d_6\">\r\n      <g>\r\n       <use style=\"stroke:#000000;stroke-width:0.8;\" x=\"357.678833\" xlink:href=\"#mac8e2ec5bd\" y=\"224.64\"/>\r\n      </g>\r\n     </g>\r\n     <g id=\"text_6\">\r\n      <!-- 10 -->\r\n      <defs>\r\n       <path d=\"M 12.40625 8.296875 \r\nL 28.515625 8.296875 \r\nL 28.515625 63.921875 \r\nL 10.984375 60.40625 \r\nL 10.984375 69.390625 \r\nL 28.421875 72.90625 \r\nL 38.28125 72.90625 \r\nL 38.28125 8.296875 \r\nL 54.390625 8.296875 \r\nL 54.390625 0 \r\nL 12.40625 0 \r\nz\r\n\" id=\"DejaVuSans-49\"/>\r\n      </defs>\r\n      <g transform=\"translate(351.316333 239.238437)scale(0.1 -0.1)\">\r\n       <use xlink:href=\"#DejaVuSans-49\"/>\r\n       <use x=\"63.623047\" xlink:href=\"#DejaVuSans-48\"/>\r\n      </g>\r\n     </g>\r\n    </g>\r\n   </g>\r\n   <g id=\"matplotlib.axis_2\">\r\n    <g id=\"ytick_1\">\r\n     <g id=\"line2d_7\">\r\n      <defs>\r\n       <path d=\"M 0 0 \r\nL -3.5 0 \r\n\" id=\"m3e0d7efc84\" style=\"stroke:#000000;stroke-width:0.8;\"/>\r\n      </defs>\r\n      <g>\r\n       <use style=\"stroke:#000000;stroke-width:0.8;\" x=\"35.304688\" xlink:href=\"#m3e0d7efc84\" y=\"190.631426\"/>\r\n      </g>\r\n     </g>\r\n     <g id=\"text_7\">\r\n      <!-- −20 -->\r\n      <defs>\r\n       <path d=\"M 10.59375 35.5 \r\nL 73.1875 35.5 \r\nL 73.1875 27.203125 \r\nL 10.59375 27.203125 \r\nz\r\n\" id=\"DejaVuSans-8722\"/>\r\n      </defs>\r\n      <g transform=\"translate(7.2 194.430645)scale(0.1 -0.1)\">\r\n       <use xlink:href=\"#DejaVuSans-8722\"/>\r\n       <use x=\"83.789062\" xlink:href=\"#DejaVuSans-50\"/>\r\n       <use x=\"147.412109\" xlink:href=\"#DejaVuSans-48\"/>\r\n      </g>\r\n     </g>\r\n    </g>\r\n    <g id=\"ytick_2\">\r\n     <g id=\"line2d_8\">\r\n      <g>\r\n       <use style=\"stroke:#000000;stroke-width:0.8;\" x=\"35.304688\" xlink:href=\"#m3e0d7efc84\" y=\"153.353226\"/>\r\n      </g>\r\n     </g>\r\n     <g id=\"text_8\">\r\n      <!-- −10 -->\r\n      <g transform=\"translate(7.2 157.152445)scale(0.1 -0.1)\">\r\n       <use xlink:href=\"#DejaVuSans-8722\"/>\r\n       <use x=\"83.789062\" xlink:href=\"#DejaVuSans-49\"/>\r\n       <use x=\"147.412109\" xlink:href=\"#DejaVuSans-48\"/>\r\n      </g>\r\n     </g>\r\n    </g>\r\n    <g id=\"ytick_3\">\r\n     <g id=\"line2d_9\">\r\n      <g>\r\n       <use style=\"stroke:#000000;stroke-width:0.8;\" x=\"35.304688\" xlink:href=\"#m3e0d7efc84\" y=\"116.075026\"/>\r\n      </g>\r\n     </g>\r\n     <g id=\"text_9\">\r\n      <!-- 0 -->\r\n      <g transform=\"translate(21.942188 119.874245)scale(0.1 -0.1)\">\r\n       <use xlink:href=\"#DejaVuSans-48\"/>\r\n      </g>\r\n     </g>\r\n    </g>\r\n    <g id=\"ytick_4\">\r\n     <g id=\"line2d_10\">\r\n      <g>\r\n       <use style=\"stroke:#000000;stroke-width:0.8;\" x=\"35.304688\" xlink:href=\"#m3e0d7efc84\" y=\"78.796826\"/>\r\n      </g>\r\n     </g>\r\n     <g id=\"text_10\">\r\n      <!-- 10 -->\r\n      <g transform=\"translate(15.579688 82.596045)scale(0.1 -0.1)\">\r\n       <use xlink:href=\"#DejaVuSans-49\"/>\r\n       <use x=\"63.623047\" xlink:href=\"#DejaVuSans-48\"/>\r\n      </g>\r\n     </g>\r\n    </g>\r\n    <g id=\"ytick_5\">\r\n     <g id=\"line2d_11\">\r\n      <g>\r\n       <use style=\"stroke:#000000;stroke-width:0.8;\" x=\"35.304688\" xlink:href=\"#m3e0d7efc84\" y=\"41.518626\"/>\r\n      </g>\r\n     </g>\r\n     <g id=\"text_11\">\r\n      <!-- 20 -->\r\n      <g transform=\"translate(15.579688 45.317844)scale(0.1 -0.1)\">\r\n       <use xlink:href=\"#DejaVuSans-50\"/>\r\n       <use x=\"63.623047\" xlink:href=\"#DejaVuSans-48\"/>\r\n      </g>\r\n     </g>\r\n    </g>\r\n   </g>\r\n   <g id=\"line2d_12\">\r\n    <path clip-path=\"url(#p3447b9ff9a)\" d=\"M 50.522869 193.078111 \r\nL 53.315196 191.662366 \r\nL 56.107523 190.246621 \r\nL 58.89985 188.830876 \r\nL 61.692177 187.41513 \r\nL 64.484504 185.999385 \r\nL 67.276831 184.58364 \r\nL 70.069158 183.167895 \r\nL 72.861485 181.75215 \r\nL 75.653812 180.336405 \r\nL 78.446139 178.920659 \r\nL 81.238466 177.504914 \r\nL 84.030793 176.089169 \r\nL 86.82312 174.673424 \r\nL 89.615446 173.257679 \r\nL 92.407773 171.841934 \r\nL 95.2001 170.426188 \r\nL 97.992427 169.010443 \r\nL 100.784754 167.594698 \r\nL 103.577081 166.178953 \r\nL 106.369408 164.763208 \r\nL 109.161735 163.347463 \r\nL 111.954062 161.931718 \r\nL 114.746389 160.515972 \r\nL 117.538716 159.100227 \r\nL 120.331043 157.684482 \r\nL 123.12337 156.268737 \r\nL 125.915697 154.852992 \r\nL 128.708024 153.437247 \r\nL 131.500351 152.021501 \r\nL 134.292677 150.605756 \r\nL 137.085004 149.190011 \r\nL 139.877331 147.774266 \r\nL 142.669658 146.358521 \r\nL 145.461985 144.942776 \r\nL 148.254312 143.527031 \r\nL 151.046639 142.111285 \r\nL 153.838966 140.69554 \r\nL 156.631293 139.279795 \r\nL 159.42362 137.86405 \r\nL 162.215947 136.448305 \r\nL 165.008274 135.03256 \r\nL 167.800601 133.616814 \r\nL 170.592928 132.201069 \r\nL 173.385255 130.785324 \r\nL 176.177582 129.369579 \r\nL 178.969909 127.953834 \r\nL 181.762235 126.538089 \r\nL 184.554562 125.122344 \r\nL 187.346889 123.706598 \r\nL 190.139216 122.290853 \r\nL 192.931543 120.875108 \r\nL 195.72387 119.459363 \r\nL 198.516197 118.043618 \r\nL 201.308524 116.627873 \r\nL 204.100851 115.212127 \r\nL 206.893178 113.796382 \r\nL 209.685505 112.380637 \r\nL 212.477832 110.964892 \r\nL 215.270159 109.549147 \r\nL 218.062486 108.133402 \r\nL 220.854813 106.717656 \r\nL 223.64714 105.301911 \r\nL 226.439466 103.886166 \r\nL 229.231793 102.470421 \r\nL 232.02412 101.054676 \r\nL 234.816447 99.638931 \r\nL 237.608774 98.223186 \r\nL 240.401101 96.80744 \r\nL 243.193428 95.391695 \r\nL 245.985755 93.97595 \r\nL 248.778082 92.560205 \r\nL 251.570409 91.14446 \r\nL 254.362736 89.728715 \r\nL 257.155063 88.312969 \r\nL 259.94739 86.897224 \r\nL 262.739717 85.481479 \r\nL 265.532044 84.065734 \r\nL 268.324371 82.649989 \r\nL 271.116698 81.234244 \r\nL 273.909024 79.818499 \r\nL 276.701351 78.402753 \r\nL 279.493678 76.987008 \r\nL 282.286005 75.571263 \r\nL 285.078332 74.155518 \r\nL 287.870659 72.739773 \r\nL 290.662986 71.324028 \r\nL 293.455313 69.908282 \r\nL 296.24764 68.492537 \r\nL 299.039967 67.076792 \r\nL 301.832294 65.661047 \r\nL 304.624621 64.245302 \r\nL 307.416948 62.829557 \r\nL 310.209275 61.413812 \r\nL 313.001602 59.998066 \r\nL 315.793929 58.582321 \r\nL 318.586255 57.166576 \r\nL 321.378582 55.750831 \r\nL 324.170909 54.335086 \r\nL 326.963236 52.919341 \r\nL 329.755563 51.503595 \r\nL 332.54789 50.08785 \r\nL 335.340217 48.672105 \r\nL 338.132544 47.25636 \r\nL 340.924871 45.840615 \r\nL 343.717198 44.42487 \r\nL 346.509525 43.009124 \r\nL 349.301852 41.593379 \r\nL 352.094179 40.177634 \r\nL 354.886506 38.761889 \r\n\" style=\"fill:none;stroke:#1f77b4;stroke-linecap:square;stroke-width:1.5;\"/>\r\n   </g>\r\n   <g id=\"line2d_13\">\r\n    <path clip-path=\"url(#p3447b9ff9a)\" d=\"M 50.522869 171.399858 \r\nL 53.315196 169.984113 \r\nL 56.107523 168.568368 \r\nL 58.89985 167.152623 \r\nL 61.692177 165.736878 \r\nL 64.484504 164.321133 \r\nL 67.276831 162.905387 \r\nL 70.069158 161.489642 \r\nL 72.861485 160.073897 \r\nL 75.653812 158.658152 \r\nL 78.446139 157.242407 \r\nL 81.238466 155.826662 \r\nL 84.030793 154.410916 \r\nL 86.82312 152.995171 \r\nL 89.615446 151.579426 \r\nL 92.407773 150.163681 \r\nL 95.2001 148.747936 \r\nL 97.992427 147.332191 \r\nL 100.784754 145.916446 \r\nL 103.577081 144.5007 \r\nL 106.369408 143.084955 \r\nL 109.161735 141.66921 \r\nL 111.954062 140.253465 \r\nL 114.746389 138.83772 \r\nL 117.538716 137.421975 \r\nL 120.331043 136.006229 \r\nL 123.12337 134.590484 \r\nL 125.915697 133.174739 \r\nL 128.708024 131.758994 \r\nL 131.500351 130.343249 \r\nL 134.292677 128.927504 \r\nL 137.085004 127.511759 \r\nL 139.877331 126.096013 \r\nL 142.669658 124.680268 \r\nL 145.461985 123.264523 \r\nL 148.254312 121.848778 \r\nL 151.046639 120.433033 \r\nL 153.838966 119.017288 \r\nL 156.631293 117.601542 \r\nL 159.42362 116.185797 \r\nL 162.215947 114.770052 \r\nL 165.008274 113.354307 \r\nL 167.800601 111.938562 \r\nL 170.592928 110.522817 \r\nL 173.385255 109.107071 \r\nL 176.177582 107.691326 \r\nL 178.969909 106.275581 \r\nL 181.762235 104.859836 \r\nL 184.554562 103.444091 \r\nL 187.346889 102.028346 \r\nL 190.139216 100.612601 \r\nL 192.931543 99.196855 \r\nL 195.72387 97.78111 \r\nL 198.516197 96.365365 \r\nL 201.308524 94.94962 \r\nL 204.100851 93.533875 \r\nL 206.893178 92.11813 \r\nL 209.685505 90.702384 \r\nL 212.477832 89.286639 \r\nL 215.270159 87.870894 \r\nL 218.062486 86.455149 \r\nL 220.854813 85.039404 \r\nL 223.64714 83.623659 \r\nL 226.439466 82.207914 \r\nL 229.231793 80.792168 \r\nL 232.02412 79.376423 \r\nL 234.816447 77.960678 \r\nL 237.608774 76.544933 \r\nL 240.401101 75.129188 \r\nL 243.193428 73.713443 \r\nL 245.985755 72.297697 \r\nL 248.778082 70.881952 \r\nL 251.570409 69.466207 \r\nL 254.362736 68.050462 \r\nL 257.155063 66.634717 \r\nL 259.94739 65.218972 \r\nL 262.739717 63.803227 \r\nL 265.532044 62.387481 \r\nL 268.324371 60.971736 \r\nL 271.116698 59.555991 \r\nL 273.909024 58.140246 \r\nL 276.701351 56.724501 \r\nL 279.493678 55.308756 \r\nL 282.286005 53.89301 \r\nL 285.078332 52.477265 \r\nL 287.870659 51.06152 \r\nL 290.662986 49.645775 \r\nL 293.455313 48.23003 \r\nL 296.24764 46.814285 \r\nL 299.039967 45.398539 \r\nL 301.832294 43.982794 \r\nL 304.624621 42.567049 \r\nL 307.416948 41.151304 \r\nL 310.209275 39.735559 \r\nL 313.001602 38.319814 \r\nL 315.793929 36.904069 \r\nL 318.586255 35.488323 \r\nL 321.378582 34.072578 \r\nL 324.170909 32.656833 \r\nL 326.963236 31.241088 \r\nL 329.755563 29.825343 \r\nL 332.54789 28.409598 \r\nL 335.340217 26.993852 \r\nL 338.132544 25.578107 \r\nL 340.924871 24.162362 \r\nL 343.717198 22.746617 \r\nL 346.509525 21.330872 \r\nL 349.301852 19.915127 \r\nL 352.094179 18.499382 \r\nL 354.886506 17.083636 \r\n\" style=\"fill:none;stroke:#ff7f0e;stroke-linecap:square;stroke-width:1.5;\"/>\r\n   </g>\r\n   <g id=\"line2d_14\">\r\n    <path clip-path=\"url(#p3447b9ff9a)\" d=\"M 50.522869 214.756364 \r\nL 53.315196 213.340618 \r\nL 56.107523 211.924873 \r\nL 58.89985 210.509128 \r\nL 61.692177 209.093383 \r\nL 64.484504 207.677638 \r\nL 67.276831 206.261893 \r\nL 70.069158 204.846148 \r\nL 72.861485 203.430402 \r\nL 75.653812 202.014657 \r\nL 78.446139 200.598912 \r\nL 81.238466 199.183167 \r\nL 84.030793 197.767422 \r\nL 86.82312 196.351677 \r\nL 89.615446 194.935931 \r\nL 92.407773 193.520186 \r\nL 95.2001 192.104441 \r\nL 97.992427 190.688696 \r\nL 100.784754 189.272951 \r\nL 103.577081 187.857206 \r\nL 106.369408 186.441461 \r\nL 109.161735 185.025715 \r\nL 111.954062 183.60997 \r\nL 114.746389 182.194225 \r\nL 117.538716 180.77848 \r\nL 120.331043 179.362735 \r\nL 123.12337 177.94699 \r\nL 125.915697 176.531244 \r\nL 128.708024 175.115499 \r\nL 131.500351 173.699754 \r\nL 134.292677 172.284009 \r\nL 137.085004 170.868264 \r\nL 139.877331 169.452519 \r\nL 142.669658 168.036773 \r\nL 145.461985 166.621028 \r\nL 148.254312 165.205283 \r\nL 151.046639 163.789538 \r\nL 153.838966 162.373793 \r\nL 156.631293 160.958048 \r\nL 159.42362 159.542303 \r\nL 162.215947 158.126557 \r\nL 165.008274 156.710812 \r\nL 167.800601 155.295067 \r\nL 170.592928 153.879322 \r\nL 173.385255 152.463577 \r\nL 176.177582 151.047832 \r\nL 178.969909 149.632086 \r\nL 181.762235 148.216341 \r\nL 184.554562 146.800596 \r\nL 187.346889 145.384851 \r\nL 190.139216 143.969106 \r\nL 192.931543 142.553361 \r\nL 195.72387 141.137616 \r\nL 198.516197 139.72187 \r\nL 201.308524 138.306125 \r\nL 204.100851 136.89038 \r\nL 206.893178 135.474635 \r\nL 209.685505 134.05889 \r\nL 212.477832 132.643145 \r\nL 215.270159 131.227399 \r\nL 218.062486 129.811654 \r\nL 220.854813 128.395909 \r\nL 223.64714 126.980164 \r\nL 226.439466 125.564419 \r\nL 229.231793 124.148674 \r\nL 232.02412 122.732929 \r\nL 234.816447 121.317183 \r\nL 237.608774 119.901438 \r\nL 240.401101 118.485693 \r\nL 243.193428 117.069948 \r\nL 245.985755 115.654203 \r\nL 248.778082 114.238458 \r\nL 251.570409 112.822712 \r\nL 254.362736 111.406967 \r\nL 257.155063 109.991222 \r\nL 259.94739 108.575477 \r\nL 262.739717 107.159732 \r\nL 265.532044 105.743987 \r\nL 268.324371 104.328241 \r\nL 271.116698 102.912496 \r\nL 273.909024 101.496751 \r\nL 276.701351 100.081006 \r\nL 279.493678 98.665261 \r\nL 282.286005 97.249516 \r\nL 285.078332 95.833771 \r\nL 287.870659 94.418025 \r\nL 290.662986 93.00228 \r\nL 293.455313 91.586535 \r\nL 296.24764 90.17079 \r\nL 299.039967 88.755045 \r\nL 301.832294 87.3393 \r\nL 304.624621 85.923554 \r\nL 307.416948 84.507809 \r\nL 310.209275 83.092064 \r\nL 313.001602 81.676319 \r\nL 315.793929 80.260574 \r\nL 318.586255 78.844829 \r\nL 321.378582 77.429084 \r\nL 324.170909 76.013338 \r\nL 326.963236 74.597593 \r\nL 329.755563 73.181848 \r\nL 332.54789 71.766103 \r\nL 335.340217 70.350358 \r\nL 338.132544 68.934613 \r\nL 340.924871 67.518867 \r\nL 343.717198 66.103122 \r\nL 346.509525 64.687377 \r\nL 349.301852 63.271632 \r\nL 352.094179 61.855887 \r\nL 354.886506 60.440142 \r\n\" style=\"fill:none;stroke:#2ca02c;stroke-linecap:square;stroke-width:1.5;\"/>\r\n   </g>\r\n   <g id=\"patch_3\">\r\n    <path d=\"M 35.304688 224.64 \r\nL 35.304688 7.2 \r\n\" style=\"fill:none;stroke:#000000;stroke-linecap:square;stroke-linejoin:miter;stroke-width:0.8;\"/>\r\n   </g>\r\n   <g id=\"patch_4\">\r\n    <path d=\"M 370.104688 224.64 \r\nL 370.104688 7.2 \r\n\" style=\"fill:none;stroke:#000000;stroke-linecap:square;stroke-linejoin:miter;stroke-width:0.8;\"/>\r\n   </g>\r\n   <g id=\"patch_5\">\r\n    <path d=\"M 35.304688 224.64 \r\nL 370.104688 224.64 \r\n\" style=\"fill:none;stroke:#000000;stroke-linecap:square;stroke-linejoin:miter;stroke-width:0.8;\"/>\r\n   </g>\r\n   <g id=\"patch_6\">\r\n    <path d=\"M 35.304688 7.2 \r\nL 370.104688 7.2 \r\n\" style=\"fill:none;stroke:#000000;stroke-linecap:square;stroke-linejoin:miter;stroke-width:0.8;\"/>\r\n   </g>\r\n  </g>\r\n </g>\r\n <defs>\r\n  <clipPath id=\"p3447b9ff9a\">\r\n   <rect height=\"217.44\" width=\"334.8\" x=\"35.304688\" y=\"7.2\"/>\r\n  </clipPath>\r\n </defs>\r\n</svg>\r\n",
      "image/png": "[encoded data removed]"
     },
     "metadata": {
      "needs_background": "light"
     }
    }
   ],
   "source": [
    "PlotSVM(TrainData,TrainLabel,W,b,alphas)"
   ]
  },
  {
   "cell_type": "markdown",
   "metadata": {
    "colab_type": "text",
    "id": "TgiEf6UNpDyf"
   },
   "source": [
    "**径向基函数是SVM中常用的一个核函数。径向基函数是一个采用向量作为自变量的函数，能够基于向量距离输出一个标量。这个距离可以是从<0,0>向量或者其他向量开始计算的距离。接下来，我们将会使用到径向基函数的高斯版本，其具体公式如下：**\n",
    "$$k(x_1,x_2)=exp(\\frac{-{{\\Vert}x_1-x_2\\Vert}^2}{2\\delta^2})$$\n",
    "其中,$\\delta$是用户定义的用于确定达到率或则说函数值跌落到0的速度参数。"
   ]
  },
  {
   "cell_type": "markdown",
   "metadata": {
    "colab_type": "text",
    "id": "MYYlSJYxpDyg"
   },
   "source": [
    "**任务八 实现径向基核函数**"
   ]
  },
  {
   "cell_type": "markdown",
   "metadata": {
    "colab_type": "text",
    "id": "IcizRL1OpDyh"
   },
   "source": [
    "函数名：KernelTransform(Data,DataI,Para)  \n",
    "作用：将数据映射到高纬空间  \n",
    "参数：  \n",
    "Data 数据集  \n",
    "DataI 数据集中的第i行数据  \n",
    "papa：径向基函数中的$\\delta$参数"
   ]
  },
  {
   "cell_type": "code",
   "execution_count": 37,
   "metadata": {
    "colab": {},
    "colab_type": "code",
    "id": "DuAI8e9lpDyi"
   },
   "outputs": [],
   "source": [
    "def KernelTransform(Data,DataI,Para):\n",
    "    #计算Data的维度 [m,n]\n",
    "    m,n = shape(Data)\n",
    "    K = mat(zeros((m,1)))\n",
    "    #print(m,n)\n",
    "    ### START THE CODE ###\n",
    "   \n",
    "    for j in range(m):\n",
    "        deltaRow= mat(Data[j])-mat(DataI)\n",
    "        K[j]=deltaRow*deltaRow.T\n",
    "        #print())\n",
    "    K= exp(-K/(2*Para**2))\n",
    "\n",
    "\n",
    "    ### END THE CODE ###\n",
    "    return K"
   ]
  },
  {
   "cell_type": "code",
   "execution_count": 38,
   "metadata": {
    "colab": {},
    "colab_type": "code",
    "id": "ylI1QBBspDym"
   },
   "outputs": [
    {
     "output_type": "stream",
     "name": "stdout",
     "text": [
      "Result =  [[6.21201706e-01]\n [1.00000000e+00]\n [1.67499988e-13]\n [3.14534050e-03]\n [3.88031058e-10]]\n"
     ]
    }
   ],
   "source": [
    "TestData =  [[3.542485, 1.977398], [3.018896, 2.556416], [7.55151, -1.58003], [2.114999, -0.004466], [8.127113, 1.274372]]\n",
    "TestDataI = [3.018896, 2.556416]\n",
    "TestPara = 0.8\n",
    "Result = KernelTransform(TestData,TestDataI,TestPara)\n",
    "print (\"Result = \", Result)"
   ]
  },
  {
   "cell_type": "markdown",
   "metadata": {
    "colab_type": "text",
    "id": "nz7igXXdpDyp"
   },
   "source": [
    "输出：  \n",
    "Result =  [[3.85891559e-01]<br>\n",
    " [1.00000000e+00]<br>\n",
    " [2.80562461e-26]<br>\n",
    " [9.89316684e-06]<br>\n",
    " [1.50568102e-19]]"
   ]
  },
  {
   "cell_type": "markdown",
   "metadata": {
    "colab_type": "text",
    "id": "OkZUvprdpDyp"
   },
   "source": [
    "**接下来我们导入KernnelTrainData数据进进行训练，每一行包括两个特征以及一个标签。然后利用SMO算法计算出拉格朗日乘子以及b，利用核函数转换计算K。最后进行预测并计算出预测错误率。**"
   ]
  },
  {
   "cell_type": "code",
   "execution_count": 42,
   "metadata": {
    "colab": {},
    "colab_type": "code",
    "id": "ZxEFhUgvpDyq"
   },
   "outputs": [],
   "source": [
    "def TrainAccuracy(TrainFileName,TestFileName,P,C,Toler,MaxIter):\n",
    "    #导入数据\n",
    "    Data,Label = LoadData(TrainFileName)\n",
    "\n",
    "    #高斯核参数\n",
    "    Para = P\n",
    "    #转换为mat格式\n",
    "    Data = mat(Data)\n",
    "    Label = mat(Label).transpose()\n",
    "\n",
    "    #计算拉格朗日乘子以及b\n",
    "    oS = DataOp(Data,Label,C,Toler)\n",
    "    b,alphas = Smo(oS,MaxIter)\n",
    "\n",
    "    #获取alpha>0的行数\n",
    "    UnZero = nonzero(alphas.A > 0)[0]\n",
    "    SelectData = Data[UnZero]\n",
    "    SelectLabel = Label[UnZero]\n",
    "    SelectAlphas = alphas[UnZero]\n",
    "\n",
    "    #获取Data的维度\n",
    "    m, n = shape(Data)\n",
    "    \n",
    "    #获取测试数据集\n",
    "    TestData,TestLabel = LoadData(TestFileName)\n",
    "    TestCount = 0\n",
    "    \n",
    "    #转换格式\n",
    "    TestData = mat(TestData)\n",
    "    TestLabel = mat(TestLabel).transpose()\n",
    "    m,n = shape(TestData)\n",
    "    #遍历测试集每一行数据\n",
    "    for i in range(m):\n",
    "        #核函数转换\n",
    "        K = KernelTransform(SelectData,TestData[i],Para)\n",
    "        TestPredictValue = K.T*multiply(SelectLabel,SelectAlphas) + b\n",
    "        #测试准确度\n",
    "        if sign(TestPredictValue) != sign(TestLabel[i]):\n",
    "            TestCount += 1\n",
    "    print(\"The Test Error Rate is: %.1f%%\" % (float(TestCount)*100 / m))\n",
    "        \n",
    "        "
   ]
  },
  {
   "cell_type": "code",
   "execution_count": 43,
   "metadata": {
    "colab": {},
    "colab_type": "code",
    "id": "yUc58QMIpDyv"
   },
   "outputs": [
    {
     "output_type": "stream",
     "name": "stdout",
     "text": [
      "The Test Error Rate is: 13.0%\n"
     ]
    }
   ],
   "source": [
    "#训练数据\n",
    "TrainFileName = 'KernelTrainData.txt'\n",
    "#测试数据\n",
    "TestFileName = 'KernelTestData.txt'\n",
    "#SMO算法参数\n",
    "C = 200\n",
    "Toler = 0.0001\n",
    "MaxIter = 10000\n",
    "#径向基参数\n",
    "Para = 0.09\n",
    "TrainAccuracy(TrainFileName,TestFileName,Para,C,Toler,MaxIter)"
   ]
  },
  {
   "cell_type": "markdown",
   "metadata": {
    "colab_type": "text",
    "id": "2E54kKbWpDy1"
   },
   "source": [
    "输出：<br>\n",
    "    The Test Error Rate is: 20.0%"
   ]
  },
  {
   "cell_type": "markdown",
   "metadata": {
    "colab_type": "text",
    "id": "SuDVk1OopDy3"
   },
   "source": [
    "**由以上结果可以看到，应用高斯函数进行SVM分类，我们达到了80左右%的准确率，事实上你可以修改参数，来获得更加优化的模型。**"
   ]
  },
  {
   "cell_type": "markdown",
   "metadata": {
    "colab_type": "text",
    "id": "zzYFuvK4pDy3"
   },
   "source": [
    "通过以上的学习，我想你已经对SVM的原理以及和核函数有了一定的了解。"
   ]
  },
  {
   "cell_type": "markdown",
   "metadata": {},
   "source": [
    "**SVR算法**"
   ]
  },
  {
   "cell_type": "markdown",
   "metadata": {},
   "source": [
    "传统的回归模型通常直接基于模型输出f(x)与真实输出y之间的差来计算损失，只有当两者完全相同时，损失才为0。而SVR加入了一个ε参数，意为我们可以容忍f(x)与y最多有ε偏差，如下图\n",
    "![9.png](image/9.png)\n",
    "也就是说，在虚线之间的部分不进行损失计算，他们的损失为0，而只计算虚线以外的点的损失，因此他的对应损失函数为：\n",
    "![10.png](image/10.png)\n",
    "对于SVM，可以看作优化问题为：\n",
    "![11.png](image/11.png)\n",
    "引入松弛因子$ξ_i$、$ξ_i^*$，SVR的优化问题变为：\n",
    "![12.png](image/12.png)\n",
    "其中$h_{w,b}(x)=w^Tx+b$\n",
    "然后引入拉格朗日乘子,得到对应拉格朗日函数：\n",
    "$$L(w,b,α,α^*,ξ,ξ^*,r_i,r_i^*)=\\frac{1}{2}{\\parallel w\\parallel}^2+C\\sum_{i=0}^{m}(ξ_i+ξ_i^*)-\\sum_{i=1}^{m}r_iξ_i-\\sum_{i=1}^{m}r_i^*ξ_i^*+\\sum_{i=1}^{m}α_i(h_{w,b}(x^i)-y^i-ε-ξ_i)+$$$$\\sum_{i=1}^{m}α_i^*(y^i-h_{w,b}(x^i)-ε-ξ_i^*)$$\n",
    "令函数中对应偏导为0，得到：\n",
    "![13.png](image/13.png)\n",
    "代入到拉格朗日函数中得到之关于$α_i$,$α_i^*$的函数，最大化该函数即得到SVR的对偶问题：\n",
    "![14.png](image/14.png)\n",
    "可以看出其仍为QP问题，KKT条件为：\n",
    "![15.png](image/15.png)\n",
    "因此可以进行求解，同时对于非线性回归也可引入核函数实现。下面实现SVR。"
   ]
  },
  {
   "cell_type": "markdown",
   "metadata": {},
   "source": [
    "SVR的实现使用scikit-learn库调用实现，scikit-learn库里集成了大量机器学习的常用方法，其中提供了基于libsvm的SVR解决方案。"
   ]
  },
  {
   "cell_type": "markdown",
   "metadata": {},
   "source": [
    "**任务九 SVR：线性回归实现**"
   ]
  },
  {
   "cell_type": "code",
   "execution_count": 46,
   "metadata": {},
   "outputs": [],
   "source": [
    "#初始化一系列随机样本\n",
    "np.random.seed(42)\n",
    "m = 50\n",
    "X = 2 * np.random.rand(m, 1)\n",
    "y = (4 + 3 * X + np.random.randn(m, 1)).ravel()  # 将多维数组降为一维\n",
    "\n",
    "#调用sklearn库，实现LinearSVR\n",
    "from sklearn.svm import LinearSVR\n",
    "### START THE CODE ###\n",
    "svr=LinearSVR(epsilon=1.5,random_state=42)\n",
    "svr.fit(X,y)\n",
    "\n",
    "### END THE CODE  ###\n",
    "\n",
    "\n",
    "#找到支持向量\n",
    "def find_support(svr,X,y):\n",
    "    y_pred=svr.predict(X)#计算预测值\n",
    "    margin=(np.abs(y-y_pred) >= svr.epsilon)#判断是否为支持向量\n",
    "    return np.argwhere(margin)\n",
    "\n",
    "svr.support_=find_support(svr,X,y)#获取对应的支持向量对应下标，注意将变量名改为你自己的命名\n",
    "    "
   ]
  },
  {
   "cell_type": "markdown",
   "metadata": {},
   "source": [
    "绘制SVR结果"
   ]
  },
  {
   "cell_type": "code",
   "execution_count": 47,
   "metadata": {},
   "outputs": [
    {
     "output_type": "display_data",
     "data": {
      "text/plain": "<Figure size 648x288 with 1 Axes>",
      "image/svg+xml": "<?xml version=\"1.0\" encoding=\"utf-8\" standalone=\"no\"?>\r\n<!DOCTYPE svg PUBLIC \"-//W3C//DTD SVG 1.1//EN\"\r\n  \"http://www.w3.org/Graphics/SVG/1.1/DTD/svg11.dtd\">\r\n<!-- Created with matplotlib (https://matplotlib.org/) -->\r\n<svg height=\"252.317344pt\" version=\"1.1\" viewBox=\"0 0 547.457813 252.317344\" width=\"547.457813pt\" xmlns=\"http://www.w3.org/2000/svg\" xmlns:xlink=\"http://www.w3.org/1999/xlink\">\r\n <defs>\r\n  <style type=\"text/css\">\r\n*{stroke-linecap:butt;stroke-linejoin:round;}\r\n  </style>\r\n </defs>\r\n <g id=\"figure_1\">\r\n  <g id=\"patch_1\">\r\n   <path d=\"M 0 252.317344 \r\nL 547.457813 252.317344 \r\nL 547.457813 0 \r\nL 0 0 \r\nz\r\n\" style=\"fill:none;\"/>\r\n  </g>\r\n  <g id=\"axes_1\">\r\n   <g id=\"patch_2\">\r\n    <path d=\"M 26.925 228.439219 \r\nL 529.125 228.439219 \r\nL 529.125 10.999219 \r\nL 26.925 10.999219 \r\nz\r\n\" style=\"fill:#ffffff;\"/>\r\n   </g>\r\n   <g id=\"PathCollection_1\">\r\n    <defs>\r\n     <path d=\"M 0 6.708204 \r\nC 1.779036 6.708204 3.485448 6.001385 4.743416 4.743416 \r\nC 6.001385 3.485448 6.708204 1.779036 6.708204 0 \r\nC 6.708204 -1.779036 6.001385 -3.485448 4.743416 -4.743416 \r\nC 3.485448 -6.001385 1.779036 -6.708204 0 -6.708204 \r\nC -1.779036 -6.708204 -3.485448 -6.001385 -4.743416 -4.743416 \r\nC -6.001385 -3.485448 -6.708204 -1.779036 -6.708204 0 \r\nC -6.708204 1.779036 -6.001385 3.485448 -4.743416 4.743416 \r\nC -3.485448 6.001385 -1.779036 6.708204 0 6.708204 \r\nz\r\n\" id=\"mbd10707ed9\" style=\"stroke:#ffaaaa;\"/>\r\n    </defs>\r\n    <g clip-path=\"url(#p02d1af4269)\">\r\n     <use style=\"fill:#ffaaaa;stroke:#ffaaaa;\" x=\"461.91866\" xlink:href=\"#mbd10707ed9\" y=\"31.270631\"/>\r\n     <use style=\"fill:#ffaaaa;stroke:#ffaaaa;\" x=\"118.237499\" xlink:href=\"#mbd10707ed9\" y=\"143.584636\"/>\r\n     <use style=\"fill:#ffaaaa;stroke:#ffaaaa;\" x=\"421.240368\" xlink:href=\"#mbd10707ed9\" y=\"36.350119\"/>\r\n     <use style=\"fill:#ffaaaa;stroke:#ffaaaa;\" x=\"112.562215\" xlink:href=\"#mbd10707ed9\" y=\"131.646311\"/>\r\n     <use style=\"fill:#ffaaaa;stroke:#ffaaaa;\" x=\"503.455317\" xlink:href=\"#mbd10707ed9\" y=\"3.987951\"/>\r\n     <use style=\"fill:#ffaaaa;stroke:#ffaaaa;\" x=\"511.865407\" xlink:href=\"#mbd10707ed9\" y=\"114.988619\"/>\r\n     <use style=\"fill:#ffaaaa;stroke:#ffaaaa;\" x=\"247.969582\" xlink:href=\"#mbd10707ed9\" y=\"183.501273\"/>\r\n     <use style=\"fill:#ffaaaa;stroke:#ffaaaa;\" x=\"44.194915\" xlink:href=\"#mbd10707ed9\" y=\"155.481979\"/>\r\n    </g>\r\n   </g>\r\n   <g id=\"matplotlib.axis_1\">\r\n    <g id=\"xtick_1\">\r\n     <g id=\"line2d_1\">\r\n      <defs>\r\n       <path d=\"M 0 0 \r\nL 0 3.5 \r\n\" id=\"m684ec2c8c4\" style=\"stroke:#000000;stroke-width:0.8;\"/>\r\n      </defs>\r\n      <g>\r\n       <use style=\"stroke:#000000;stroke-width:0.8;\" x=\"26.925\" xlink:href=\"#m684ec2c8c4\" y=\"228.439219\"/>\r\n      </g>\r\n     </g>\r\n     <g id=\"text_1\">\r\n      <!-- 0.00 -->\r\n      <defs>\r\n       <path d=\"M 31.78125 66.40625 \r\nQ 24.171875 66.40625 20.328125 58.90625 \r\nQ 16.5 51.421875 16.5 36.375 \r\nQ 16.5 21.390625 20.328125 13.890625 \r\nQ 24.171875 6.390625 31.78125 6.390625 \r\nQ 39.453125 6.390625 43.28125 13.890625 \r\nQ 47.125 21.390625 47.125 36.375 \r\nQ 47.125 51.421875 43.28125 58.90625 \r\nQ 39.453125 66.40625 31.78125 66.40625 \r\nz\r\nM 31.78125 74.21875 \r\nQ 44.046875 74.21875 50.515625 64.515625 \r\nQ 56.984375 54.828125 56.984375 36.375 \r\nQ 56.984375 17.96875 50.515625 8.265625 \r\nQ 44.046875 -1.421875 31.78125 -1.421875 \r\nQ 19.53125 -1.421875 13.0625 8.265625 \r\nQ 6.59375 17.96875 6.59375 36.375 \r\nQ 6.59375 54.828125 13.0625 64.515625 \r\nQ 19.53125 74.21875 31.78125 74.21875 \r\nz\r\n\" id=\"DejaVuSans-48\"/>\r\n       <path d=\"M 10.6875 12.40625 \r\nL 21 12.40625 \r\nL 21 0 \r\nL 10.6875 0 \r\nz\r\n\" id=\"DejaVuSans-46\"/>\r\n      </defs>\r\n      <g transform=\"translate(15.792188 243.037656)scale(0.1 -0.1)\">\r\n       <use xlink:href=\"#DejaVuSans-48\"/>\r\n       <use x=\"63.623047\" xlink:href=\"#DejaVuSans-46\"/>\r\n       <use x=\"95.410156\" xlink:href=\"#DejaVuSans-48\"/>\r\n       <use x=\"159.033203\" xlink:href=\"#DejaVuSans-48\"/>\r\n      </g>\r\n     </g>\r\n    </g>\r\n    <g id=\"xtick_2\">\r\n     <g id=\"line2d_2\">\r\n      <g>\r\n       <use style=\"stroke:#000000;stroke-width:0.8;\" x=\"89.7\" xlink:href=\"#m684ec2c8c4\" y=\"228.439219\"/>\r\n      </g>\r\n     </g>\r\n     <g id=\"text_2\">\r\n      <!-- 0.25 -->\r\n      <defs>\r\n       <path d=\"M 19.1875 8.296875 \r\nL 53.609375 8.296875 \r\nL 53.609375 0 \r\nL 7.328125 0 \r\nL 7.328125 8.296875 \r\nQ 12.9375 14.109375 22.625 23.890625 \r\nQ 32.328125 33.6875 34.8125 36.53125 \r\nQ 39.546875 41.84375 41.421875 45.53125 \r\nQ 43.3125 49.21875 43.3125 52.78125 \r\nQ 43.3125 58.59375 39.234375 62.25 \r\nQ 35.15625 65.921875 28.609375 65.921875 \r\nQ 23.96875 65.921875 18.8125 64.3125 \r\nQ 13.671875 62.703125 7.8125 59.421875 \r\nL 7.8125 69.390625 \r\nQ 13.765625 71.78125 18.9375 73 \r\nQ 24.125 74.21875 28.421875 74.21875 \r\nQ 39.75 74.21875 46.484375 68.546875 \r\nQ 53.21875 62.890625 53.21875 53.421875 \r\nQ 53.21875 48.921875 51.53125 44.890625 \r\nQ 49.859375 40.875 45.40625 35.40625 \r\nQ 44.1875 33.984375 37.640625 27.21875 \r\nQ 31.109375 20.453125 19.1875 8.296875 \r\nz\r\n\" id=\"DejaVuSans-50\"/>\r\n       <path d=\"M 10.796875 72.90625 \r\nL 49.515625 72.90625 \r\nL 49.515625 64.59375 \r\nL 19.828125 64.59375 \r\nL 19.828125 46.734375 \r\nQ 21.96875 47.46875 24.109375 47.828125 \r\nQ 26.265625 48.1875 28.421875 48.1875 \r\nQ 40.625 48.1875 47.75 41.5 \r\nQ 54.890625 34.8125 54.890625 23.390625 \r\nQ 54.890625 11.625 47.5625 5.09375 \r\nQ 40.234375 -1.421875 26.90625 -1.421875 \r\nQ 22.3125 -1.421875 17.546875 -0.640625 \r\nQ 12.796875 0.140625 7.71875 1.703125 \r\nL 7.71875 11.625 \r\nQ 12.109375 9.234375 16.796875 8.0625 \r\nQ 21.484375 6.890625 26.703125 6.890625 \r\nQ 35.15625 6.890625 40.078125 11.328125 \r\nQ 45.015625 15.765625 45.015625 23.390625 \r\nQ 45.015625 31 40.078125 35.4375 \r\nQ 35.15625 39.890625 26.703125 39.890625 \r\nQ 22.75 39.890625 18.8125 39.015625 \r\nQ 14.890625 38.140625 10.796875 36.28125 \r\nz\r\n\" id=\"DejaVuSans-53\"/>\r\n      </defs>\r\n      <g transform=\"translate(78.567188 243.037656)scale(0.1 -0.1)\">\r\n       <use xlink:href=\"#DejaVuSans-48\"/>\r\n       <use x=\"63.623047\" xlink:href=\"#DejaVuSans-46\"/>\r\n       <use x=\"95.410156\" xlink:href=\"#DejaVuSans-50\"/>\r\n       <use x=\"159.033203\" xlink:href=\"#DejaVuSans-53\"/>\r\n      </g>\r\n     </g>\r\n    </g>\r\n    <g id=\"xtick_3\">\r\n     <g id=\"line2d_3\">\r\n      <g>\r\n       <use style=\"stroke:#000000;stroke-width:0.8;\" x=\"152.475\" xlink:href=\"#m684ec2c8c4\" y=\"228.439219\"/>\r\n      </g>\r\n     </g>\r\n     <g id=\"text_3\">\r\n      <!-- 0.50 -->\r\n      <g transform=\"translate(141.342187 243.037656)scale(0.1 -0.1)\">\r\n       <use xlink:href=\"#DejaVuSans-48\"/>\r\n       <use x=\"63.623047\" xlink:href=\"#DejaVuSans-46\"/>\r\n       <use x=\"95.410156\" xlink:href=\"#DejaVuSans-53\"/>\r\n       <use x=\"159.033203\" xlink:href=\"#DejaVuSans-48\"/>\r\n      </g>\r\n     </g>\r\n    </g>\r\n    <g id=\"xtick_4\">\r\n     <g id=\"line2d_4\">\r\n      <g>\r\n       <use style=\"stroke:#000000;stroke-width:0.8;\" x=\"215.25\" xlink:href=\"#m684ec2c8c4\" y=\"228.439219\"/>\r\n      </g>\r\n     </g>\r\n     <g id=\"text_4\">\r\n      <!-- 0.75 -->\r\n      <defs>\r\n       <path d=\"M 8.203125 72.90625 \r\nL 55.078125 72.90625 \r\nL 55.078125 68.703125 \r\nL 28.609375 0 \r\nL 18.3125 0 \r\nL 43.21875 64.59375 \r\nL 8.203125 64.59375 \r\nz\r\n\" id=\"DejaVuSans-55\"/>\r\n      </defs>\r\n      <g transform=\"translate(204.117188 243.037656)scale(0.1 -0.1)\">\r\n       <use xlink:href=\"#DejaVuSans-48\"/>\r\n       <use x=\"63.623047\" xlink:href=\"#DejaVuSans-46\"/>\r\n       <use x=\"95.410156\" xlink:href=\"#DejaVuSans-55\"/>\r\n       <use x=\"159.033203\" xlink:href=\"#DejaVuSans-53\"/>\r\n      </g>\r\n     </g>\r\n    </g>\r\n    <g id=\"xtick_5\">\r\n     <g id=\"line2d_5\">\r\n      <g>\r\n       <use style=\"stroke:#000000;stroke-width:0.8;\" x=\"278.025\" xlink:href=\"#m684ec2c8c4\" y=\"228.439219\"/>\r\n      </g>\r\n     </g>\r\n     <g id=\"text_5\">\r\n      <!-- 1.00 -->\r\n      <defs>\r\n       <path d=\"M 12.40625 8.296875 \r\nL 28.515625 8.296875 \r\nL 28.515625 63.921875 \r\nL 10.984375 60.40625 \r\nL 10.984375 69.390625 \r\nL 28.421875 72.90625 \r\nL 38.28125 72.90625 \r\nL 38.28125 8.296875 \r\nL 54.390625 8.296875 \r\nL 54.390625 0 \r\nL 12.40625 0 \r\nz\r\n\" id=\"DejaVuSans-49\"/>\r\n      </defs>\r\n      <g transform=\"translate(266.892187 243.037656)scale(0.1 -0.1)\">\r\n       <use xlink:href=\"#DejaVuSans-49\"/>\r\n       <use x=\"63.623047\" xlink:href=\"#DejaVuSans-46\"/>\r\n       <use x=\"95.410156\" xlink:href=\"#DejaVuSans-48\"/>\r\n       <use x=\"159.033203\" xlink:href=\"#DejaVuSans-48\"/>\r\n      </g>\r\n     </g>\r\n    </g>\r\n    <g id=\"xtick_6\">\r\n     <g id=\"line2d_6\">\r\n      <g>\r\n       <use style=\"stroke:#000000;stroke-width:0.8;\" x=\"340.8\" xlink:href=\"#m684ec2c8c4\" y=\"228.439219\"/>\r\n      </g>\r\n     </g>\r\n     <g id=\"text_6\">\r\n      <!-- 1.25 -->\r\n      <g transform=\"translate(329.667188 243.037656)scale(0.1 -0.1)\">\r\n       <use xlink:href=\"#DejaVuSans-49\"/>\r\n       <use x=\"63.623047\" xlink:href=\"#DejaVuSans-46\"/>\r\n       <use x=\"95.410156\" xlink:href=\"#DejaVuSans-50\"/>\r\n       <use x=\"159.033203\" xlink:href=\"#DejaVuSans-53\"/>\r\n      </g>\r\n     </g>\r\n    </g>\r\n    <g id=\"xtick_7\">\r\n     <g id=\"line2d_7\">\r\n      <g>\r\n       <use style=\"stroke:#000000;stroke-width:0.8;\" x=\"403.575\" xlink:href=\"#m684ec2c8c4\" y=\"228.439219\"/>\r\n      </g>\r\n     </g>\r\n     <g id=\"text_7\">\r\n      <!-- 1.50 -->\r\n      <g transform=\"translate(392.442187 243.037656)scale(0.1 -0.1)\">\r\n       <use xlink:href=\"#DejaVuSans-49\"/>\r\n       <use x=\"63.623047\" xlink:href=\"#DejaVuSans-46\"/>\r\n       <use x=\"95.410156\" xlink:href=\"#DejaVuSans-53\"/>\r\n       <use x=\"159.033203\" xlink:href=\"#DejaVuSans-48\"/>\r\n      </g>\r\n     </g>\r\n    </g>\r\n    <g id=\"xtick_8\">\r\n     <g id=\"line2d_8\">\r\n      <g>\r\n       <use style=\"stroke:#000000;stroke-width:0.8;\" x=\"466.35\" xlink:href=\"#m684ec2c8c4\" y=\"228.439219\"/>\r\n      </g>\r\n     </g>\r\n     <g id=\"text_8\">\r\n      <!-- 1.75 -->\r\n      <g transform=\"translate(455.217188 243.037656)scale(0.1 -0.1)\">\r\n       <use xlink:href=\"#DejaVuSans-49\"/>\r\n       <use x=\"63.623047\" xlink:href=\"#DejaVuSans-46\"/>\r\n       <use x=\"95.410156\" xlink:href=\"#DejaVuSans-55\"/>\r\n       <use x=\"159.033203\" xlink:href=\"#DejaVuSans-53\"/>\r\n      </g>\r\n     </g>\r\n    </g>\r\n    <g id=\"xtick_9\">\r\n     <g id=\"line2d_9\">\r\n      <g>\r\n       <use style=\"stroke:#000000;stroke-width:0.8;\" x=\"529.125\" xlink:href=\"#m684ec2c8c4\" y=\"228.439219\"/>\r\n      </g>\r\n     </g>\r\n     <g id=\"text_9\">\r\n      <!-- 2.00 -->\r\n      <g transform=\"translate(517.992188 243.037656)scale(0.1 -0.1)\">\r\n       <use xlink:href=\"#DejaVuSans-50\"/>\r\n       <use x=\"63.623047\" xlink:href=\"#DejaVuSans-46\"/>\r\n       <use x=\"95.410156\" xlink:href=\"#DejaVuSans-48\"/>\r\n       <use x=\"159.033203\" xlink:href=\"#DejaVuSans-48\"/>\r\n      </g>\r\n     </g>\r\n    </g>\r\n   </g>\r\n   <g id=\"matplotlib.axis_2\">\r\n    <g id=\"ytick_1\">\r\n     <g id=\"line2d_10\">\r\n      <defs>\r\n       <path d=\"M 0 0 \r\nL -3.5 0 \r\n\" id=\"m30ca5239e4\" style=\"stroke:#000000;stroke-width:0.8;\"/>\r\n      </defs>\r\n      <g>\r\n       <use style=\"stroke:#000000;stroke-width:0.8;\" x=\"26.925\" xlink:href=\"#m30ca5239e4\" y=\"228.439219\"/>\r\n      </g>\r\n     </g>\r\n     <g id=\"text_10\">\r\n      <!-- 3 -->\r\n      <defs>\r\n       <path d=\"M 40.578125 39.3125 \r\nQ 47.65625 37.796875 51.625 33 \r\nQ 55.609375 28.21875 55.609375 21.1875 \r\nQ 55.609375 10.40625 48.1875 4.484375 \r\nQ 40.765625 -1.421875 27.09375 -1.421875 \r\nQ 22.515625 -1.421875 17.65625 -0.515625 \r\nQ 12.796875 0.390625 7.625 2.203125 \r\nL 7.625 11.71875 \r\nQ 11.71875 9.328125 16.59375 8.109375 \r\nQ 21.484375 6.890625 26.8125 6.890625 \r\nQ 36.078125 6.890625 40.9375 10.546875 \r\nQ 45.796875 14.203125 45.796875 21.1875 \r\nQ 45.796875 27.640625 41.28125 31.265625 \r\nQ 36.765625 34.90625 28.71875 34.90625 \r\nL 20.21875 34.90625 \r\nL 20.21875 43.015625 \r\nL 29.109375 43.015625 \r\nQ 36.375 43.015625 40.234375 45.921875 \r\nQ 44.09375 48.828125 44.09375 54.296875 \r\nQ 44.09375 59.90625 40.109375 62.90625 \r\nQ 36.140625 65.921875 28.71875 65.921875 \r\nQ 24.65625 65.921875 20.015625 65.03125 \r\nQ 15.375 64.15625 9.8125 62.3125 \r\nL 9.8125 71.09375 \r\nQ 15.4375 72.65625 20.34375 73.4375 \r\nQ 25.25 74.21875 29.59375 74.21875 \r\nQ 40.828125 74.21875 47.359375 69.109375 \r\nQ 53.90625 64.015625 53.90625 55.328125 \r\nQ 53.90625 49.265625 50.4375 45.09375 \r\nQ 46.96875 40.921875 40.578125 39.3125 \r\nz\r\n\" id=\"DejaVuSans-51\"/>\r\n      </defs>\r\n      <g transform=\"translate(13.5625 232.238437)scale(0.1 -0.1)\">\r\n       <use xlink:href=\"#DejaVuSans-51\"/>\r\n      </g>\r\n     </g>\r\n    </g>\r\n    <g id=\"ytick_2\">\r\n     <g id=\"line2d_11\">\r\n      <g>\r\n       <use style=\"stroke:#000000;stroke-width:0.8;\" x=\"26.925\" xlink:href=\"#m30ca5239e4\" y=\"201.259219\"/>\r\n      </g>\r\n     </g>\r\n     <g id=\"text_11\">\r\n      <!-- 4 -->\r\n      <defs>\r\n       <path d=\"M 37.796875 64.3125 \r\nL 12.890625 25.390625 \r\nL 37.796875 25.390625 \r\nz\r\nM 35.203125 72.90625 \r\nL 47.609375 72.90625 \r\nL 47.609375 25.390625 \r\nL 58.015625 25.390625 \r\nL 58.015625 17.1875 \r\nL 47.609375 17.1875 \r\nL 47.609375 0 \r\nL 37.796875 0 \r\nL 37.796875 17.1875 \r\nL 4.890625 17.1875 \r\nL 4.890625 26.703125 \r\nz\r\n\" id=\"DejaVuSans-52\"/>\r\n      </defs>\r\n      <g transform=\"translate(13.5625 205.058437)scale(0.1 -0.1)\">\r\n       <use xlink:href=\"#DejaVuSans-52\"/>\r\n      </g>\r\n     </g>\r\n    </g>\r\n    <g id=\"ytick_3\">\r\n     <g id=\"line2d_12\">\r\n      <g>\r\n       <use style=\"stroke:#000000;stroke-width:0.8;\" x=\"26.925\" xlink:href=\"#m30ca5239e4\" y=\"174.079219\"/>\r\n      </g>\r\n     </g>\r\n     <g id=\"text_12\">\r\n      <!-- 5 -->\r\n      <g transform=\"translate(13.5625 177.878437)scale(0.1 -0.1)\">\r\n       <use xlink:href=\"#DejaVuSans-53\"/>\r\n      </g>\r\n     </g>\r\n    </g>\r\n    <g id=\"ytick_4\">\r\n     <g id=\"line2d_13\">\r\n      <g>\r\n       <use style=\"stroke:#000000;stroke-width:0.8;\" x=\"26.925\" xlink:href=\"#m30ca5239e4\" y=\"146.899219\"/>\r\n      </g>\r\n     </g>\r\n     <g id=\"text_13\">\r\n      <!-- 6 -->\r\n      <defs>\r\n       <path d=\"M 33.015625 40.375 \r\nQ 26.375 40.375 22.484375 35.828125 \r\nQ 18.609375 31.296875 18.609375 23.390625 \r\nQ 18.609375 15.53125 22.484375 10.953125 \r\nQ 26.375 6.390625 33.015625 6.390625 \r\nQ 39.65625 6.390625 43.53125 10.953125 \r\nQ 47.40625 15.53125 47.40625 23.390625 \r\nQ 47.40625 31.296875 43.53125 35.828125 \r\nQ 39.65625 40.375 33.015625 40.375 \r\nz\r\nM 52.59375 71.296875 \r\nL 52.59375 62.3125 \r\nQ 48.875 64.0625 45.09375 64.984375 \r\nQ 41.3125 65.921875 37.59375 65.921875 \r\nQ 27.828125 65.921875 22.671875 59.328125 \r\nQ 17.53125 52.734375 16.796875 39.40625 \r\nQ 19.671875 43.65625 24.015625 45.921875 \r\nQ 28.375 48.1875 33.59375 48.1875 \r\nQ 44.578125 48.1875 50.953125 41.515625 \r\nQ 57.328125 34.859375 57.328125 23.390625 \r\nQ 57.328125 12.15625 50.6875 5.359375 \r\nQ 44.046875 -1.421875 33.015625 -1.421875 \r\nQ 20.359375 -1.421875 13.671875 8.265625 \r\nQ 6.984375 17.96875 6.984375 36.375 \r\nQ 6.984375 53.65625 15.1875 63.9375 \r\nQ 23.390625 74.21875 37.203125 74.21875 \r\nQ 40.921875 74.21875 44.703125 73.484375 \r\nQ 48.484375 72.75 52.59375 71.296875 \r\nz\r\n\" id=\"DejaVuSans-54\"/>\r\n      </defs>\r\n      <g transform=\"translate(13.5625 150.698437)scale(0.1 -0.1)\">\r\n       <use xlink:href=\"#DejaVuSans-54\"/>\r\n      </g>\r\n     </g>\r\n    </g>\r\n    <g id=\"ytick_5\">\r\n     <g id=\"line2d_14\">\r\n      <g>\r\n       <use style=\"stroke:#000000;stroke-width:0.8;\" x=\"26.925\" xlink:href=\"#m30ca5239e4\" y=\"119.719219\"/>\r\n      </g>\r\n     </g>\r\n     <g id=\"text_14\">\r\n      <!-- 7 -->\r\n      <g transform=\"translate(13.5625 123.518437)scale(0.1 -0.1)\">\r\n       <use xlink:href=\"#DejaVuSans-55\"/>\r\n      </g>\r\n     </g>\r\n    </g>\r\n    <g id=\"ytick_6\">\r\n     <g id=\"line2d_15\">\r\n      <g>\r\n       <use style=\"stroke:#000000;stroke-width:0.8;\" x=\"26.925\" xlink:href=\"#m30ca5239e4\" y=\"92.539219\"/>\r\n      </g>\r\n     </g>\r\n     <g id=\"text_15\">\r\n      <!-- 8 -->\r\n      <defs>\r\n       <path d=\"M 31.78125 34.625 \r\nQ 24.75 34.625 20.71875 30.859375 \r\nQ 16.703125 27.09375 16.703125 20.515625 \r\nQ 16.703125 13.921875 20.71875 10.15625 \r\nQ 24.75 6.390625 31.78125 6.390625 \r\nQ 38.8125 6.390625 42.859375 10.171875 \r\nQ 46.921875 13.96875 46.921875 20.515625 \r\nQ 46.921875 27.09375 42.890625 30.859375 \r\nQ 38.875 34.625 31.78125 34.625 \r\nz\r\nM 21.921875 38.8125 \r\nQ 15.578125 40.375 12.03125 44.71875 \r\nQ 8.5 49.078125 8.5 55.328125 \r\nQ 8.5 64.0625 14.71875 69.140625 \r\nQ 20.953125 74.21875 31.78125 74.21875 \r\nQ 42.671875 74.21875 48.875 69.140625 \r\nQ 55.078125 64.0625 55.078125 55.328125 \r\nQ 55.078125 49.078125 51.53125 44.71875 \r\nQ 48 40.375 41.703125 38.8125 \r\nQ 48.828125 37.15625 52.796875 32.3125 \r\nQ 56.78125 27.484375 56.78125 20.515625 \r\nQ 56.78125 9.90625 50.3125 4.234375 \r\nQ 43.84375 -1.421875 31.78125 -1.421875 \r\nQ 19.734375 -1.421875 13.25 4.234375 \r\nQ 6.78125 9.90625 6.78125 20.515625 \r\nQ 6.78125 27.484375 10.78125 32.3125 \r\nQ 14.796875 37.15625 21.921875 38.8125 \r\nz\r\nM 18.3125 54.390625 \r\nQ 18.3125 48.734375 21.84375 45.5625 \r\nQ 25.390625 42.390625 31.78125 42.390625 \r\nQ 38.140625 42.390625 41.71875 45.5625 \r\nQ 45.3125 48.734375 45.3125 54.390625 \r\nQ 45.3125 60.0625 41.71875 63.234375 \r\nQ 38.140625 66.40625 31.78125 66.40625 \r\nQ 25.390625 66.40625 21.84375 63.234375 \r\nQ 18.3125 60.0625 18.3125 54.390625 \r\nz\r\n\" id=\"DejaVuSans-56\"/>\r\n      </defs>\r\n      <g transform=\"translate(13.5625 96.338437)scale(0.1 -0.1)\">\r\n       <use xlink:href=\"#DejaVuSans-56\"/>\r\n      </g>\r\n     </g>\r\n    </g>\r\n    <g id=\"ytick_7\">\r\n     <g id=\"line2d_16\">\r\n      <g>\r\n       <use style=\"stroke:#000000;stroke-width:0.8;\" x=\"26.925\" xlink:href=\"#m30ca5239e4\" y=\"65.359219\"/>\r\n      </g>\r\n     </g>\r\n     <g id=\"text_16\">\r\n      <!-- 9 -->\r\n      <defs>\r\n       <path d=\"M 10.984375 1.515625 \r\nL 10.984375 10.5 \r\nQ 14.703125 8.734375 18.5 7.8125 \r\nQ 22.3125 6.890625 25.984375 6.890625 \r\nQ 35.75 6.890625 40.890625 13.453125 \r\nQ 46.046875 20.015625 46.78125 33.40625 \r\nQ 43.953125 29.203125 39.59375 26.953125 \r\nQ 35.25 24.703125 29.984375 24.703125 \r\nQ 19.046875 24.703125 12.671875 31.3125 \r\nQ 6.296875 37.9375 6.296875 49.421875 \r\nQ 6.296875 60.640625 12.9375 67.421875 \r\nQ 19.578125 74.21875 30.609375 74.21875 \r\nQ 43.265625 74.21875 49.921875 64.515625 \r\nQ 56.59375 54.828125 56.59375 36.375 \r\nQ 56.59375 19.140625 48.40625 8.859375 \r\nQ 40.234375 -1.421875 26.421875 -1.421875 \r\nQ 22.703125 -1.421875 18.890625 -0.6875 \r\nQ 15.09375 0.046875 10.984375 1.515625 \r\nz\r\nM 30.609375 32.421875 \r\nQ 37.25 32.421875 41.125 36.953125 \r\nQ 45.015625 41.5 45.015625 49.421875 \r\nQ 45.015625 57.28125 41.125 61.84375 \r\nQ 37.25 66.40625 30.609375 66.40625 \r\nQ 23.96875 66.40625 20.09375 61.84375 \r\nQ 16.21875 57.28125 16.21875 49.421875 \r\nQ 16.21875 41.5 20.09375 36.953125 \r\nQ 23.96875 32.421875 30.609375 32.421875 \r\nz\r\n\" id=\"DejaVuSans-57\"/>\r\n      </defs>\r\n      <g transform=\"translate(13.5625 69.158437)scale(0.1 -0.1)\">\r\n       <use xlink:href=\"#DejaVuSans-57\"/>\r\n      </g>\r\n     </g>\r\n    </g>\r\n    <g id=\"ytick_8\">\r\n     <g id=\"line2d_17\">\r\n      <g>\r\n       <use style=\"stroke:#000000;stroke-width:0.8;\" x=\"26.925\" xlink:href=\"#m30ca5239e4\" y=\"38.179219\"/>\r\n      </g>\r\n     </g>\r\n     <g id=\"text_17\">\r\n      <!-- 10 -->\r\n      <g transform=\"translate(7.2 41.978437)scale(0.1 -0.1)\">\r\n       <use xlink:href=\"#DejaVuSans-49\"/>\r\n       <use x=\"63.623047\" xlink:href=\"#DejaVuSans-48\"/>\r\n      </g>\r\n     </g>\r\n    </g>\r\n    <g id=\"ytick_9\">\r\n     <g id=\"line2d_18\">\r\n      <g>\r\n       <use style=\"stroke:#000000;stroke-width:0.8;\" x=\"26.925\" xlink:href=\"#m30ca5239e4\" y=\"10.999219\"/>\r\n      </g>\r\n     </g>\r\n     <g id=\"text_18\">\r\n      <!-- 11 -->\r\n      <g transform=\"translate(7.2 14.798437)scale(0.1 -0.1)\">\r\n       <use xlink:href=\"#DejaVuSans-49\"/>\r\n       <use x=\"63.623047\" xlink:href=\"#DejaVuSans-49\"/>\r\n      </g>\r\n     </g>\r\n    </g>\r\n   </g>\r\n   <g id=\"line2d_19\">\r\n    <path clip-path=\"url(#p02d1af4269)\" d=\"M 26.925 213.935326 \r\nL 31.997727 212.292016 \r\nL 37.070455 210.648706 \r\nL 42.143182 209.005395 \r\nL 47.215909 207.362085 \r\nL 52.288636 205.718775 \r\nL 57.361364 204.075464 \r\nL 62.434091 202.432154 \r\nL 67.506818 200.788843 \r\nL 72.579545 199.145533 \r\nL 77.652273 197.502223 \r\nL 82.725 195.858912 \r\nL 87.797727 194.215602 \r\nL 92.870455 192.572292 \r\nL 97.943182 190.928981 \r\nL 103.015909 189.285671 \r\nL 108.088636 187.642361 \r\nL 113.161364 185.99905 \r\nL 118.234091 184.35574 \r\nL 123.306818 182.71243 \r\nL 128.379545 181.069119 \r\nL 133.452273 179.425809 \r\nL 138.525 177.782499 \r\nL 143.597727 176.139188 \r\nL 148.670455 174.495878 \r\nL 153.743182 172.852568 \r\nL 158.815909 171.209257 \r\nL 163.888636 169.565947 \r\nL 168.961364 167.922636 \r\nL 174.034091 166.279326 \r\nL 179.106818 164.636016 \r\nL 184.179545 162.992705 \r\nL 189.252273 161.349395 \r\nL 194.325 159.706085 \r\nL 199.397727 158.062774 \r\nL 204.470455 156.419464 \r\nL 209.543182 154.776154 \r\nL 214.615909 153.132843 \r\nL 219.688636 151.489533 \r\nL 224.761364 149.846223 \r\nL 229.834091 148.202912 \r\nL 234.906818 146.559602 \r\nL 239.979545 144.916292 \r\nL 245.052273 143.272981 \r\nL 250.125 141.629671 \r\nL 255.197727 139.98636 \r\nL 260.270455 138.34305 \r\nL 265.343182 136.69974 \r\nL 270.415909 135.056429 \r\nL 275.488636 133.413119 \r\nL 280.561364 131.769809 \r\nL 285.634091 130.126498 \r\nL 290.706818 128.483188 \r\nL 295.779545 126.839878 \r\nL 300.852273 125.196567 \r\nL 305.925 123.553257 \r\nL 310.997727 121.909947 \r\nL 316.070455 120.266636 \r\nL 321.143182 118.623326 \r\nL 326.215909 116.980016 \r\nL 331.288636 115.336705 \r\nL 336.361364 113.693395 \r\nL 341.434091 112.050085 \r\nL 346.506818 110.406774 \r\nL 351.579545 108.763464 \r\nL 356.652273 107.120153 \r\nL 361.725 105.476843 \r\nL 366.797727 103.833533 \r\nL 371.870455 102.190222 \r\nL 376.943182 100.546912 \r\nL 382.015909 98.903602 \r\nL 387.088636 97.260291 \r\nL 392.161364 95.616981 \r\nL 397.234091 93.973671 \r\nL 402.306818 92.33036 \r\nL 407.379545 90.68705 \r\nL 412.452273 89.04374 \r\nL 417.525 87.400429 \r\nL 422.597727 85.757119 \r\nL 427.670455 84.113809 \r\nL 432.743182 82.470498 \r\nL 437.815909 80.827188 \r\nL 442.888636 79.183877 \r\nL 447.961364 77.540567 \r\nL 453.034091 75.897257 \r\nL 458.106818 74.253946 \r\nL 463.179545 72.610636 \r\nL 468.252273 70.967326 \r\nL 473.325 69.324015 \r\nL 478.397727 67.680705 \r\nL 483.470455 66.037395 \r\nL 488.543182 64.394084 \r\nL 493.615909 62.750774 \r\nL 498.688636 61.107464 \r\nL 503.761364 59.464153 \r\nL 508.834091 57.820843 \r\nL 513.906818 56.177533 \r\nL 518.979545 54.534222 \r\nL 524.052273 52.890912 \r\nL 529.125 51.247602 \r\n\" style=\"fill:none;stroke:#1f77b4;stroke-linecap:square;stroke-width:1.5;\"/>\r\n   </g>\r\n   <g id=\"line2d_20\">\r\n    <path clip-path=\"url(#p02d1af4269)\" d=\"M 26.925 173.165326 \r\nL 31.997727 171.522016 \r\nL 37.070455 169.878706 \r\nL 42.143182 168.235395 \r\nL 47.215909 166.592085 \r\nL 52.288636 164.948775 \r\nL 57.361364 163.305464 \r\nL 62.434091 161.662154 \r\nL 67.506818 160.018843 \r\nL 72.579545 158.375533 \r\nL 77.652273 156.732223 \r\nL 82.725 155.088912 \r\nL 87.797727 153.445602 \r\nL 92.870455 151.802292 \r\nL 97.943182 150.158981 \r\nL 103.015909 148.515671 \r\nL 108.088636 146.872361 \r\nL 113.161364 145.22905 \r\nL 118.234091 143.58574 \r\nL 123.306818 141.94243 \r\nL 128.379545 140.299119 \r\nL 133.452273 138.655809 \r\nL 138.525 137.012499 \r\nL 143.597727 135.369188 \r\nL 148.670455 133.725878 \r\nL 153.743182 132.082568 \r\nL 158.815909 130.439257 \r\nL 163.888636 128.795947 \r\nL 168.961364 127.152636 \r\nL 174.034091 125.509326 \r\nL 179.106818 123.866016 \r\nL 184.179545 122.222705 \r\nL 189.252273 120.579395 \r\nL 194.325 118.936085 \r\nL 199.397727 117.292774 \r\nL 204.470455 115.649464 \r\nL 209.543182 114.006154 \r\nL 214.615909 112.362843 \r\nL 219.688636 110.719533 \r\nL 224.761364 109.076223 \r\nL 229.834091 107.432912 \r\nL 234.906818 105.789602 \r\nL 239.979545 104.146292 \r\nL 245.052273 102.502981 \r\nL 250.125 100.859671 \r\nL 255.197727 99.21636 \r\nL 260.270455 97.57305 \r\nL 265.343182 95.92974 \r\nL 270.415909 94.286429 \r\nL 275.488636 92.643119 \r\nL 280.561364 90.999809 \r\nL 285.634091 89.356498 \r\nL 290.706818 87.713188 \r\nL 295.779545 86.069878 \r\nL 300.852273 84.426567 \r\nL 305.925 82.783257 \r\nL 310.997727 81.139947 \r\nL 316.070455 79.496636 \r\nL 321.143182 77.853326 \r\nL 326.215909 76.210016 \r\nL 331.288636 74.566705 \r\nL 336.361364 72.923395 \r\nL 341.434091 71.280085 \r\nL 346.506818 69.636774 \r\nL 351.579545 67.993464 \r\nL 356.652273 66.350153 \r\nL 361.725 64.706843 \r\nL 366.797727 63.063533 \r\nL 371.870455 61.420222 \r\nL 376.943182 59.776912 \r\nL 382.015909 58.133602 \r\nL 387.088636 56.490291 \r\nL 392.161364 54.846981 \r\nL 397.234091 53.203671 \r\nL 402.306818 51.56036 \r\nL 407.379545 49.91705 \r\nL 412.452273 48.27374 \r\nL 417.525 46.630429 \r\nL 422.597727 44.987119 \r\nL 427.670455 43.343809 \r\nL 432.743182 41.700498 \r\nL 437.815909 40.057188 \r\nL 442.888636 38.413877 \r\nL 447.961364 36.770567 \r\nL 453.034091 35.127257 \r\nL 458.106818 33.483946 \r\nL 463.179545 31.840636 \r\nL 468.252273 30.197326 \r\nL 473.325 28.554015 \r\nL 478.397727 26.910705 \r\nL 483.470455 25.267395 \r\nL 488.543182 23.624084 \r\nL 493.615909 21.980774 \r\nL 498.688636 20.337464 \r\nL 503.761364 18.694153 \r\nL 508.834091 17.050843 \r\nL 513.906818 15.407533 \r\nL 518.979545 13.764222 \r\nL 524.052273 12.120912 \r\nL 529.125 10.477602 \r\n\" style=\"fill:none;stroke:#ff7f0e;stroke-dasharray:5.55,2.4;stroke-dashoffset:0;stroke-width:1.5;\"/>\r\n   </g>\r\n   <g id=\"line2d_21\">\r\n    <path clip-path=\"url(#p02d1af4269)\" d=\"M 31.209557 253.317344 \r\nL 31.997727 253.062016 \r\nL 37.070455 251.418706 \r\nL 42.143182 249.775395 \r\nL 47.215909 248.132085 \r\nL 52.288636 246.488775 \r\nL 57.361364 244.845464 \r\nL 62.434091 243.202154 \r\nL 67.506818 241.558843 \r\nL 72.579545 239.915533 \r\nL 77.652273 238.272223 \r\nL 82.725 236.628912 \r\nL 87.797727 234.985602 \r\nL 92.870455 233.342292 \r\nL 97.943182 231.698981 \r\nL 103.015909 230.055671 \r\nL 108.088636 228.412361 \r\nL 113.161364 226.76905 \r\nL 118.234091 225.12574 \r\nL 123.306818 223.48243 \r\nL 128.379545 221.839119 \r\nL 133.452273 220.195809 \r\nL 138.525 218.552499 \r\nL 143.597727 216.909188 \r\nL 148.670455 215.265878 \r\nL 153.743182 213.622568 \r\nL 158.815909 211.979257 \r\nL 163.888636 210.335947 \r\nL 168.961364 208.692636 \r\nL 174.034091 207.049326 \r\nL 179.106818 205.406016 \r\nL 184.179545 203.762705 \r\nL 189.252273 202.119395 \r\nL 194.325 200.476085 \r\nL 199.397727 198.832774 \r\nL 204.470455 197.189464 \r\nL 209.543182 195.546154 \r\nL 214.615909 193.902843 \r\nL 219.688636 192.259533 \r\nL 224.761364 190.616223 \r\nL 229.834091 188.972912 \r\nL 234.906818 187.329602 \r\nL 239.979545 185.686292 \r\nL 245.052273 184.042981 \r\nL 250.125 182.399671 \r\nL 255.197727 180.75636 \r\nL 260.270455 179.11305 \r\nL 265.343182 177.46974 \r\nL 270.415909 175.826429 \r\nL 275.488636 174.183119 \r\nL 280.561364 172.539809 \r\nL 285.634091 170.896498 \r\nL 290.706818 169.253188 \r\nL 295.779545 167.609878 \r\nL 300.852273 165.966567 \r\nL 305.925 164.323257 \r\nL 310.997727 162.679947 \r\nL 316.070455 161.036636 \r\nL 321.143182 159.393326 \r\nL 326.215909 157.750016 \r\nL 331.288636 156.106705 \r\nL 336.361364 154.463395 \r\nL 341.434091 152.820085 \r\nL 346.506818 151.176774 \r\nL 351.579545 149.533464 \r\nL 356.652273 147.890153 \r\nL 361.725 146.246843 \r\nL 366.797727 144.603533 \r\nL 371.870455 142.960222 \r\nL 376.943182 141.316912 \r\nL 382.015909 139.673602 \r\nL 387.088636 138.030291 \r\nL 392.161364 136.386981 \r\nL 397.234091 134.743671 \r\nL 402.306818 133.10036 \r\nL 407.379545 131.45705 \r\nL 412.452273 129.81374 \r\nL 417.525 128.170429 \r\nL 422.597727 126.527119 \r\nL 427.670455 124.883809 \r\nL 432.743182 123.240498 \r\nL 437.815909 121.597188 \r\nL 442.888636 119.953877 \r\nL 447.961364 118.310567 \r\nL 453.034091 116.667257 \r\nL 458.106818 115.023946 \r\nL 463.179545 113.380636 \r\nL 468.252273 111.737326 \r\nL 473.325 110.094015 \r\nL 478.397727 108.450705 \r\nL 483.470455 106.807395 \r\nL 488.543182 105.164084 \r\nL 493.615909 103.520774 \r\nL 498.688636 101.877464 \r\nL 503.761364 100.234153 \r\nL 508.834091 98.590843 \r\nL 513.906818 96.947533 \r\nL 518.979545 95.304222 \r\nL 524.052273 93.660912 \r\nL 529.125 92.017602 \r\n\" style=\"fill:none;stroke:#2ca02c;stroke-dasharray:5.55,2.4;stroke-dashoffset:0;stroke-width:1.5;\"/>\r\n   </g>\r\n   <g id=\"line2d_22\">\r\n    <defs>\r\n     <path d=\"M 0 3 \r\nC 0.795609 3 1.55874 2.683901 2.12132 2.12132 \r\nC 2.683901 1.55874 3 0.795609 3 0 \r\nC 3 -0.795609 2.683901 -1.55874 2.12132 -2.12132 \r\nC 1.55874 -2.683901 0.795609 -3 0 -3 \r\nC -0.795609 -3 -1.55874 -2.683901 -2.12132 -2.12132 \r\nC -2.683901 -1.55874 -3 -0.795609 -3 0 \r\nC -3 0.795609 -2.683901 1.55874 -2.12132 2.12132 \r\nC -1.55874 2.683901 -0.795609 3 0 3 \r\nz\r\n\" id=\"mfee90d39a3\" style=\"stroke:#0000ff;\"/>\r\n    </defs>\r\n    <g clip-path=\"url(#p02d1af4269)\">\r\n     <use style=\"fill:#0000ff;stroke:#0000ff;\" x=\"215.019048\" xlink:href=\"#mfee90d39a3\" y=\"120.107695\"/>\r\n     <use style=\"fill:#0000ff;stroke:#0000ff;\" x=\"504.373725\" xlink:href=\"#mfee90d39a3\" y=\"41.55894\"/>\r\n     <use style=\"fill:#0000ff;stroke:#0000ff;\" x=\"394.532358\" xlink:href=\"#mfee90d39a3\" y=\"85.028967\"/>\r\n     <use style=\"fill:#0000ff;stroke:#0000ff;\" x=\"327.571291\" xlink:href=\"#mfee90d39a3\" y=\"111.813992\"/>\r\n     <use style=\"fill:#0000ff;stroke:#0000ff;\" x=\"105.277561\" xlink:href=\"#mfee90d39a3\" y=\"216.001927\"/>\r\n     <use style=\"fill:#0000ff;stroke:#0000ff;\" x=\"105.265448\" xlink:href=\"#mfee90d39a3\" y=\"195.384998\"/>\r\n     <use style=\"fill:#0000ff;stroke:#0000ff;\" x=\"56.09459\" xlink:href=\"#mfee90d39a3\" y=\"204.307105\"/>\r\n     <use style=\"fill:#0000ff;stroke:#0000ff;\" x=\"461.91866\" xlink:href=\"#mfee90d39a3\" y=\"31.270631\"/>\r\n     <use style=\"fill:#0000ff;stroke:#0000ff;\" x=\"328.804959\" xlink:href=\"#mfee90d39a3\" y=\"93.889838\"/>\r\n     <use style=\"fill:#0000ff;stroke:#0000ff;\" x=\"382.519049\" xlink:href=\"#mfee90d39a3\" y=\"133.706174\"/>\r\n     <use style=\"fill:#0000ff;stroke:#0000ff;\" x=\"37.262533\" xlink:href=\"#mfee90d39a3\" y=\"189.093697\"/>\r\n     <use style=\"fill:#0000ff;stroke:#0000ff;\" x=\"514.013728\" xlink:href=\"#mfee90d39a3\" y=\"53.552856\"/>\r\n     <use style=\"fill:#0000ff;stroke:#0000ff;\" x=\"444.977694\" xlink:href=\"#mfee90d39a3\" y=\"83.903213\"/>\r\n     <use style=\"fill:#0000ff;stroke:#0000ff;\" x=\"133.561701\" xlink:href=\"#mfee90d39a3\" y=\"150.005595\"/>\r\n     <use style=\"fill:#0000ff;stroke:#0000ff;\" x=\"118.237499\" xlink:href=\"#mfee90d39a3\" y=\"143.584636\"/>\r\n     <use style=\"fill:#0000ff;stroke:#0000ff;\" x=\"119.030745\" xlink:href=\"#mfee90d39a3\" y=\"146.037418\"/>\r\n     <use style=\"fill:#0000ff;stroke:#0000ff;\" x=\"179.715454\" xlink:href=\"#mfee90d39a3\" y=\"174.453326\"/>\r\n     <use style=\"fill:#0000ff;stroke:#0000ff;\" x=\"290.45768\" xlink:href=\"#mfee90d39a3\" y=\"124.086332\"/>\r\n     <use style=\"fill:#0000ff;stroke:#0000ff;\" x=\"243.847788\" xlink:href=\"#mfee90d39a3\" y=\"121.813885\"/>\r\n     <use style=\"fill:#0000ff;stroke:#0000ff;\" x=\"173.180274\" xlink:href=\"#mfee90d39a3\" y=\"127.250254\"/>\r\n     <use style=\"fill:#0000ff;stroke:#0000ff;\" x=\"334.197524\" xlink:href=\"#mfee90d39a3\" y=\"114.502204\"/>\r\n     <use style=\"fill:#0000ff;stroke:#0000ff;\" x=\"96.978817\" xlink:href=\"#mfee90d39a3\" y=\"183.556771\"/>\r\n     <use style=\"fill:#0000ff;stroke:#0000ff;\" x=\"173.640042\" xlink:href=\"#mfee90d39a3\" y=\"183.686454\"/>\r\n     <use style=\"fill:#0000ff;stroke:#0000ff;\" x=\"210.911918\" xlink:href=\"#mfee90d39a3\" y=\"174.025825\"/>\r\n     <use style=\"fill:#0000ff;stroke:#0000ff;\" x=\"255.963346\" xlink:href=\"#mfee90d39a3\" y=\"104.798874\"/>\r\n     <use style=\"fill:#0000ff;stroke:#0000ff;\" x=\"421.240368\" xlink:href=\"#mfee90d39a3\" y=\"36.350119\"/>\r\n     <use style=\"fill:#0000ff;stroke:#0000ff;\" x=\"127.201173\" xlink:href=\"#mfee90d39a3\" y=\"170.653653\"/>\r\n     <use style=\"fill:#0000ff;stroke:#0000ff;\" x=\"285.173535\" xlink:href=\"#mfee90d39a3\" y=\"90.121842\"/>\r\n     <use style=\"fill:#0000ff;stroke:#0000ff;\" x=\"324.435596\" xlink:href=\"#mfee90d39a3\" y=\"94.818984\"/>\r\n     <use style=\"fill:#0000ff;stroke:#0000ff;\" x=\"50.252397\" xlink:href=\"#mfee90d39a3\" y=\"211.21844\"/>\r\n     <use style=\"fill:#0000ff;stroke:#0000ff;\" x=\"332.034025\" xlink:href=\"#mfee90d39a3\" y=\"92.358072\"/>\r\n     <use style=\"fill:#0000ff;stroke:#0000ff;\" x=\"112.562215\" xlink:href=\"#mfee90d39a3\" y=\"131.646311\"/>\r\n     <use style=\"fill:#0000ff;stroke:#0000ff;\" x=\"59.59391\" xlink:href=\"#mfee90d39a3\" y=\"191.624357\"/>\r\n     <use style=\"fill:#0000ff;stroke:#0000ff;\" x=\"503.455317\" xlink:href=\"#mfee90d39a3\" y=\"3.987951\"/>\r\n     <use style=\"fill:#0000ff;stroke:#0000ff;\" x=\"511.865407\" xlink:href=\"#mfee90d39a3\" y=\"114.988619\"/>\r\n     <use style=\"fill:#0000ff;stroke:#0000ff;\" x=\"432.902148\" xlink:href=\"#mfee90d39a3\" y=\"47.086469\"/>\r\n     <use style=\"fill:#0000ff;stroke:#0000ff;\" x=\"179.902035\" xlink:href=\"#mfee90d39a3\" y=\"149.216866\"/>\r\n     <use style=\"fill:#0000ff;stroke:#0000ff;\" x=\"75.975936\" xlink:href=\"#mfee90d39a3\" y=\"193.45787\"/>\r\n     <use style=\"fill:#0000ff;stroke:#0000ff;\" x=\"370.546826\" xlink:href=\"#mfee90d39a3\" y=\"87.180439\"/>\r\n     <use style=\"fill:#0000ff;stroke:#0000ff;\" x=\"247.969582\" xlink:href=\"#mfee90d39a3\" y=\"183.501273\"/>\r\n     <use style=\"fill:#0000ff;stroke:#0000ff;\" x=\"88.212602\" xlink:href=\"#mfee90d39a3\" y=\"187.327905\"/>\r\n     <use style=\"fill:#0000ff;stroke:#0000ff;\" x=\"275.602844\" xlink:href=\"#mfee90d39a3\" y=\"110.799449\"/>\r\n     <use style=\"fill:#0000ff;stroke:#0000ff;\" x=\"44.194915\" xlink:href=\"#mfee90d39a3\" y=\"155.481979\"/>\r\n     <use style=\"fill:#0000ff;stroke:#0000ff;\" x=\"483.585706\" xlink:href=\"#mfee90d39a3\" y=\"67.053832\"/>\r\n     <use style=\"fill:#0000ff;stroke:#0000ff;\" x=\"156.884307\" xlink:href=\"#mfee90d39a3\" y=\"181.032235\"/>\r\n     <use style=\"fill:#0000ff;stroke:#0000ff;\" x=\"359.643691\" xlink:href=\"#mfee90d39a3\" y=\"106.852841\"/>\r\n     <use style=\"fill:#0000ff;stroke:#0000ff;\" x=\"183.466302\" xlink:href=\"#mfee90d39a3\" y=\"125.544747\"/>\r\n     <use style=\"fill:#0000ff;stroke:#0000ff;\" x=\"288.10316\" xlink:href=\"#mfee90d39a3\" y=\"107.511071\"/>\r\n     <use style=\"fill:#0000ff;stroke:#0000ff;\" x=\"301.482902\" xlink:href=\"#mfee90d39a3\" y=\"126.500589\"/>\r\n     <use style=\"fill:#0000ff;stroke:#0000ff;\" x=\"119.758908\" xlink:href=\"#mfee90d39a3\" y=\"157.162545\"/>\r\n    </g>\r\n   </g>\r\n   <g id=\"patch_3\">\r\n    <path d=\"M 26.925 228.439219 \r\nL 26.925 10.999219 \r\n\" style=\"fill:none;stroke:#000000;stroke-linecap:square;stroke-linejoin:miter;stroke-width:0.8;\"/>\r\n   </g>\r\n   <g id=\"patch_4\">\r\n    <path d=\"M 529.125 228.439219 \r\nL 529.125 10.999219 \r\n\" style=\"fill:none;stroke:#000000;stroke-linecap:square;stroke-linejoin:miter;stroke-width:0.8;\"/>\r\n   </g>\r\n   <g id=\"patch_5\">\r\n    <path d=\"M 26.925 228.439219 \r\nL 529.125 228.439219 \r\n\" style=\"fill:none;stroke:#000000;stroke-linecap:square;stroke-linejoin:miter;stroke-width:0.8;\"/>\r\n   </g>\r\n   <g id=\"patch_6\">\r\n    <path d=\"M 26.925 10.999219 \r\nL 529.125 10.999219 \r\n\" style=\"fill:none;stroke:#000000;stroke-linecap:square;stroke-linejoin:miter;stroke-width:0.8;\"/>\r\n   </g>\r\n  </g>\r\n </g>\r\n <defs>\r\n  <clipPath id=\"p02d1af4269\">\r\n   <rect height=\"217.44\" width=\"502.2\" x=\"26.925\" y=\"10.999219\"/>\r\n  </clipPath>\r\n </defs>\r\n</svg>\r\n",
      "image/png": "[encoded data removed]"
     },
     "metadata": {
      "needs_background": "light"
     }
    }
   ],
   "source": [
    "\n",
    "def plot_svr(svr,X,y,axes):\n",
    "    xls=np.linspace(axes[0],axes[1],100).reshape(100,1)\n",
    "    y_pred=svr.predict(xls)\n",
    "    plt.plot(xls, y_pred, \"-\")\n",
    "    plt.plot(xls, y_pred + svr.epsilon, \"--\")  \n",
    "    plt.plot(xls, y_pred - svr.epsilon, \"--\")\n",
    "    plt.plot(X, y, \"bo\")\n",
    "    plt.scatter(X[svr.support_], y[svr.support_], s=180, facecolors='#FFAAAA')\n",
    "    plt.axis(axes)\n",
    "plt.figure(figsize=(9, 4))  # width, height in inches\n",
    "plot_svr(svr, X, y, [0, 2, 3, 11]) #注意第一个参数改为自己的命名"
   ]
  },
  {
   "cell_type": "markdown",
   "metadata": {},
   "source": [
    "通过观察图像可以看出，SVR中的支持向量均位于容忍区域外侧"
   ]
  },
  {
   "cell_type": "markdown",
   "metadata": {},
   "source": [
    "**任务十 SVR：非线性回归**<br>\n",
    "非线性回归中，参数C越大，对错样本的惩罚程度越大，正则化项的作用会越小，模型越趋向于过拟合。\n",
    "反之，C越小，正则化效果越强，模型会更简单。\n",
    "在实验中同学们可以通过调整C参数观察回归结果的不同。"
   ]
  },
  {
   "cell_type": "code",
   "execution_count": 48,
   "metadata": {},
   "outputs": [
    {
     "output_type": "display_data",
     "data": {
      "text/plain": "<Figure size 648x288 with 1 Axes>",
      "image/svg+xml": "<?xml version=\"1.0\" encoding=\"utf-8\" standalone=\"no\"?>\r\n<!DOCTYPE svg PUBLIC \"-//W3C//DTD SVG 1.1//EN\"\r\n  \"http://www.w3.org/Graphics/SVG/1.1/DTD/svg11.dtd\">\r\n<!-- Created with matplotlib (https://matplotlib.org/) -->\r\n<svg height=\"252.317344pt\" version=\"1.1\" viewBox=\"0 0 550.635937 252.317344\" width=\"550.635937pt\" xmlns=\"http://www.w3.org/2000/svg\" xmlns:xlink=\"http://www.w3.org/1999/xlink\">\r\n <defs>\r\n  <style type=\"text/css\">\r\n*{stroke-linecap:butt;stroke-linejoin:round;}\r\n  </style>\r\n </defs>\r\n <g id=\"figure_1\">\r\n  <g id=\"patch_1\">\r\n   <path d=\"M 0 252.317344 \r\nL 550.635937 252.317344 \r\nL 550.635937 0 \r\nL 0 0 \r\nz\r\n\" style=\"fill:none;\"/>\r\n  </g>\r\n  <g id=\"axes_1\">\r\n   <g id=\"patch_2\">\r\n    <path d=\"M 30.103125 228.439219 \r\nL 532.303125 228.439219 \r\nL 532.303125 10.999219 \r\nL 30.103125 10.999219 \r\nz\r\n\" style=\"fill:#ffffff;\"/>\r\n   </g>\r\n   <g id=\"PathCollection_1\">\r\n    <defs>\r\n     <path d=\"M 0 6.708204 \r\nC 1.779036 6.708204 3.485448 6.001385 4.743416 4.743416 \r\nC 6.001385 3.485448 6.708204 1.779036 6.708204 0 \r\nC 6.708204 -1.779036 6.001385 -3.485448 4.743416 -4.743416 \r\nC 3.485448 -6.001385 1.779036 -6.708204 0 -6.708204 \r\nC -1.779036 -6.708204 -3.485448 -6.001385 -4.743416 -4.743416 \r\nC -6.001385 -3.485448 -6.708204 -1.779036 -6.708204 0 \r\nC -6.708204 1.779036 -6.001385 3.485448 -4.743416 4.743416 \r\nC -3.485448 6.001385 -1.779036 6.708204 0 6.708204 \r\nz\r\n\" id=\"m2b0130d62d\" style=\"stroke:#ffaaaa;\"/>\r\n    </defs>\r\n    <g clip-path=\"url(#p3957e275d8)\">\r\n     <use style=\"fill:#ffaaaa;stroke:#ffaaaa;\" x=\"330.749416\" xlink:href=\"#m2b0130d62d\" y=\"219.645554\"/>\r\n     <use style=\"fill:#ffaaaa;stroke:#ffaaaa;\" x=\"59.272715\" xlink:href=\"#m2b0130d62d\" y=\"87.106195\"/>\r\n     <use style=\"fill:#ffaaaa;stroke:#ffaaaa;\" x=\"176.358399\" xlink:href=\"#m2b0130d62d\" y=\"206.898552\"/>\r\n     <use style=\"fill:#ffaaaa;stroke:#ffaaaa;\" x=\"259.141471\" xlink:href=\"#m2b0130d62d\" y=\"216.798217\"/>\r\n     <use style=\"fill:#ffaaaa;stroke:#ffaaaa;\" x=\"335.21215\" xlink:href=\"#m2b0130d62d\" y=\"134.231306\"/>\r\n     <use style=\"fill:#ffaaaa;stroke:#ffaaaa;\" x=\"515.043532\" xlink:href=\"#m2b0130d62d\" y=\"112.135854\"/>\r\n     <use style=\"fill:#ffaaaa;stroke:#ffaaaa;\" x=\"79.154061\" xlink:href=\"#m2b0130d62d\" y=\"78.49388\"/>\r\n     <use style=\"fill:#ffaaaa;stroke:#ffaaaa;\" x=\"47.37304\" xlink:href=\"#m2b0130d62d\" y=\"86.070795\"/>\r\n     <use style=\"fill:#ffaaaa;stroke:#ffaaaa;\" x=\"186.644427\" xlink:href=\"#m2b0130d62d\" y=\"147.21949\"/>\r\n     <use style=\"fill:#ffaaaa;stroke:#ffaaaa;\" x=\"291.281285\" xlink:href=\"#m2b0130d62d\" y=\"214.385213\"/>\r\n     <use style=\"fill:#ffaaaa;stroke:#ffaaaa;\" x=\"122.937033\" xlink:href=\"#m2b0130d62d\" y=\"107.836148\"/>\r\n     <use style=\"fill:#ffaaaa;stroke:#ffaaaa;\" x=\"330.368494\" xlink:href=\"#m2b0130d62d\" y=\"210.243304\"/>\r\n     <use style=\"fill:#ffaaaa;stroke:#ffaaaa;\" x=\"74.54406\" xlink:href=\"#m2b0130d62d\" y=\"152.303696\"/>\r\n     <use style=\"fill:#ffaaaa;stroke:#ffaaaa;\" x=\"52.816269\" xlink:href=\"#m2b0130d62d\" y=\"134.779228\"/>\r\n     <use style=\"fill:#ffaaaa;stroke:#ffaaaa;\" x=\"193.484017\" xlink:href=\"#m2b0130d62d\" y=\"145.577511\"/>\r\n     <use style=\"fill:#ffaaaa;stroke:#ffaaaa;\" x=\"302.645098\" xlink:href=\"#m2b0130d62d\" y=\"153.879173\"/>\r\n     <use style=\"fill:#ffaaaa;stroke:#ffaaaa;\" x=\"100.875271\" xlink:href=\"#m2b0130d62d\" y=\"179.448389\"/>\r\n     <use style=\"fill:#ffaaaa;stroke:#ffaaaa;\" x=\"525.717745\" xlink:href=\"#m2b0130d62d\" y=\"43.685353\"/>\r\n     <use style=\"fill:#ffaaaa;stroke:#ffaaaa;\" x=\"417.924448\" xlink:href=\"#m2b0130d62d\" y=\"167.776\"/>\r\n     <use style=\"fill:#ffaaaa;stroke:#ffaaaa;\" x=\"129.89814\" xlink:href=\"#m2b0130d62d\" y=\"187.290448\"/>\r\n     <use style=\"fill:#ffaaaa;stroke:#ffaaaa;\" x=\"417.435093\" xlink:href=\"#m2b0130d62d\" y=\"155.938896\"/>\r\n     <use style=\"fill:#ffaaaa;stroke:#ffaaaa;\" x=\"463.553665\" xlink:href=\"#m2b0130d62d\" y=\"71.254815\"/>\r\n     <use style=\"fill:#ffaaaa;stroke:#ffaaaa;\" x=\"196.280113\" xlink:href=\"#m2b0130d62d\" y=\"205.773227\"/>\r\n     <use style=\"fill:#ffaaaa;stroke:#ffaaaa;\" x=\"396.511348\" xlink:href=\"#m2b0130d62d\" y=\"126.847166\"/>\r\n     <use style=\"fill:#ffaaaa;stroke:#ffaaaa;\" x=\"388.294657\" xlink:href=\"#m2b0130d62d\" y=\"114.658317\"/>\r\n     <use style=\"fill:#ffaaaa;stroke:#ffaaaa;\" x=\"417.282843\" xlink:href=\"#m2b0130d62d\" y=\"160.578713\"/>\r\n    </g>\r\n   </g>\r\n   <g id=\"matplotlib.axis_1\">\r\n    <g id=\"xtick_1\">\r\n     <g id=\"line2d_1\">\r\n      <defs>\r\n       <path d=\"M 0 0 \r\nL 0 3.5 \r\n\" id=\"m64842f6707\" style=\"stroke:#000000;stroke-width:0.8;\"/>\r\n      </defs>\r\n      <g>\r\n       <use style=\"stroke:#000000;stroke-width:0.8;\" x=\"30.103125\" xlink:href=\"#m64842f6707\" y=\"228.439219\"/>\r\n      </g>\r\n     </g>\r\n     <g id=\"text_1\">\r\n      <!-- −1.00 -->\r\n      <defs>\r\n       <path d=\"M 10.59375 35.5 \r\nL 73.1875 35.5 \r\nL 73.1875 27.203125 \r\nL 10.59375 27.203125 \r\nz\r\n\" id=\"DejaVuSans-8722\"/>\r\n       <path d=\"M 12.40625 8.296875 \r\nL 28.515625 8.296875 \r\nL 28.515625 63.921875 \r\nL 10.984375 60.40625 \r\nL 10.984375 69.390625 \r\nL 28.421875 72.90625 \r\nL 38.28125 72.90625 \r\nL 38.28125 8.296875 \r\nL 54.390625 8.296875 \r\nL 54.390625 0 \r\nL 12.40625 0 \r\nz\r\n\" id=\"DejaVuSans-49\"/>\r\n       <path d=\"M 10.6875 12.40625 \r\nL 21 12.40625 \r\nL 21 0 \r\nL 10.6875 0 \r\nz\r\n\" id=\"DejaVuSans-46\"/>\r\n       <path d=\"M 31.78125 66.40625 \r\nQ 24.171875 66.40625 20.328125 58.90625 \r\nQ 16.5 51.421875 16.5 36.375 \r\nQ 16.5 21.390625 20.328125 13.890625 \r\nQ 24.171875 6.390625 31.78125 6.390625 \r\nQ 39.453125 6.390625 43.28125 13.890625 \r\nQ 47.125 21.390625 47.125 36.375 \r\nQ 47.125 51.421875 43.28125 58.90625 \r\nQ 39.453125 66.40625 31.78125 66.40625 \r\nz\r\nM 31.78125 74.21875 \r\nQ 44.046875 74.21875 50.515625 64.515625 \r\nQ 56.984375 54.828125 56.984375 36.375 \r\nQ 56.984375 17.96875 50.515625 8.265625 \r\nQ 44.046875 -1.421875 31.78125 -1.421875 \r\nQ 19.53125 -1.421875 13.0625 8.265625 \r\nQ 6.59375 17.96875 6.59375 36.375 \r\nQ 6.59375 54.828125 13.0625 64.515625 \r\nQ 19.53125 74.21875 31.78125 74.21875 \r\nz\r\n\" id=\"DejaVuSans-48\"/>\r\n      </defs>\r\n      <g transform=\"translate(14.780469 243.037656)scale(0.1 -0.1)\">\r\n       <use xlink:href=\"#DejaVuSans-8722\"/>\r\n       <use x=\"83.789062\" xlink:href=\"#DejaVuSans-49\"/>\r\n       <use x=\"147.412109\" xlink:href=\"#DejaVuSans-46\"/>\r\n       <use x=\"179.199219\" xlink:href=\"#DejaVuSans-48\"/>\r\n       <use x=\"242.822266\" xlink:href=\"#DejaVuSans-48\"/>\r\n      </g>\r\n     </g>\r\n    </g>\r\n    <g id=\"xtick_2\">\r\n     <g id=\"line2d_2\">\r\n      <g>\r\n       <use style=\"stroke:#000000;stroke-width:0.8;\" x=\"92.878125\" xlink:href=\"#m64842f6707\" y=\"228.439219\"/>\r\n      </g>\r\n     </g>\r\n     <g id=\"text_2\">\r\n      <!-- −0.75 -->\r\n      <defs>\r\n       <path d=\"M 8.203125 72.90625 \r\nL 55.078125 72.90625 \r\nL 55.078125 68.703125 \r\nL 28.609375 0 \r\nL 18.3125 0 \r\nL 43.21875 64.59375 \r\nL 8.203125 64.59375 \r\nz\r\n\" id=\"DejaVuSans-55\"/>\r\n       <path d=\"M 10.796875 72.90625 \r\nL 49.515625 72.90625 \r\nL 49.515625 64.59375 \r\nL 19.828125 64.59375 \r\nL 19.828125 46.734375 \r\nQ 21.96875 47.46875 24.109375 47.828125 \r\nQ 26.265625 48.1875 28.421875 48.1875 \r\nQ 40.625 48.1875 47.75 41.5 \r\nQ 54.890625 34.8125 54.890625 23.390625 \r\nQ 54.890625 11.625 47.5625 5.09375 \r\nQ 40.234375 -1.421875 26.90625 -1.421875 \r\nQ 22.3125 -1.421875 17.546875 -0.640625 \r\nQ 12.796875 0.140625 7.71875 1.703125 \r\nL 7.71875 11.625 \r\nQ 12.109375 9.234375 16.796875 8.0625 \r\nQ 21.484375 6.890625 26.703125 6.890625 \r\nQ 35.15625 6.890625 40.078125 11.328125 \r\nQ 45.015625 15.765625 45.015625 23.390625 \r\nQ 45.015625 31 40.078125 35.4375 \r\nQ 35.15625 39.890625 26.703125 39.890625 \r\nQ 22.75 39.890625 18.8125 39.015625 \r\nQ 14.890625 38.140625 10.796875 36.28125 \r\nz\r\n\" id=\"DejaVuSans-53\"/>\r\n      </defs>\r\n      <g transform=\"translate(77.555469 243.037656)scale(0.1 -0.1)\">\r\n       <use xlink:href=\"#DejaVuSans-8722\"/>\r\n       <use x=\"83.789062\" xlink:href=\"#DejaVuSans-48\"/>\r\n       <use x=\"147.412109\" xlink:href=\"#DejaVuSans-46\"/>\r\n       <use x=\"179.199219\" xlink:href=\"#DejaVuSans-55\"/>\r\n       <use x=\"242.822266\" xlink:href=\"#DejaVuSans-53\"/>\r\n      </g>\r\n     </g>\r\n    </g>\r\n    <g id=\"xtick_3\">\r\n     <g id=\"line2d_3\">\r\n      <g>\r\n       <use style=\"stroke:#000000;stroke-width:0.8;\" x=\"155.653125\" xlink:href=\"#m64842f6707\" y=\"228.439219\"/>\r\n      </g>\r\n     </g>\r\n     <g id=\"text_3\">\r\n      <!-- −0.50 -->\r\n      <g transform=\"translate(140.330469 243.037656)scale(0.1 -0.1)\">\r\n       <use xlink:href=\"#DejaVuSans-8722\"/>\r\n       <use x=\"83.789062\" xlink:href=\"#DejaVuSans-48\"/>\r\n       <use x=\"147.412109\" xlink:href=\"#DejaVuSans-46\"/>\r\n       <use x=\"179.199219\" xlink:href=\"#DejaVuSans-53\"/>\r\n       <use x=\"242.822266\" xlink:href=\"#DejaVuSans-48\"/>\r\n      </g>\r\n     </g>\r\n    </g>\r\n    <g id=\"xtick_4\">\r\n     <g id=\"line2d_4\">\r\n      <g>\r\n       <use style=\"stroke:#000000;stroke-width:0.8;\" x=\"218.428125\" xlink:href=\"#m64842f6707\" y=\"228.439219\"/>\r\n      </g>\r\n     </g>\r\n     <g id=\"text_4\">\r\n      <!-- −0.25 -->\r\n      <defs>\r\n       <path d=\"M 19.1875 8.296875 \r\nL 53.609375 8.296875 \r\nL 53.609375 0 \r\nL 7.328125 0 \r\nL 7.328125 8.296875 \r\nQ 12.9375 14.109375 22.625 23.890625 \r\nQ 32.328125 33.6875 34.8125 36.53125 \r\nQ 39.546875 41.84375 41.421875 45.53125 \r\nQ 43.3125 49.21875 43.3125 52.78125 \r\nQ 43.3125 58.59375 39.234375 62.25 \r\nQ 35.15625 65.921875 28.609375 65.921875 \r\nQ 23.96875 65.921875 18.8125 64.3125 \r\nQ 13.671875 62.703125 7.8125 59.421875 \r\nL 7.8125 69.390625 \r\nQ 13.765625 71.78125 18.9375 73 \r\nQ 24.125 74.21875 28.421875 74.21875 \r\nQ 39.75 74.21875 46.484375 68.546875 \r\nQ 53.21875 62.890625 53.21875 53.421875 \r\nQ 53.21875 48.921875 51.53125 44.890625 \r\nQ 49.859375 40.875 45.40625 35.40625 \r\nQ 44.1875 33.984375 37.640625 27.21875 \r\nQ 31.109375 20.453125 19.1875 8.296875 \r\nz\r\n\" id=\"DejaVuSans-50\"/>\r\n      </defs>\r\n      <g transform=\"translate(203.105469 243.037656)scale(0.1 -0.1)\">\r\n       <use xlink:href=\"#DejaVuSans-8722\"/>\r\n       <use x=\"83.789062\" xlink:href=\"#DejaVuSans-48\"/>\r\n       <use x=\"147.412109\" xlink:href=\"#DejaVuSans-46\"/>\r\n       <use x=\"179.199219\" xlink:href=\"#DejaVuSans-50\"/>\r\n       <use x=\"242.822266\" xlink:href=\"#DejaVuSans-53\"/>\r\n      </g>\r\n     </g>\r\n    </g>\r\n    <g id=\"xtick_5\">\r\n     <g id=\"line2d_5\">\r\n      <g>\r\n       <use style=\"stroke:#000000;stroke-width:0.8;\" x=\"281.203125\" xlink:href=\"#m64842f6707\" y=\"228.439219\"/>\r\n      </g>\r\n     </g>\r\n     <g id=\"text_5\">\r\n      <!-- 0.00 -->\r\n      <g transform=\"translate(270.070312 243.037656)scale(0.1 -0.1)\">\r\n       <use xlink:href=\"#DejaVuSans-48\"/>\r\n       <use x=\"63.623047\" xlink:href=\"#DejaVuSans-46\"/>\r\n       <use x=\"95.410156\" xlink:href=\"#DejaVuSans-48\"/>\r\n       <use x=\"159.033203\" xlink:href=\"#DejaVuSans-48\"/>\r\n      </g>\r\n     </g>\r\n    </g>\r\n    <g id=\"xtick_6\">\r\n     <g id=\"line2d_6\">\r\n      <g>\r\n       <use style=\"stroke:#000000;stroke-width:0.8;\" x=\"343.978125\" xlink:href=\"#m64842f6707\" y=\"228.439219\"/>\r\n      </g>\r\n     </g>\r\n     <g id=\"text_6\">\r\n      <!-- 0.25 -->\r\n      <g transform=\"translate(332.845312 243.037656)scale(0.1 -0.1)\">\r\n       <use xlink:href=\"#DejaVuSans-48\"/>\r\n       <use x=\"63.623047\" xlink:href=\"#DejaVuSans-46\"/>\r\n       <use x=\"95.410156\" xlink:href=\"#DejaVuSans-50\"/>\r\n       <use x=\"159.033203\" xlink:href=\"#DejaVuSans-53\"/>\r\n      </g>\r\n     </g>\r\n    </g>\r\n    <g id=\"xtick_7\">\r\n     <g id=\"line2d_7\">\r\n      <g>\r\n       <use style=\"stroke:#000000;stroke-width:0.8;\" x=\"406.753125\" xlink:href=\"#m64842f6707\" y=\"228.439219\"/>\r\n      </g>\r\n     </g>\r\n     <g id=\"text_7\">\r\n      <!-- 0.50 -->\r\n      <g transform=\"translate(395.620313 243.037656)scale(0.1 -0.1)\">\r\n       <use xlink:href=\"#DejaVuSans-48\"/>\r\n       <use x=\"63.623047\" xlink:href=\"#DejaVuSans-46\"/>\r\n       <use x=\"95.410156\" xlink:href=\"#DejaVuSans-53\"/>\r\n       <use x=\"159.033203\" xlink:href=\"#DejaVuSans-48\"/>\r\n      </g>\r\n     </g>\r\n    </g>\r\n    <g id=\"xtick_8\">\r\n     <g id=\"line2d_8\">\r\n      <g>\r\n       <use style=\"stroke:#000000;stroke-width:0.8;\" x=\"469.528125\" xlink:href=\"#m64842f6707\" y=\"228.439219\"/>\r\n      </g>\r\n     </g>\r\n     <g id=\"text_8\">\r\n      <!-- 0.75 -->\r\n      <g transform=\"translate(458.395313 243.037656)scale(0.1 -0.1)\">\r\n       <use xlink:href=\"#DejaVuSans-48\"/>\r\n       <use x=\"63.623047\" xlink:href=\"#DejaVuSans-46\"/>\r\n       <use x=\"95.410156\" xlink:href=\"#DejaVuSans-55\"/>\r\n       <use x=\"159.033203\" xlink:href=\"#DejaVuSans-53\"/>\r\n      </g>\r\n     </g>\r\n    </g>\r\n    <g id=\"xtick_9\">\r\n     <g id=\"line2d_9\">\r\n      <g>\r\n       <use style=\"stroke:#000000;stroke-width:0.8;\" x=\"532.303125\" xlink:href=\"#m64842f6707\" y=\"228.439219\"/>\r\n      </g>\r\n     </g>\r\n     <g id=\"text_9\">\r\n      <!-- 1.00 -->\r\n      <g transform=\"translate(521.170313 243.037656)scale(0.1 -0.1)\">\r\n       <use xlink:href=\"#DejaVuSans-49\"/>\r\n       <use x=\"63.623047\" xlink:href=\"#DejaVuSans-46\"/>\r\n       <use x=\"95.410156\" xlink:href=\"#DejaVuSans-48\"/>\r\n       <use x=\"159.033203\" xlink:href=\"#DejaVuSans-48\"/>\r\n      </g>\r\n     </g>\r\n    </g>\r\n   </g>\r\n   <g id=\"matplotlib.axis_2\">\r\n    <g id=\"ytick_1\">\r\n     <g id=\"line2d_10\">\r\n      <defs>\r\n       <path d=\"M 0 0 \r\nL -3.5 0 \r\n\" id=\"m858d02c9b8\" style=\"stroke:#000000;stroke-width:0.8;\"/>\r\n      </defs>\r\n      <g>\r\n       <use style=\"stroke:#000000;stroke-width:0.8;\" x=\"30.103125\" xlink:href=\"#m858d02c9b8\" y=\"228.439219\"/>\r\n      </g>\r\n     </g>\r\n     <g id=\"text_10\">\r\n      <!-- 0.0 -->\r\n      <g transform=\"translate(7.2 232.238437)scale(0.1 -0.1)\">\r\n       <use xlink:href=\"#DejaVuSans-48\"/>\r\n       <use x=\"63.623047\" xlink:href=\"#DejaVuSans-46\"/>\r\n       <use x=\"95.410156\" xlink:href=\"#DejaVuSans-48\"/>\r\n      </g>\r\n     </g>\r\n    </g>\r\n    <g id=\"ytick_2\">\r\n     <g id=\"line2d_11\">\r\n      <g>\r\n       <use style=\"stroke:#000000;stroke-width:0.8;\" x=\"30.103125\" xlink:href=\"#m858d02c9b8\" y=\"184.951219\"/>\r\n      </g>\r\n     </g>\r\n     <g id=\"text_11\">\r\n      <!-- 0.2 -->\r\n      <g transform=\"translate(7.2 188.750437)scale(0.1 -0.1)\">\r\n       <use xlink:href=\"#DejaVuSans-48\"/>\r\n       <use x=\"63.623047\" xlink:href=\"#DejaVuSans-46\"/>\r\n       <use x=\"95.410156\" xlink:href=\"#DejaVuSans-50\"/>\r\n      </g>\r\n     </g>\r\n    </g>\r\n    <g id=\"ytick_3\">\r\n     <g id=\"line2d_12\">\r\n      <g>\r\n       <use style=\"stroke:#000000;stroke-width:0.8;\" x=\"30.103125\" xlink:href=\"#m858d02c9b8\" y=\"141.463219\"/>\r\n      </g>\r\n     </g>\r\n     <g id=\"text_12\">\r\n      <!-- 0.4 -->\r\n      <defs>\r\n       <path d=\"M 37.796875 64.3125 \r\nL 12.890625 25.390625 \r\nL 37.796875 25.390625 \r\nz\r\nM 35.203125 72.90625 \r\nL 47.609375 72.90625 \r\nL 47.609375 25.390625 \r\nL 58.015625 25.390625 \r\nL 58.015625 17.1875 \r\nL 47.609375 17.1875 \r\nL 47.609375 0 \r\nL 37.796875 0 \r\nL 37.796875 17.1875 \r\nL 4.890625 17.1875 \r\nL 4.890625 26.703125 \r\nz\r\n\" id=\"DejaVuSans-52\"/>\r\n      </defs>\r\n      <g transform=\"translate(7.2 145.262437)scale(0.1 -0.1)\">\r\n       <use xlink:href=\"#DejaVuSans-48\"/>\r\n       <use x=\"63.623047\" xlink:href=\"#DejaVuSans-46\"/>\r\n       <use x=\"95.410156\" xlink:href=\"#DejaVuSans-52\"/>\r\n      </g>\r\n     </g>\r\n    </g>\r\n    <g id=\"ytick_4\">\r\n     <g id=\"line2d_13\">\r\n      <g>\r\n       <use style=\"stroke:#000000;stroke-width:0.8;\" x=\"30.103125\" xlink:href=\"#m858d02c9b8\" y=\"97.975219\"/>\r\n      </g>\r\n     </g>\r\n     <g id=\"text_13\">\r\n      <!-- 0.6 -->\r\n      <defs>\r\n       <path d=\"M 33.015625 40.375 \r\nQ 26.375 40.375 22.484375 35.828125 \r\nQ 18.609375 31.296875 18.609375 23.390625 \r\nQ 18.609375 15.53125 22.484375 10.953125 \r\nQ 26.375 6.390625 33.015625 6.390625 \r\nQ 39.65625 6.390625 43.53125 10.953125 \r\nQ 47.40625 15.53125 47.40625 23.390625 \r\nQ 47.40625 31.296875 43.53125 35.828125 \r\nQ 39.65625 40.375 33.015625 40.375 \r\nz\r\nM 52.59375 71.296875 \r\nL 52.59375 62.3125 \r\nQ 48.875 64.0625 45.09375 64.984375 \r\nQ 41.3125 65.921875 37.59375 65.921875 \r\nQ 27.828125 65.921875 22.671875 59.328125 \r\nQ 17.53125 52.734375 16.796875 39.40625 \r\nQ 19.671875 43.65625 24.015625 45.921875 \r\nQ 28.375 48.1875 33.59375 48.1875 \r\nQ 44.578125 48.1875 50.953125 41.515625 \r\nQ 57.328125 34.859375 57.328125 23.390625 \r\nQ 57.328125 12.15625 50.6875 5.359375 \r\nQ 44.046875 -1.421875 33.015625 -1.421875 \r\nQ 20.359375 -1.421875 13.671875 8.265625 \r\nQ 6.984375 17.96875 6.984375 36.375 \r\nQ 6.984375 53.65625 15.1875 63.9375 \r\nQ 23.390625 74.21875 37.203125 74.21875 \r\nQ 40.921875 74.21875 44.703125 73.484375 \r\nQ 48.484375 72.75 52.59375 71.296875 \r\nz\r\n\" id=\"DejaVuSans-54\"/>\r\n      </defs>\r\n      <g transform=\"translate(7.2 101.774437)scale(0.1 -0.1)\">\r\n       <use xlink:href=\"#DejaVuSans-48\"/>\r\n       <use x=\"63.623047\" xlink:href=\"#DejaVuSans-46\"/>\r\n       <use x=\"95.410156\" xlink:href=\"#DejaVuSans-54\"/>\r\n      </g>\r\n     </g>\r\n    </g>\r\n    <g id=\"ytick_5\">\r\n     <g id=\"line2d_14\">\r\n      <g>\r\n       <use style=\"stroke:#000000;stroke-width:0.8;\" x=\"30.103125\" xlink:href=\"#m858d02c9b8\" y=\"54.487219\"/>\r\n      </g>\r\n     </g>\r\n     <g id=\"text_14\">\r\n      <!-- 0.8 -->\r\n      <defs>\r\n       <path d=\"M 31.78125 34.625 \r\nQ 24.75 34.625 20.71875 30.859375 \r\nQ 16.703125 27.09375 16.703125 20.515625 \r\nQ 16.703125 13.921875 20.71875 10.15625 \r\nQ 24.75 6.390625 31.78125 6.390625 \r\nQ 38.8125 6.390625 42.859375 10.171875 \r\nQ 46.921875 13.96875 46.921875 20.515625 \r\nQ 46.921875 27.09375 42.890625 30.859375 \r\nQ 38.875 34.625 31.78125 34.625 \r\nz\r\nM 21.921875 38.8125 \r\nQ 15.578125 40.375 12.03125 44.71875 \r\nQ 8.5 49.078125 8.5 55.328125 \r\nQ 8.5 64.0625 14.71875 69.140625 \r\nQ 20.953125 74.21875 31.78125 74.21875 \r\nQ 42.671875 74.21875 48.875 69.140625 \r\nQ 55.078125 64.0625 55.078125 55.328125 \r\nQ 55.078125 49.078125 51.53125 44.71875 \r\nQ 48 40.375 41.703125 38.8125 \r\nQ 48.828125 37.15625 52.796875 32.3125 \r\nQ 56.78125 27.484375 56.78125 20.515625 \r\nQ 56.78125 9.90625 50.3125 4.234375 \r\nQ 43.84375 -1.421875 31.78125 -1.421875 \r\nQ 19.734375 -1.421875 13.25 4.234375 \r\nQ 6.78125 9.90625 6.78125 20.515625 \r\nQ 6.78125 27.484375 10.78125 32.3125 \r\nQ 14.796875 37.15625 21.921875 38.8125 \r\nz\r\nM 18.3125 54.390625 \r\nQ 18.3125 48.734375 21.84375 45.5625 \r\nQ 25.390625 42.390625 31.78125 42.390625 \r\nQ 38.140625 42.390625 41.71875 45.5625 \r\nQ 45.3125 48.734375 45.3125 54.390625 \r\nQ 45.3125 60.0625 41.71875 63.234375 \r\nQ 38.140625 66.40625 31.78125 66.40625 \r\nQ 25.390625 66.40625 21.84375 63.234375 \r\nQ 18.3125 60.0625 18.3125 54.390625 \r\nz\r\n\" id=\"DejaVuSans-56\"/>\r\n      </defs>\r\n      <g transform=\"translate(7.2 58.286437)scale(0.1 -0.1)\">\r\n       <use xlink:href=\"#DejaVuSans-48\"/>\r\n       <use x=\"63.623047\" xlink:href=\"#DejaVuSans-46\"/>\r\n       <use x=\"95.410156\" xlink:href=\"#DejaVuSans-56\"/>\r\n      </g>\r\n     </g>\r\n    </g>\r\n    <g id=\"ytick_6\">\r\n     <g id=\"line2d_15\">\r\n      <g>\r\n       <use style=\"stroke:#000000;stroke-width:0.8;\" x=\"30.103125\" xlink:href=\"#m858d02c9b8\" y=\"10.999219\"/>\r\n      </g>\r\n     </g>\r\n     <g id=\"text_15\">\r\n      <!-- 1.0 -->\r\n      <g transform=\"translate(7.2 14.798437)scale(0.1 -0.1)\">\r\n       <use xlink:href=\"#DejaVuSans-49\"/>\r\n       <use x=\"63.623047\" xlink:href=\"#DejaVuSans-46\"/>\r\n       <use x=\"95.410156\" xlink:href=\"#DejaVuSans-48\"/>\r\n      </g>\r\n     </g>\r\n    </g>\r\n   </g>\r\n   <g id=\"line2d_16\">\r\n    <path clip-path=\"url(#p3957e275d8)\" d=\"M 30.103125 99.309467 \r\nL 35.175852 101.662739 \r\nL 40.24858 104.159532 \r\nL 45.321307 106.78748 \r\nL 50.394034 109.53325 \r\nL 55.466761 112.38271 \r\nL 60.539489 115.321111 \r\nL 65.612216 118.333288 \r\nL 70.684943 121.403846 \r\nL 75.75767 124.517362 \r\nL 80.830398 127.658573 \r\nL 85.903125 130.812561 \r\nL 90.975852 133.964926 \r\nL 96.04858 137.101941 \r\nL 101.121307 140.210691 \r\nL 106.194034 143.279195 \r\nL 111.266761 146.296498 \r\nL 116.339489 149.252745 \r\nL 121.412216 152.139226 \r\nL 126.484943 154.948401 \r\nL 131.55767 157.673893 \r\nL 136.630398 160.310462 \r\nL 141.703125 162.853956 \r\nL 146.775852 165.301237 \r\nL 151.84858 167.650095 \r\nL 156.921307 169.899146 \r\nL 161.994034 172.047711 \r\nL 167.066761 174.095698 \r\nL 172.139489 176.043469 \r\nL 177.212216 177.891708 \r\nL 182.284943 179.641299 \r\nL 187.35767 181.293194 \r\nL 192.430398 182.848306 \r\nL 197.503125 184.307399 \r\nL 202.575852 185.670999 \r\nL 207.64858 186.939318 \r\nL 212.721307 188.112193 \r\nL 217.794034 189.189045 \r\nL 222.866761 190.168851 \r\nL 227.939489 191.050137 \r\nL 233.012216 191.830983 \r\nL 238.084943 192.50905 \r\nL 243.15767 193.081616 \r\nL 248.230398 193.545621 \r\nL 253.303125 193.897732 \r\nL 258.375852 194.134403 \r\nL 263.44858 194.251955 \r\nL 268.521307 194.246649 \r\nL 273.594034 194.11476 \r\nL 278.666761 193.85266 \r\nL 283.739489 193.456891 \r\nL 288.812216 192.924234 \r\nL 293.884943 192.251776 \r\nL 298.95767 191.436968 \r\nL 304.030398 190.477681 \r\nL 309.103125 189.37225 \r\nL 314.175852 188.11951 \r\nL 319.24858 186.718833 \r\nL 324.321307 185.170148 \r\nL 329.394034 183.473962 \r\nL 334.466761 181.631378 \r\nL 339.539489 179.644098 \r\nL 344.612216 177.514436 \r\nL 349.684943 175.245316 \r\nL 354.75767 172.840282 \r\nL 359.830398 170.303491 \r\nL 364.903125 167.639721 \r\nL 369.975852 164.854366 \r\nL 375.04858 161.953438 \r\nL 380.121307 158.94357 \r\nL 385.194034 155.832008 \r\nL 390.266761 152.626617 \r\nL 395.339489 149.335874 \r\nL 400.412216 145.968861 \r\nL 405.484943 142.535256 \r\nL 410.55767 139.045321 \r\nL 415.630398 135.509877 \r\nL 420.703125 131.940286 \r\nL 425.775852 128.348407 \r\nL 430.84858 124.746563 \r\nL 435.921307 121.147487 \r\nL 440.994034 117.56426 \r\nL 446.066761 114.010245 \r\nL 451.139489 110.499009 \r\nL 456.212216 107.044233 \r\nL 461.284943 103.659617 \r\nL 466.35767 100.358782 \r\nL 471.430398 97.155156 \r\nL 476.503125 94.061862 \r\nL 481.575852 91.091608 \r\nL 486.64858 88.256559 \r\nL 491.721307 85.56823 \r\nL 496.794034 83.03737 \r\nL 501.866761 80.67385 \r\nL 506.939489 78.486565 \r\nL 512.012216 76.483339 \r\nL 517.084943 74.670843 \r\nL 522.15767 73.054523 \r\nL 527.230398 71.638545 \r\nL 532.303125 70.425748 \r\n\" style=\"fill:none;stroke:#1f77b4;stroke-linecap:square;stroke-width:1.5;\"/>\r\n   </g>\r\n   <g id=\"line2d_17\">\r\n    <path clip-path=\"url(#p3957e275d8)\" d=\"M 30.103125 77.565467 \r\nL 35.175852 79.918739 \r\nL 40.24858 82.415532 \r\nL 45.321307 85.04348 \r\nL 50.394034 87.78925 \r\nL 55.466761 90.63871 \r\nL 60.539489 93.577111 \r\nL 65.612216 96.589288 \r\nL 70.684943 99.659846 \r\nL 75.75767 102.773362 \r\nL 80.830398 105.914573 \r\nL 85.903125 109.068561 \r\nL 90.975852 112.220926 \r\nL 96.04858 115.357941 \r\nL 101.121307 118.466691 \r\nL 106.194034 121.535195 \r\nL 111.266761 124.552498 \r\nL 116.339489 127.508745 \r\nL 121.412216 130.395226 \r\nL 126.484943 133.204401 \r\nL 131.55767 135.929893 \r\nL 136.630398 138.566462 \r\nL 141.703125 141.109956 \r\nL 146.775852 143.557237 \r\nL 151.84858 145.906095 \r\nL 156.921307 148.155146 \r\nL 161.994034 150.303711 \r\nL 167.066761 152.351698 \r\nL 172.139489 154.299469 \r\nL 177.212216 156.147708 \r\nL 182.284943 157.897299 \r\nL 187.35767 159.549194 \r\nL 192.430398 161.104306 \r\nL 197.503125 162.563399 \r\nL 202.575852 163.926999 \r\nL 207.64858 165.195318 \r\nL 212.721307 166.368193 \r\nL 217.794034 167.445045 \r\nL 222.866761 168.424851 \r\nL 227.939489 169.306137 \r\nL 233.012216 170.086983 \r\nL 238.084943 170.76505 \r\nL 243.15767 171.337616 \r\nL 248.230398 171.801621 \r\nL 253.303125 172.153732 \r\nL 258.375852 172.390403 \r\nL 263.44858 172.507955 \r\nL 268.521307 172.502649 \r\nL 273.594034 172.37076 \r\nL 278.666761 172.10866 \r\nL 283.739489 171.712891 \r\nL 288.812216 171.180234 \r\nL 293.884943 170.507776 \r\nL 298.95767 169.692968 \r\nL 304.030398 168.733681 \r\nL 309.103125 167.62825 \r\nL 314.175852 166.37551 \r\nL 319.24858 164.974833 \r\nL 324.321307 163.426148 \r\nL 329.394034 161.729962 \r\nL 334.466761 159.887378 \r\nL 339.539489 157.900098 \r\nL 344.612216 155.770436 \r\nL 349.684943 153.501316 \r\nL 354.75767 151.096282 \r\nL 359.830398 148.559491 \r\nL 364.903125 145.895721 \r\nL 369.975852 143.110366 \r\nL 375.04858 140.209438 \r\nL 380.121307 137.19957 \r\nL 385.194034 134.088008 \r\nL 390.266761 130.882617 \r\nL 395.339489 127.591874 \r\nL 400.412216 124.224861 \r\nL 405.484943 120.791256 \r\nL 410.55767 117.301321 \r\nL 415.630398 113.765877 \r\nL 420.703125 110.196286 \r\nL 425.775852 106.604407 \r\nL 430.84858 103.002563 \r\nL 435.921307 99.403487 \r\nL 440.994034 95.82026 \r\nL 446.066761 92.266245 \r\nL 451.139489 88.755009 \r\nL 456.212216 85.300233 \r\nL 461.284943 81.915617 \r\nL 466.35767 78.614782 \r\nL 471.430398 75.411156 \r\nL 476.503125 72.317862 \r\nL 481.575852 69.347608 \r\nL 486.64858 66.512559 \r\nL 491.721307 63.82423 \r\nL 496.794034 61.29337 \r\nL 501.866761 58.92985 \r\nL 506.939489 56.742565 \r\nL 512.012216 54.739339 \r\nL 517.084943 52.926843 \r\nL 522.15767 51.310523 \r\nL 527.230398 49.894545 \r\nL 532.303125 48.681748 \r\n\" style=\"fill:none;stroke:#ff7f0e;stroke-dasharray:5.55,2.4;stroke-dashoffset:0;stroke-width:1.5;\"/>\r\n   </g>\r\n   <g id=\"line2d_18\">\r\n    <path clip-path=\"url(#p3957e275d8)\" d=\"M 30.103125 121.053467 \r\nL 35.175852 123.406739 \r\nL 40.24858 125.903532 \r\nL 45.321307 128.53148 \r\nL 50.394034 131.27725 \r\nL 55.466761 134.12671 \r\nL 60.539489 137.065111 \r\nL 65.612216 140.077288 \r\nL 70.684943 143.147846 \r\nL 75.75767 146.261362 \r\nL 80.830398 149.402573 \r\nL 85.903125 152.556561 \r\nL 90.975852 155.708926 \r\nL 96.04858 158.845941 \r\nL 101.121307 161.954691 \r\nL 106.194034 165.023195 \r\nL 111.266761 168.040498 \r\nL 116.339489 170.996745 \r\nL 121.412216 173.883226 \r\nL 126.484943 176.692401 \r\nL 131.55767 179.417893 \r\nL 136.630398 182.054462 \r\nL 141.703125 184.597956 \r\nL 146.775852 187.045237 \r\nL 151.84858 189.394095 \r\nL 156.921307 191.643146 \r\nL 161.994034 193.791711 \r\nL 167.066761 195.839698 \r\nL 172.139489 197.787469 \r\nL 177.212216 199.635708 \r\nL 182.284943 201.385299 \r\nL 187.35767 203.037194 \r\nL 192.430398 204.592306 \r\nL 197.503125 206.051399 \r\nL 202.575852 207.414999 \r\nL 207.64858 208.683318 \r\nL 212.721307 209.856193 \r\nL 217.794034 210.933045 \r\nL 222.866761 211.912851 \r\nL 227.939489 212.794137 \r\nL 233.012216 213.574983 \r\nL 238.084943 214.25305 \r\nL 243.15767 214.825616 \r\nL 248.230398 215.289621 \r\nL 253.303125 215.641732 \r\nL 258.375852 215.878403 \r\nL 263.44858 215.995955 \r\nL 268.521307 215.990649 \r\nL 273.594034 215.85876 \r\nL 278.666761 215.59666 \r\nL 283.739489 215.200891 \r\nL 288.812216 214.668234 \r\nL 293.884943 213.995776 \r\nL 298.95767 213.180968 \r\nL 304.030398 212.221681 \r\nL 309.103125 211.11625 \r\nL 314.175852 209.86351 \r\nL 319.24858 208.462833 \r\nL 324.321307 206.914148 \r\nL 329.394034 205.217962 \r\nL 334.466761 203.375378 \r\nL 339.539489 201.388098 \r\nL 344.612216 199.258436 \r\nL 349.684943 196.989316 \r\nL 354.75767 194.584282 \r\nL 359.830398 192.047491 \r\nL 364.903125 189.383721 \r\nL 369.975852 186.598366 \r\nL 375.04858 183.697438 \r\nL 380.121307 180.68757 \r\nL 385.194034 177.576008 \r\nL 390.266761 174.370617 \r\nL 395.339489 171.079874 \r\nL 400.412216 167.712861 \r\nL 405.484943 164.279256 \r\nL 410.55767 160.789321 \r\nL 415.630398 157.253877 \r\nL 420.703125 153.684286 \r\nL 425.775852 150.092407 \r\nL 430.84858 146.490563 \r\nL 435.921307 142.891487 \r\nL 440.994034 139.30826 \r\nL 446.066761 135.754245 \r\nL 451.139489 132.243009 \r\nL 456.212216 128.788233 \r\nL 461.284943 125.403617 \r\nL 466.35767 122.102782 \r\nL 471.430398 118.899156 \r\nL 476.503125 115.805862 \r\nL 481.575852 112.835608 \r\nL 486.64858 110.000559 \r\nL 491.721307 107.31223 \r\nL 496.794034 104.78137 \r\nL 501.866761 102.41785 \r\nL 506.939489 100.230565 \r\nL 512.012216 98.227339 \r\nL 517.084943 96.414843 \r\nL 522.15767 94.798523 \r\nL 527.230398 93.382545 \r\nL 532.303125 92.169748 \r\n\" style=\"fill:none;stroke:#2ca02c;stroke-dasharray:5.55,2.4;stroke-dashoffset:0;stroke-width:1.5;\"/>\r\n   </g>\r\n   <g id=\"line2d_19\">\r\n    <defs>\r\n     <path d=\"M 0 3 \r\nC 0.795609 3 1.55874 2.683901 2.12132 2.12132 \r\nC 2.683901 1.55874 3 0.795609 3 0 \r\nC 3 -0.795609 2.683901 -1.55874 2.12132 -2.12132 \r\nC 1.55874 -2.683901 0.795609 -3 0 -3 \r\nC -0.795609 -3 -1.55874 -2.683901 -2.12132 -2.12132 \r\nC -2.683901 -1.55874 -3 -0.795609 -3 0 \r\nC -3 0.795609 -2.683901 1.55874 -2.12132 2.12132 \r\nC -1.55874 2.683901 -0.795609 3 0 3 \r\nz\r\n\" id=\"mb34814eee6\" style=\"stroke:#0000ff;\"/>\r\n    </defs>\r\n    <g clip-path=\"url(#p3957e275d8)\">\r\n     <use style=\"fill:#0000ff;stroke:#0000ff;\" x=\"218.197173\" xlink:href=\"#mb34814eee6\" y=\"181.669376\"/>\r\n     <use style=\"fill:#0000ff;stroke:#0000ff;\" x=\"507.55185\" xlink:href=\"#mb34814eee6\" y=\"83.509175\"/>\r\n     <use style=\"fill:#0000ff;stroke:#0000ff;\" x=\"397.710483\" xlink:href=\"#mb34814eee6\" y=\"149.461261\"/>\r\n     <use style=\"fill:#0000ff;stroke:#0000ff;\" x=\"330.749416\" xlink:href=\"#mb34814eee6\" y=\"219.645554\"/>\r\n     <use style=\"fill:#0000ff;stroke:#0000ff;\" x=\"108.455686\" xlink:href=\"#mb34814eee6\" y=\"153.230443\"/>\r\n     <use style=\"fill:#0000ff;stroke:#0000ff;\" x=\"108.443573\" xlink:href=\"#mb34814eee6\" y=\"140.682674\"/>\r\n     <use style=\"fill:#0000ff;stroke:#0000ff;\" x=\"59.272715\" xlink:href=\"#mb34814eee6\" y=\"87.106195\"/>\r\n     <use style=\"fill:#0000ff;stroke:#0000ff;\" x=\"465.096785\" xlink:href=\"#mb34814eee6\" y=\"121.985347\"/>\r\n     <use style=\"fill:#0000ff;stroke:#0000ff;\" x=\"331.983084\" xlink:href=\"#mb34814eee6\" y=\"193.687494\"/>\r\n     <use style=\"fill:#0000ff;stroke:#0000ff;\" x=\"385.697174\" xlink:href=\"#mb34814eee6\" y=\"167.984983\"/>\r\n     <use style=\"fill:#0000ff;stroke:#0000ff;\" x=\"40.440658\" xlink:href=\"#mb34814eee6\" y=\"85.943054\"/>\r\n     <use style=\"fill:#0000ff;stroke:#0000ff;\" x=\"517.191853\" xlink:href=\"#mb34814eee6\" y=\"61.339271\"/>\r\n     <use style=\"fill:#0000ff;stroke:#0000ff;\" x=\"448.155819\" xlink:href=\"#mb34814eee6\" y=\"133.950944\"/>\r\n     <use style=\"fill:#0000ff;stroke:#0000ff;\" x=\"136.739826\" xlink:href=\"#mb34814eee6\" y=\"150.314736\"/>\r\n     <use style=\"fill:#0000ff;stroke:#0000ff;\" x=\"121.415624\" xlink:href=\"#mb34814eee6\" y=\"152.651931\"/>\r\n     <use style=\"fill:#0000ff;stroke:#0000ff;\" x=\"122.20887\" xlink:href=\"#mb34814eee6\" y=\"134.067908\"/>\r\n     <use style=\"fill:#0000ff;stroke:#0000ff;\" x=\"182.893579\" xlink:href=\"#mb34814eee6\" y=\"192.064695\"/>\r\n     <use style=\"fill:#0000ff;stroke:#0000ff;\" x=\"293.635805\" xlink:href=\"#mb34814eee6\" y=\"190.732767\"/>\r\n     <use style=\"fill:#0000ff;stroke:#0000ff;\" x=\"247.025913\" xlink:href=\"#mb34814eee6\" y=\"194.422655\"/>\r\n     <use style=\"fill:#0000ff;stroke:#0000ff;\" x=\"176.358399\" xlink:href=\"#mb34814eee6\" y=\"206.898552\"/>\r\n     <use style=\"fill:#0000ff;stroke:#0000ff;\" x=\"337.375649\" xlink:href=\"#mb34814eee6\" y=\"168.207307\"/>\r\n     <use style=\"fill:#0000ff;stroke:#0000ff;\" x=\"100.156942\" xlink:href=\"#mb34814eee6\" y=\"138.433485\"/>\r\n     <use style=\"fill:#0000ff;stroke:#0000ff;\" x=\"176.818167\" xlink:href=\"#mb34814eee6\" y=\"175.090756\"/>\r\n     <use style=\"fill:#0000ff;stroke:#0000ff;\" x=\"214.090043\" xlink:href=\"#mb34814eee6\" y=\"188.097147\"/>\r\n     <use style=\"fill:#0000ff;stroke:#0000ff;\" x=\"259.141471\" xlink:href=\"#mb34814eee6\" y=\"216.798217\"/>\r\n     <use style=\"fill:#0000ff;stroke:#0000ff;\" x=\"424.418493\" xlink:href=\"#mb34814eee6\" y=\"146.329239\"/>\r\n     <use style=\"fill:#0000ff;stroke:#0000ff;\" x=\"130.379298\" xlink:href=\"#mb34814eee6\" y=\"166.239424\"/>\r\n     <use style=\"fill:#0000ff;stroke:#0000ff;\" x=\"288.35166\" xlink:href=\"#mb34814eee6\" y=\"201.688793\"/>\r\n     <use style=\"fill:#0000ff;stroke:#0000ff;\" x=\"327.613721\" xlink:href=\"#mb34814eee6\" y=\"180.725218\"/>\r\n     <use style=\"fill:#0000ff;stroke:#0000ff;\" x=\"53.430522\" xlink:href=\"#mb34814eee6\" y=\"106.431542\"/>\r\n     <use style=\"fill:#0000ff;stroke:#0000ff;\" x=\"335.21215\" xlink:href=\"#mb34814eee6\" y=\"134.231306\"/>\r\n     <use style=\"fill:#0000ff;stroke:#0000ff;\" x=\"115.74034\" xlink:href=\"#mb34814eee6\" y=\"148.275329\"/>\r\n     <use style=\"fill:#0000ff;stroke:#0000ff;\" x=\"62.772035\" xlink:href=\"#mb34814eee6\" y=\"115.99543\"/>\r\n     <use style=\"fill:#0000ff;stroke:#0000ff;\" x=\"506.633442\" xlink:href=\"#mb34814eee6\" y=\"79.421288\"/>\r\n     <use style=\"fill:#0000ff;stroke:#0000ff;\" x=\"515.043532\" xlink:href=\"#mb34814eee6\" y=\"112.135854\"/>\r\n     <use style=\"fill:#0000ff;stroke:#0000ff;\" x=\"436.080273\" xlink:href=\"#mb34814eee6\" y=\"130.755184\"/>\r\n     <use style=\"fill:#0000ff;stroke:#0000ff;\" x=\"183.08016\" xlink:href=\"#mb34814eee6\" y=\"175.536647\"/>\r\n     <use style=\"fill:#0000ff;stroke:#0000ff;\" x=\"79.154061\" xlink:href=\"#mb34814eee6\" y=\"78.49388\"/>\r\n     <use style=\"fill:#0000ff;stroke:#0000ff;\" x=\"373.724951\" xlink:href=\"#mb34814eee6\" y=\"166.361376\"/>\r\n     <use style=\"fill:#0000ff;stroke:#0000ff;\" x=\"251.147707\" xlink:href=\"#mb34814eee6\" y=\"179.439402\"/>\r\n     <use style=\"fill:#0000ff;stroke:#0000ff;\" x=\"91.390727\" xlink:href=\"#mb34814eee6\" y=\"140.017969\"/>\r\n     <use style=\"fill:#0000ff;stroke:#0000ff;\" x=\"278.780969\" xlink:href=\"#mb34814eee6\" y=\"210.562584\"/>\r\n     <use style=\"fill:#0000ff;stroke:#0000ff;\" x=\"47.37304\" xlink:href=\"#mb34814eee6\" y=\"86.070795\"/>\r\n     <use style=\"fill:#0000ff;stroke:#0000ff;\" x=\"486.763831\" xlink:href=\"#mb34814eee6\" y=\"77.939478\"/>\r\n     <use style=\"fill:#0000ff;stroke:#0000ff;\" x=\"160.062432\" xlink:href=\"#mb34814eee6\" y=\"152.936791\"/>\r\n     <use style=\"fill:#0000ff;stroke:#0000ff;\" x=\"362.821816\" xlink:href=\"#mb34814eee6\" y=\"186.170471\"/>\r\n     <use style=\"fill:#0000ff;stroke:#0000ff;\" x=\"186.644427\" xlink:href=\"#mb34814eee6\" y=\"147.21949\"/>\r\n     <use style=\"fill:#0000ff;stroke:#0000ff;\" x=\"291.281285\" xlink:href=\"#mb34814eee6\" y=\"214.385213\"/>\r\n     <use style=\"fill:#0000ff;stroke:#0000ff;\" x=\"304.661027\" xlink:href=\"#mb34814eee6\" y=\"169.210418\"/>\r\n     <use style=\"fill:#0000ff;stroke:#0000ff;\" x=\"122.937033\" xlink:href=\"#mb34814eee6\" y=\"107.836148\"/>\r\n     <use style=\"fill:#0000ff;stroke:#0000ff;\" x=\"517.028525\" xlink:href=\"#mb34814eee6\" y=\"90.172876\"/>\r\n     <use style=\"fill:#0000ff;stroke:#0000ff;\" x=\"419.374829\" xlink:href=\"#mb34814eee6\" y=\"152.380243\"/>\r\n     <use style=\"fill:#0000ff;stroke:#0000ff;\" x=\"501.919493\" xlink:href=\"#mb34814eee6\" y=\"79.670345\"/>\r\n     <use style=\"fill:#0000ff;stroke:#0000ff;\" x=\"479.48542\" xlink:href=\"#mb34814eee6\" y=\"110.935691\"/>\r\n     <use style=\"fill:#0000ff;stroke:#0000ff;\" x=\"330.368494\" xlink:href=\"#mb34814eee6\" y=\"210.243304\"/>\r\n     <use style=\"fill:#0000ff;stroke:#0000ff;\" x=\"493.068366\" xlink:href=\"#mb34814eee6\" y=\"87.714903\"/>\r\n     <use style=\"fill:#0000ff;stroke:#0000ff;\" x=\"74.54406\" xlink:href=\"#mb34814eee6\" y=\"152.303696\"/>\r\n     <use style=\"fill:#0000ff;stroke:#0000ff;\" x=\"128.525719\" xlink:href=\"#mb34814eee6\" y=\"147.680121\"/>\r\n     <use style=\"fill:#0000ff;stroke:#0000ff;\" x=\"52.816269\" xlink:href=\"#mb34814eee6\" y=\"134.779228\"/>\r\n     <use style=\"fill:#0000ff;stroke:#0000ff;\" x=\"193.484017\" xlink:href=\"#mb34814eee6\" y=\"145.577511\"/>\r\n     <use style=\"fill:#0000ff;stroke:#0000ff;\" x=\"225.29686\" xlink:href=\"#mb34814eee6\" y=\"201.434123\"/>\r\n     <use style=\"fill:#0000ff;stroke:#0000ff;\" x=\"166.374609\" xlink:href=\"#mb34814eee6\" y=\"179.161621\"/>\r\n     <use style=\"fill:#0000ff;stroke:#0000ff;\" x=\"446.295102\" xlink:href=\"#mb34814eee6\" y=\"105.9692\"/>\r\n     <use style=\"fill:#0000ff;stroke:#0000ff;\" x=\"209.264646\" xlink:href=\"#mb34814eee6\" y=\"209.021076\"/>\r\n     <use style=\"fill:#0000ff;stroke:#0000ff;\" x=\"171.188436\" xlink:href=\"#mb34814eee6\" y=\"168.662294\"/>\r\n     <use style=\"fill:#0000ff;stroke:#0000ff;\" x=\"302.645098\" xlink:href=\"#mb34814eee6\" y=\"153.879173\"/>\r\n     <use style=\"fill:#0000ff;stroke:#0000ff;\" x=\"100.875271\" xlink:href=\"#mb34814eee6\" y=\"179.448389\"/>\r\n     <use style=\"fill:#0000ff;stroke:#0000ff;\" x=\"432.966449\" xlink:href=\"#mb34814eee6\" y=\"128.080045\"/>\r\n     <use style=\"fill:#0000ff;stroke:#0000ff;\" x=\"67.542458\" xlink:href=\"#mb34814eee6\" y=\"119.085877\"/>\r\n     <use style=\"fill:#0000ff;stroke:#0000ff;\" x=\"525.717745\" xlink:href=\"#mb34814eee6\" y=\"43.685353\"/>\r\n     <use style=\"fill:#0000ff;stroke:#0000ff;\" x=\"417.924448\" xlink:href=\"#mb34814eee6\" y=\"167.776\"/>\r\n     <use style=\"fill:#0000ff;stroke:#0000ff;\" x=\"129.89814\" xlink:href=\"#mb34814eee6\" y=\"187.290448\"/>\r\n     <use style=\"fill:#0000ff;stroke:#0000ff;\" x=\"32.876332\" xlink:href=\"#mb34814eee6\" y=\"88.774173\"/>\r\n     <use style=\"fill:#0000ff;stroke:#0000ff;\" x=\"439.627854\" xlink:href=\"#mb34814eee6\" y=\"121.497317\"/>\r\n     <use style=\"fill:#0000ff;stroke:#0000ff;\" x=\"385.086883\" xlink:href=\"#mb34814eee6\" y=\"151.900192\"/>\r\n     <use style=\"fill:#0000ff;stroke:#0000ff;\" x=\"396.210525\" xlink:href=\"#mb34814eee6\" y=\"144.652015\"/>\r\n     <use style=\"fill:#0000ff;stroke:#0000ff;\" x=\"417.435093\" xlink:href=\"#mb34814eee6\" y=\"155.938896\"/>\r\n     <use style=\"fill:#0000ff;stroke:#0000ff;\" x=\"67.288349\" xlink:href=\"#mb34814eee6\" y=\"119.521301\"/>\r\n     <use style=\"fill:#0000ff;stroke:#0000ff;\" x=\"210.124614\" xlink:href=\"#mb34814eee6\" y=\"176.022199\"/>\r\n     <use style=\"fill:#0000ff;stroke:#0000ff;\" x=\"88.292567\" xlink:href=\"#mb34814eee6\" y=\"153.019757\"/>\r\n     <use style=\"fill:#0000ff;stroke:#0000ff;\" x=\"463.553665\" xlink:href=\"#mb34814eee6\" y=\"71.254815\"/>\r\n     <use style=\"fill:#0000ff;stroke:#0000ff;\" x=\"343.123444\" xlink:href=\"#mb34814eee6\" y=\"162.674975\"/>\r\n     <use style=\"fill:#0000ff;stroke:#0000ff;\" x=\"196.280113\" xlink:href=\"#mb34814eee6\" y=\"205.773227\"/>\r\n     <use style=\"fill:#0000ff;stroke:#0000ff;\" x=\"62.022129\" xlink:href=\"#mb34814eee6\" y=\"106.818578\"/>\r\n     <use style=\"fill:#0000ff;stroke:#0000ff;\" x=\"186.278447\" xlink:href=\"#mb34814eee6\" y=\"198.827443\"/>\r\n     <use style=\"fill:#0000ff;stroke:#0000ff;\" x=\"193.410189\" xlink:href=\"#mb34814eee6\" y=\"162.148967\"/>\r\n     <use style=\"fill:#0000ff;stroke:#0000ff;\" x=\"396.511348\" xlink:href=\"#mb34814eee6\" y=\"126.847166\"/>\r\n     <use style=\"fill:#0000ff;stroke:#0000ff;\" x=\"350.284487\" xlink:href=\"#mb34814eee6\" y=\"188.585211\"/>\r\n     <use style=\"fill:#0000ff;stroke:#0000ff;\" x=\"475.661364\" xlink:href=\"#mb34814eee6\" y=\"81.96129\"/>\r\n     <use style=\"fill:#0000ff;stroke:#0000ff;\" x=\"267.24946\" xlink:href=\"#mb34814eee6\" y=\"176.848296\"/>\r\n     <use style=\"fill:#0000ff;stroke:#0000ff;\" x=\"90.163355\" xlink:href=\"#mb34814eee6\" y=\"120.688579\"/>\r\n     <use style=\"fill:#0000ff;stroke:#0000ff;\" x=\"388.294657\" xlink:href=\"#mb34814eee6\" y=\"114.658317\"/>\r\n     <use style=\"fill:#0000ff;stroke:#0000ff;\" x=\"412.169376\" xlink:href=\"#mb34814eee6\" y=\"149.370233\"/>\r\n     <use style=\"fill:#0000ff;stroke:#0000ff;\" x=\"311.976534\" xlink:href=\"#mb34814eee6\" y=\"197.042706\"/>\r\n     <use style=\"fill:#0000ff;stroke:#0000ff;\" x=\"417.282843\" xlink:href=\"#mb34814eee6\" y=\"160.578713\"/>\r\n     <use style=\"fill:#0000ff;stroke:#0000ff;\" x=\"278.087273\" xlink:href=\"#mb34814eee6\" y=\"202.943274\"/>\r\n     <use style=\"fill:#0000ff;stroke:#0000ff;\" x=\"292.619552\" xlink:href=\"#mb34814eee6\" y=\"185.414375\"/>\r\n     <use style=\"fill:#0000ff;stroke:#0000ff;\" x=\"244.814224\" xlink:href=\"#mb34814eee6\" y=\"178.401054\"/>\r\n     <use style=\"fill:#0000ff;stroke:#0000ff;\" x=\"42.86861\" xlink:href=\"#mb34814eee6\" y=\"101.626707\"/>\r\n     <use style=\"fill:#0000ff;stroke:#0000ff;\" x=\"84.2862\" xlink:href=\"#mb34814eee6\" y=\"117.154541\"/>\r\n    </g>\r\n   </g>\r\n   <g id=\"patch_3\">\r\n    <path d=\"M 30.103125 228.439219 \r\nL 30.103125 10.999219 \r\n\" style=\"fill:none;stroke:#000000;stroke-linecap:square;stroke-linejoin:miter;stroke-width:0.8;\"/>\r\n   </g>\r\n   <g id=\"patch_4\">\r\n    <path d=\"M 532.303125 228.439219 \r\nL 532.303125 10.999219 \r\n\" style=\"fill:none;stroke:#000000;stroke-linecap:square;stroke-linejoin:miter;stroke-width:0.8;\"/>\r\n   </g>\r\n   <g id=\"patch_5\">\r\n    <path d=\"M 30.103125 228.439219 \r\nL 532.303125 228.439219 \r\n\" style=\"fill:none;stroke:#000000;stroke-linecap:square;stroke-linejoin:miter;stroke-width:0.8;\"/>\r\n   </g>\r\n   <g id=\"patch_6\">\r\n    <path d=\"M 30.103125 10.999219 \r\nL 532.303125 10.999219 \r\n\" style=\"fill:none;stroke:#000000;stroke-linecap:square;stroke-linejoin:miter;stroke-width:0.8;\"/>\r\n   </g>\r\n  </g>\r\n </g>\r\n <defs>\r\n  <clipPath id=\"p3957e275d8\">\r\n   <rect height=\"217.44\" width=\"502.2\" x=\"30.103125\" y=\"10.999219\"/>\r\n  </clipPath>\r\n </defs>\r\n</svg>\r\n",
      "image/png": "[encoded data removed]"
     },
     "metadata": {
      "needs_background": "light"
     }
    }
   ],
   "source": [
    "#初始化随机样本\n",
    "np.random.seed(42)\n",
    "m = 100\n",
    "X = 2 * np.random.rand(m, 1) - 1\n",
    "y = (0.2 + 0.1 * X + 0.5 * X**2 + np.random.randn(m, 1)/10).ravel()\n",
    "\n",
    "#实现SVR\n",
    "from sklearn.svm import SVR\n",
    "\n",
    "### START THE CODE ###\n",
    "\n",
    "svr_poly=SVR()\n",
    "svr_poly.fit(X,y)\n",
    "### END THE CODE  ###\n",
    "\n",
    "plt.figure(figsize=(9, 4))\n",
    "plot_svr(svr_poly, X, y, [-1, 1, 0, 1])"
   ]
  },
  {
   "cell_type": "markdown",
   "metadata": {},
   "source": [
    "对应此数据集，通过改变C参数可以看出C越小，图像弯曲程度越小，而C越大图像越弯曲，对此数据拟合效果越好。"
   ]
  },
  {
   "cell_type": "code",
   "execution_count": null,
   "metadata": {},
   "outputs": [],
   "source": []
  }
 ],
 "metadata": {
  "colab": {
   "name": "SVM.ipynb",
   "provenance": []
  },
  "kernelspec": {
   "display_name": "Python 3",
   "language": "python",
   "name": "python3"
  },
  "language_info": {
   "codemirror_mode": {
    "name": "ipython",
    "version": 3
   },
   "file_extension": ".py",
   "mimetype": "text/x-python",
   "name": "python",
   "nbconvert_exporter": "python",
   "pygments_lexer": "ipython3",
   "version": "3.8.3-final"
  }
 },
 "nbformat": 4,
 "nbformat_minor": 1
}